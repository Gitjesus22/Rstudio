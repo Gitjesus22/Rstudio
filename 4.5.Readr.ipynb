{
  "nbformat": 4,
  "nbformat_minor": 0,
  "metadata": {
    "colab": {
      "name": "3. Readr",
      "provenance": [],
      "collapsed_sections": [],
      "include_colab_link": true
    },
    "kernelspec": {
      "name": "ir",
      "display_name": "R"
    }
  },
  "cells": [
    {
      "cell_type": "markdown",
      "metadata": {
        "id": "view-in-github",
        "colab_type": "text"
      },
      "source": [
        "<a href=\"https://colab.research.google.com/github/Gitjesus22/Rstudio/blob/main/4.5.Readr.ipynb\" target=\"_parent\"><img src=\"https://colab.research.google.com/assets/colab-badge.svg\" alt=\"Open In Colab\"/></a>"
      ]
    },
    {
      "cell_type": "markdown",
      "metadata": {
        "id": "SYcYf_1qAHPm"
      },
      "source": [
        "<table><tr>\n",
        "<td><img src=\"https://solariabiodata.com.mx/wp-content/uploads/2021/07/logo_red.png\" alt=\"Soluciones de siguiente generacion\" width=200/>\n",
        "<td>\n",
        "<td>\n",
        "<td><img src=\"https://upload.wikimedia.org/wikipedia/commons/thumb/1/1b/R_logo.svg/160px-R_logo.svg.png\">\n",
        "<td><img src=\"https://d33wubrfki0l68.cloudfront.net/c1c91484f898fe9d7d90a570900f1d5cd703fe2e/d7df4/css/images/hex/readr.png\" width=200/>\n",
        "</tr></table>\n",
        "\n",
        "|Asegúrate de cargar la librería Tidyverse antes de comenzar a utilizar este notebook|\n",
        "|----------------------------------------|"
      ]
    },
    {
      "cell_type": "code",
      "source": [
        "library(tidyverse)\n",
        "install.packages(\"feather\")\n",
        "library(feather)"
      ],
      "metadata": {
        "colab": {
          "base_uri": "https://localhost:8080/"
        },
        "id": "ZNAelDZGTyZg",
        "outputId": "4c5a54bd-4762-457f-9538-9d077d6edc22"
      },
      "execution_count": null,
      "outputs": [
        {
          "output_type": "stream",
          "name": "stderr",
          "text": [
            "Warning message in system(\"timedatectl\", intern = TRUE):\n",
            "“running command 'timedatectl' had status 1”\n",
            "── \u001b[1mAttaching packages\u001b[22m ─────────────────────────────────────── tidyverse 1.3.1 ──\n",
            "\n",
            "\u001b[32m✔\u001b[39m \u001b[34mggplot2\u001b[39m 3.3.5     \u001b[32m✔\u001b[39m \u001b[34mpurrr  \u001b[39m 0.3.4\n",
            "\u001b[32m✔\u001b[39m \u001b[34mtibble \u001b[39m 3.1.6     \u001b[32m✔\u001b[39m \u001b[34mdplyr  \u001b[39m 1.0.8\n",
            "\u001b[32m✔\u001b[39m \u001b[34mtidyr  \u001b[39m 1.2.0     \u001b[32m✔\u001b[39m \u001b[34mstringr\u001b[39m 1.4.0\n",
            "\u001b[32m✔\u001b[39m \u001b[34mreadr  \u001b[39m 2.1.2     \u001b[32m✔\u001b[39m \u001b[34mforcats\u001b[39m 0.5.1\n",
            "\n",
            "── \u001b[1mConflicts\u001b[22m ────────────────────────────────────────── tidyverse_conflicts() ──\n",
            "\u001b[31m✖\u001b[39m \u001b[34mdplyr\u001b[39m::\u001b[32mfilter()\u001b[39m masks \u001b[34mstats\u001b[39m::filter()\n",
            "\u001b[31m✖\u001b[39m \u001b[34mdplyr\u001b[39m::\u001b[32mlag()\u001b[39m    masks \u001b[34mstats\u001b[39m::lag()\n",
            "\n",
            "Installing package into ‘/usr/local/lib/R/site-library’\n",
            "(as ‘lib’ is unspecified)\n",
            "\n",
            "also installing the dependency ‘Rcpp’\n",
            "\n",
            "\n"
          ]
        }
      ]
    },
    {
      "cell_type": "markdown",
      "metadata": {
        "id": "ksXzAli-6jxW"
      },
      "source": [
        "# Importación de datos\n",
        "Trabajar con datos incluidos en paquetes de R es una muy buena forma de empezar a conocer las herramientas de la ciencia de datos. Sin embargo, en algún punto deberás parar de aprender y comenzar a trabajar con tus propios datos. En este notebook aprenderás cómo leer en R archivos rectangulares de texto plano. Si bien solo tocaremos superficialmente el tema de importación, muchos de los principios que veremos son aplicables al trabajo como otras formas de datos.\n",
        "\n"
      ]
    },
    {
      "cell_type": "markdown",
      "metadata": {
        "id": "8eyvUIK0vlmD"
      },
      "source": [
        "## Comenzando\n",
        "\n",
        "\n",
        "\n",
        "\n"
      ]
    },
    {
      "cell_type": "markdown",
      "source": [
        "La mayoría de las funciones de **readr** se enfocan en transformar archivos planos en *data frames* :\n",
        "\n",
        "* `read_csv()` lee archivos delimitados por coma, `read_csv2()` lee archivos separados por punto y coma (comunes en países donde `,` es utilizada para separar decimales), `read_tsv()` lee archivos delimitados por tabulaciones y `read_delim()` archivos con cualquier delimitador.\n",
        "\n",
        "* `read_fwf()` lee archivos de ancho fijo. Puedes especificar los campos ya sea por su ancho, con `fwf_wwidths()`, o por su ubicación, con `fwf_positions()` . `read_table()` lee una variación común de estos archivos de ancho fijo en los que las columnas se encuentran separadas por espacios. \n",
        "\n",
        "* `read_log()` lee archivos de registro estilo Apache\n",
        "\n",
        "Todas estas funciones tienen una sintaxis similar, por lo que una vez que dominas una, puedes utilizar todas las demás con facilidad. En el resto del capítulo nos enfocaremos en `read_csv()`.\n",
        "\n",
        "Los archivos csv no solo son una de las formas de almacenamiento más comunes, sino que una vez que comprendas `read_csv()` podrás aplicar fácilmente tus conocimientos a todas las otras funciones de **readr**.\n",
        "\n",
        "El primer argumento de `read_csv()` es el más importante: es la ruta al archivo a leer."
      ],
      "metadata": {
        "id": "dPsgBcuXV0D2"
      }
    },
    {
      "cell_type": "code",
      "source": [
        "alturas <- read_csv(\"nombre_del_archivo.csv\")"
      ],
      "metadata": {
        "id": "7228QgAYV9G9"
      },
      "execution_count": null,
      "outputs": []
    },
    {
      "cell_type": "markdown",
      "source": [
        "Cuando ejecutas `read_csv()`, la función devuelve el nombre y tipo de datos en que se importó cada columna. Esta es una parte importante de **readr**. \n",
        "\n",
        "Puedes también definir un archivo CSV \"en línea\" (inline). Esto es útil para experimentar con **readr** y para crear ejemplos reproducibles para ser compartidos.\n"
      ],
      "metadata": {
        "id": "eXS7D7ibXA-e"
      }
    },
    {
      "cell_type": "code",
      "source": [
        "read_csv(\"a,b,c\n",
        "1,2,3\n",
        "4,5,6\")"
      ],
      "metadata": {
        "colab": {
          "base_uri": "https://localhost:8080/",
          "height": 282
        },
        "id": "1rtvmMYIXZcO",
        "outputId": "601862a6-d120-43fc-9d03-ad9f8d783cdd"
      },
      "execution_count": null,
      "outputs": [
        {
          "output_type": "stream",
          "name": "stderr",
          "text": [
            "\u001b[1mRows: \u001b[22m\u001b[34m2\u001b[39m \u001b[1mColumns: \u001b[22m\u001b[34m3\u001b[39m\n",
            "\u001b[36m──\u001b[39m \u001b[1mColumn specification\u001b[22m \u001b[36m────────────────────────────────────────────────────────\u001b[39m\n",
            "\u001b[1mDelimiter:\u001b[22m \",\"\n",
            "\u001b[32mdbl\u001b[39m (3): a, b, c\n",
            "\n",
            "\u001b[36mℹ\u001b[39m Use `spec()` to retrieve the full column specification for this data.\n",
            "\u001b[36mℹ\u001b[39m Specify the column types or set `show_col_types = FALSE` to quiet this message.\n"
          ]
        },
        {
          "output_type": "display_data",
          "data": {
            "text/html": [
              "<table class=\"dataframe\">\n",
              "<caption>A spec_tbl_df: 2 × 3</caption>\n",
              "<thead>\n",
              "\t<tr><th scope=col>a</th><th scope=col>b</th><th scope=col>c</th></tr>\n",
              "\t<tr><th scope=col>&lt;dbl&gt;</th><th scope=col>&lt;dbl&gt;</th><th scope=col>&lt;dbl&gt;</th></tr>\n",
              "</thead>\n",
              "<tbody>\n",
              "\t<tr><td>1</td><td>2</td><td>3</td></tr>\n",
              "\t<tr><td>4</td><td>5</td><td>6</td></tr>\n",
              "</tbody>\n",
              "</table>\n"
            ],
            "text/markdown": "\nA spec_tbl_df: 2 × 3\n\n| a &lt;dbl&gt; | b &lt;dbl&gt; | c &lt;dbl&gt; |\n|---|---|---|\n| 1 | 2 | 3 |\n| 4 | 5 | 6 |\n\n",
            "text/latex": "A spec\\_tbl\\_df: 2 × 3\n\\begin{tabular}{lll}\n a & b & c\\\\\n <dbl> & <dbl> & <dbl>\\\\\n\\hline\n\t 1 & 2 & 3\\\\\n\t 4 & 5 & 6\\\\\n\\end{tabular}\n",
            "text/plain": [
              "  a b c\n",
              "1 1 2 3\n",
              "2 4 5 6"
            ]
          },
          "metadata": {}
        }
      ]
    },
    {
      "cell_type": "markdown",
      "source": [
        "En ambos casos `read_csv()` emplea la primera línea de los datos para los nombres de columna, lo que es convención muy común. Hay dos casos en los que podrías querer ajustar este comportamiento:\n",
        "\n",
        "1. A veces hay unas pocas líneas de metadatos al comienzo del archivo. Puedes usar `skip = n` para omitir las primeras `n` líneas, o bien, usar `comment = #` para quitar todas las líneas que comienzan con, por ejemplo, `#`."
      ],
      "metadata": {
        "id": "NsHKQQLBX1pd"
      }
    },
    {
      "cell_type": "code",
      "source": [
        "read_csv(\"La primera línea de metadata\n",
        "La segunda línea de metadara\n",
        "x,y,z\n",
        "1,2,3\", skip = 2)"
      ],
      "metadata": {
        "colab": {
          "base_uri": "https://localhost:8080/",
          "height": 251
        },
        "id": "AYhEMIwWYOcO",
        "outputId": "ac435b64-7be7-489d-c7a3-a60879bfd7aa"
      },
      "execution_count": null,
      "outputs": [
        {
          "output_type": "stream",
          "name": "stderr",
          "text": [
            "\u001b[1mRows: \u001b[22m\u001b[34m1\u001b[39m \u001b[1mColumns: \u001b[22m\u001b[34m3\u001b[39m\n",
            "\u001b[36m──\u001b[39m \u001b[1mColumn specification\u001b[22m \u001b[36m────────────────────────────────────────────────────────\u001b[39m\n",
            "\u001b[1mDelimiter:\u001b[22m \",\"\n",
            "\u001b[32mdbl\u001b[39m (3): x, y, z\n",
            "\n",
            "\u001b[36mℹ\u001b[39m Use `spec()` to retrieve the full column specification for this data.\n",
            "\u001b[36mℹ\u001b[39m Specify the column types or set `show_col_types = FALSE` to quiet this message.\n"
          ]
        },
        {
          "output_type": "display_data",
          "data": {
            "text/html": [
              "<table class=\"dataframe\">\n",
              "<caption>A spec_tbl_df: 1 × 3</caption>\n",
              "<thead>\n",
              "\t<tr><th scope=col>x</th><th scope=col>y</th><th scope=col>z</th></tr>\n",
              "\t<tr><th scope=col>&lt;dbl&gt;</th><th scope=col>&lt;dbl&gt;</th><th scope=col>&lt;dbl&gt;</th></tr>\n",
              "</thead>\n",
              "<tbody>\n",
              "\t<tr><td>1</td><td>2</td><td>3</td></tr>\n",
              "</tbody>\n",
              "</table>\n"
            ],
            "text/markdown": "\nA spec_tbl_df: 1 × 3\n\n| x &lt;dbl&gt; | y &lt;dbl&gt; | z &lt;dbl&gt; |\n|---|---|---|\n| 1 | 2 | 3 |\n\n",
            "text/latex": "A spec\\_tbl\\_df: 1 × 3\n\\begin{tabular}{lll}\n x & y & z\\\\\n <dbl> & <dbl> & <dbl>\\\\\n\\hline\n\t 1 & 2 & 3\\\\\n\\end{tabular}\n",
            "text/plain": [
              "  x y z\n",
              "1 1 2 3"
            ]
          },
          "metadata": {}
        }
      ]
    },
    {
      "cell_type": "code",
      "source": [
        "read_csv(\"#Un comentario que quiero ignorar\n",
        "x,y,z\n",
        "1,2,3\", comment = \"#\")"
      ],
      "metadata": {
        "colab": {
          "base_uri": "https://localhost:8080/",
          "height": 251
        },
        "id": "1pqfqVxJYeG9",
        "outputId": "01687a8d-8f45-4df3-a0c4-f87ddf4c5de6"
      },
      "execution_count": null,
      "outputs": [
        {
          "output_type": "stream",
          "name": "stderr",
          "text": [
            "\u001b[1mRows: \u001b[22m\u001b[34m1\u001b[39m \u001b[1mColumns: \u001b[22m\u001b[34m3\u001b[39m\n",
            "\u001b[36m──\u001b[39m \u001b[1mColumn specification\u001b[22m \u001b[36m────────────────────────────────────────────────────────\u001b[39m\n",
            "\u001b[1mDelimiter:\u001b[22m \",\"\n",
            "\u001b[32mdbl\u001b[39m (3): x, y, z\n",
            "\n",
            "\u001b[36mℹ\u001b[39m Use `spec()` to retrieve the full column specification for this data.\n",
            "\u001b[36mℹ\u001b[39m Specify the column types or set `show_col_types = FALSE` to quiet this message.\n"
          ]
        },
        {
          "output_type": "display_data",
          "data": {
            "text/html": [
              "<table class=\"dataframe\">\n",
              "<caption>A spec_tbl_df: 1 × 3</caption>\n",
              "<thead>\n",
              "\t<tr><th scope=col>x</th><th scope=col>y</th><th scope=col>z</th></tr>\n",
              "\t<tr><th scope=col>&lt;dbl&gt;</th><th scope=col>&lt;dbl&gt;</th><th scope=col>&lt;dbl&gt;</th></tr>\n",
              "</thead>\n",
              "<tbody>\n",
              "\t<tr><td>1</td><td>2</td><td>3</td></tr>\n",
              "</tbody>\n",
              "</table>\n"
            ],
            "text/markdown": "\nA spec_tbl_df: 1 × 3\n\n| x &lt;dbl&gt; | y &lt;dbl&gt; | z &lt;dbl&gt; |\n|---|---|---|\n| 1 | 2 | 3 |\n\n",
            "text/latex": "A spec\\_tbl\\_df: 1 × 3\n\\begin{tabular}{lll}\n x & y & z\\\\\n <dbl> & <dbl> & <dbl>\\\\\n\\hline\n\t 1 & 2 & 3\\\\\n\\end{tabular}\n",
            "text/plain": [
              "  x y z\n",
              "1 1 2 3"
            ]
          },
          "metadata": {}
        }
      ]
    },
    {
      "cell_type": "markdown",
      "source": [
        "2. Los datos pueden no tener nombres de columna. En ese caso, puedes utilizar `col_names=FALSE` para decirle a `read_csv()` que no trate la primera fila como encabezados y que, en lugar de eso, los etiquete secuencialmente desde `x1` a `xn`:"
      ],
      "metadata": {
        "id": "GUlHZ64bYnn9"
      }
    },
    {
      "cell_type": "code",
      "source": [
        "read_csv(\"1,2,3\\n4,5,6\", col_names = FALSE)"
      ],
      "metadata": {
        "colab": {
          "base_uri": "https://localhost:8080/",
          "height": 282
        },
        "id": "4N7ve-b_ZAyB",
        "outputId": "a466e5f9-01ad-4272-a135-6735dd495a2c"
      },
      "execution_count": null,
      "outputs": [
        {
          "output_type": "stream",
          "name": "stderr",
          "text": [
            "\u001b[1mRows: \u001b[22m\u001b[34m2\u001b[39m \u001b[1mColumns: \u001b[22m\u001b[34m3\u001b[39m\n",
            "\u001b[36m──\u001b[39m \u001b[1mColumn specification\u001b[22m \u001b[36m────────────────────────────────────────────────────────\u001b[39m\n",
            "\u001b[1mDelimiter:\u001b[22m \",\"\n",
            "\u001b[32mdbl\u001b[39m (3): X1, X2, X3\n",
            "\n",
            "\u001b[36mℹ\u001b[39m Use `spec()` to retrieve the full column specification for this data.\n",
            "\u001b[36mℹ\u001b[39m Specify the column types or set `show_col_types = FALSE` to quiet this message.\n"
          ]
        },
        {
          "output_type": "display_data",
          "data": {
            "text/html": [
              "<table class=\"dataframe\">\n",
              "<caption>A spec_tbl_df: 2 × 3</caption>\n",
              "<thead>\n",
              "\t<tr><th scope=col>X1</th><th scope=col>X2</th><th scope=col>X3</th></tr>\n",
              "\t<tr><th scope=col>&lt;dbl&gt;</th><th scope=col>&lt;dbl&gt;</th><th scope=col>&lt;dbl&gt;</th></tr>\n",
              "</thead>\n",
              "<tbody>\n",
              "\t<tr><td>1</td><td>2</td><td>3</td></tr>\n",
              "\t<tr><td>4</td><td>5</td><td>6</td></tr>\n",
              "</tbody>\n",
              "</table>\n"
            ],
            "text/markdown": "\nA spec_tbl_df: 2 × 3\n\n| X1 &lt;dbl&gt; | X2 &lt;dbl&gt; | X3 &lt;dbl&gt; |\n|---|---|---|\n| 1 | 2 | 3 |\n| 4 | 5 | 6 |\n\n",
            "text/latex": "A spec\\_tbl\\_df: 2 × 3\n\\begin{tabular}{lll}\n X1 & X2 & X3\\\\\n <dbl> & <dbl> & <dbl>\\\\\n\\hline\n\t 1 & 2 & 3\\\\\n\t 4 & 5 & 6\\\\\n\\end{tabular}\n",
            "text/plain": [
              "  X1 X2 X3\n",
              "1 1  2  3 \n",
              "2 4  5  6 "
            ]
          },
          "metadata": {}
        }
      ]
    },
    {
      "cell_type": "markdown",
      "source": [
        "(`\"\\n\"` es un atajo conveniente para agregar una línea nueva)\n",
        "\n",
        "Alternativamente puedes utilizar `col_names` con el vector de carácteres que serán utilizados como nombres de columna: \n",
        "\n"
      ],
      "metadata": {
        "id": "Xy2ip_g6ZLYO"
      }
    },
    {
      "cell_type": "code",
      "source": [
        "read_csv(\"1,2,3\\n4,5,6\", col_names = c(\"x\", \"y\", \"z\"))"
      ],
      "metadata": {
        "colab": {
          "base_uri": "https://localhost:8080/",
          "height": 282
        },
        "id": "-bF_QPShZhjo",
        "outputId": "b21a0973-cd62-4a48-a28f-1d37fdfbc8fd"
      },
      "execution_count": null,
      "outputs": [
        {
          "output_type": "stream",
          "name": "stderr",
          "text": [
            "\u001b[1mRows: \u001b[22m\u001b[34m2\u001b[39m \u001b[1mColumns: \u001b[22m\u001b[34m3\u001b[39m\n",
            "\u001b[36m──\u001b[39m \u001b[1mColumn specification\u001b[22m \u001b[36m────────────────────────────────────────────────────────\u001b[39m\n",
            "\u001b[1mDelimiter:\u001b[22m \",\"\n",
            "\u001b[32mdbl\u001b[39m (3): x, y, z\n",
            "\n",
            "\u001b[36mℹ\u001b[39m Use `spec()` to retrieve the full column specification for this data.\n",
            "\u001b[36mℹ\u001b[39m Specify the column types or set `show_col_types = FALSE` to quiet this message.\n"
          ]
        },
        {
          "output_type": "display_data",
          "data": {
            "text/html": [
              "<table class=\"dataframe\">\n",
              "<caption>A spec_tbl_df: 2 × 3</caption>\n",
              "<thead>\n",
              "\t<tr><th scope=col>x</th><th scope=col>y</th><th scope=col>z</th></tr>\n",
              "\t<tr><th scope=col>&lt;dbl&gt;</th><th scope=col>&lt;dbl&gt;</th><th scope=col>&lt;dbl&gt;</th></tr>\n",
              "</thead>\n",
              "<tbody>\n",
              "\t<tr><td>1</td><td>2</td><td>3</td></tr>\n",
              "\t<tr><td>4</td><td>5</td><td>6</td></tr>\n",
              "</tbody>\n",
              "</table>\n"
            ],
            "text/markdown": "\nA spec_tbl_df: 2 × 3\n\n| x &lt;dbl&gt; | y &lt;dbl&gt; | z &lt;dbl&gt; |\n|---|---|---|\n| 1 | 2 | 3 |\n| 4 | 5 | 6 |\n\n",
            "text/latex": "A spec\\_tbl\\_df: 2 × 3\n\\begin{tabular}{lll}\n x & y & z\\\\\n <dbl> & <dbl> & <dbl>\\\\\n\\hline\n\t 1 & 2 & 3\\\\\n\t 4 & 5 & 6\\\\\n\\end{tabular}\n",
            "text/plain": [
              "  x y z\n",
              "1 1 2 3\n",
              "2 4 5 6"
            ]
          },
          "metadata": {}
        }
      ]
    },
    {
      "cell_type": "markdown",
      "source": [
        "Otra opción que comúnmente necesita ajustes es `na`(del inglés \"*not available*\" . Esto especifica el valor (o valores) que se utilizan para representar los valores faltantes en tu archivo: "
      ],
      "metadata": {
        "id": "5-_BPJAcZ1k9"
      }
    },
    {
      "cell_type": "code",
      "source": [
        "read_csv(\"a,b,c\\n1,2,.\", na = \".\")"
      ],
      "metadata": {
        "colab": {
          "base_uri": "https://localhost:8080/",
          "height": 268
        },
        "id": "gpcfh_cpaGPE",
        "outputId": "c8bde0e0-fecd-4bd3-d9b5-2a7c3a4d1ac0"
      },
      "execution_count": null,
      "outputs": [
        {
          "output_type": "stream",
          "name": "stderr",
          "text": [
            "\u001b[1mRows: \u001b[22m\u001b[34m1\u001b[39m \u001b[1mColumns: \u001b[22m\u001b[34m3\u001b[39m\n",
            "\u001b[36m──\u001b[39m \u001b[1mColumn specification\u001b[22m \u001b[36m────────────────────────────────────────────────────────\u001b[39m\n",
            "\u001b[1mDelimiter:\u001b[22m \",\"\n",
            "\u001b[32mdbl\u001b[39m (2): a, b\n",
            "\u001b[33mlgl\u001b[39m (1): c\n",
            "\n",
            "\u001b[36mℹ\u001b[39m Use `spec()` to retrieve the full column specification for this data.\n",
            "\u001b[36mℹ\u001b[39m Specify the column types or set `show_col_types = FALSE` to quiet this message.\n"
          ]
        },
        {
          "output_type": "display_data",
          "data": {
            "text/html": [
              "<table class=\"dataframe\">\n",
              "<caption>A spec_tbl_df: 1 × 3</caption>\n",
              "<thead>\n",
              "\t<tr><th scope=col>a</th><th scope=col>b</th><th scope=col>c</th></tr>\n",
              "\t<tr><th scope=col>&lt;dbl&gt;</th><th scope=col>&lt;dbl&gt;</th><th scope=col>&lt;lgl&gt;</th></tr>\n",
              "</thead>\n",
              "<tbody>\n",
              "\t<tr><td>1</td><td>2</td><td>NA</td></tr>\n",
              "</tbody>\n",
              "</table>\n"
            ],
            "text/markdown": "\nA spec_tbl_df: 1 × 3\n\n| a &lt;dbl&gt; | b &lt;dbl&gt; | c &lt;lgl&gt; |\n|---|---|---|\n| 1 | 2 | NA |\n\n",
            "text/latex": "A spec\\_tbl\\_df: 1 × 3\n\\begin{tabular}{lll}\n a & b & c\\\\\n <dbl> & <dbl> & <lgl>\\\\\n\\hline\n\t 1 & 2 & NA\\\\\n\\end{tabular}\n",
            "text/plain": [
              "  a b c \n",
              "1 1 2 NA"
            ]
          },
          "metadata": {}
        }
      ]
    },
    {
      "cell_type": "markdown",
      "source": [
        "## Comparación con R base"
      ],
      "metadata": {
        "id": "Gl-QmNaNbGJl"
      }
    },
    {
      "cell_type": "markdown",
      "source": [
        "Si has utilizado R anteriormente, tal vez te preguntas por qué no usamos `read.csv()`. Hay unas pocas buenas razones para preferir las funciones de readr sobre las equivalentes de R base:\n",
        "\n",
        "* Generalmente son mucho más rápidas (~10x) que sus equivalentes. Los trabajos que tienen un tiempo de ejecución prolongado poseen una barra de progreso para que puedas ver qué está ocurriendo. Si solo te interesa la velocidad, prueba `data.table::fread()`. No se ajusta tan bien con el **tidyverse**, pero puede ser bastante más rápido.\n",
        "\n",
        "* Producen tibbles, no convierten los vectores de caracteres a factores, no usan nombres de filas ni distorsionan los nombres de columnas. Estas son fuentes comunes de frustración al utilizar las funciones de R base.\n",
        "\n",
        "* Son más reproducibles. Las funciones de R base heredan ciertos comportamientos de tu sistema operativo y de las variables del ambiente, de modo que importar código que funciona bien en tu computadora puede no funcionar en la de otros."
      ],
      "metadata": {
        "id": "h4IVrsVtbJtk"
      }
    },
    {
      "cell_type": "markdown",
      "source": [
        "### Ejercicios"
      ],
      "metadata": {
        "id": "U_3rv9KdbcoU"
      }
    },
    {
      "cell_type": "markdown",
      "source": [
        "1. ¿Qué función utilizarías para leer un archivo donde los campos están separados con “|”?\n",
        "\n",
        "---"
      ],
      "metadata": {
        "id": "e0hBEgYBbeTF"
      }
    },
    {
      "cell_type": "markdown",
      "source": [
        "2. Además de `file`, `skip` y `comment`, ¿qué otros argumentos tienen en común `read_csv()` y `read_tsv()`?\n",
        "\n",
        "---"
      ],
      "metadata": {
        "id": "E49LTpFRbiCz"
      }
    },
    {
      "cell_type": "markdown",
      "source": [
        "3. ¿Cuáles son los argumentos más importantes de `read_fwf()`?\n",
        "\n",
        "---"
      ],
      "metadata": {
        "id": "daLwfTfWbtDD"
      }
    },
    {
      "cell_type": "markdown",
      "source": [
        "4. Algunas veces las cadenas de caracteres en un archivo csv contienen comas. Para evitar que causen problemas, deben estar rodeadas por comillas, como `\"` o `'`. Por convención, `read_csv()` asume que el caracter de separación será `\"`.¿Qué argumentos debes especificar para leer el siguiente texto en un *data frame*?"
      ],
      "metadata": {
        "id": "c4QFiRtVbxVb"
      }
    },
    {
      "cell_type": "code",
      "source": [
        "\"x,y\\n1,'a,b'\""
      ],
      "metadata": {
        "id": "rQE3ivpkb-dt"
      },
      "execution_count": null,
      "outputs": []
    },
    {
      "cell_type": "markdown",
      "source": [
        "---"
      ],
      "metadata": {
        "id": "kX-z7yh2cAQs"
      }
    },
    {
      "cell_type": "markdown",
      "source": [
        "5. Identifica qué está mal en cada uno de los siguientes archivos csv en línea (inline). ¿Qué pasa cuando corres el código?"
      ],
      "metadata": {
        "id": "EyndN5AkcCIM"
      }
    },
    {
      "cell_type": "code",
      "source": [
        "read_csv(\"a,b\\n1,2,3\\n4,5,6\")\n",
        "read_csv(\"a,b,c\\n1,2\\n1,2,3,4\")\n",
        "read_csv(\"a,b\\n\\\"1\")\n",
        "read_csv(\"a,b\\n1,2\\na,b\")\n",
        "read_csv(\"a;b\\n1;3\")"
      ],
      "metadata": {
        "id": "wgnFGa9acE7w"
      },
      "execution_count": null,
      "outputs": []
    },
    {
      "cell_type": "markdown",
      "source": [
        "---"
      ],
      "metadata": {
        "id": "-GWVQA3ocGr1"
      }
    },
    {
      "cell_type": "markdown",
      "source": [
        "## Segmentar un vector "
      ],
      "metadata": {
        "id": "IHA2eQDBcIKj"
      }
    },
    {
      "cell_type": "markdown",
      "source": [
        "Antes de entrar en detalles sobre cómo readr lee archivos del disco, necesitamos desviarnos un poco para hablar sobre las funciones `parse_*()` (del inglés analizar, segmentar). Estas funciones toman un vector de caracteres y devuelven un vector más especializado, como un vector lógico, numérico o una fecha:"
      ],
      "metadata": {
        "id": "KkvTVRiucKI2"
      }
    },
    {
      "cell_type": "code",
      "source": [
        "str(parse_logical(c(\"TRUE\", \"FALSE\", \"NA\")))\n",
        "\n",
        "str(parse_integer(c(\"1\", \"2\", \"3\")))\n",
        "\n",
        "str(parse_date(c(\"2010-01-01\", \"1979-10-14\")))\n"
      ],
      "metadata": {
        "colab": {
          "base_uri": "https://localhost:8080/"
        },
        "id": "wLsauO9FcQW7",
        "outputId": "3d90da38-38c3-4766-82f3-a6aa9460f6fc"
      },
      "execution_count": null,
      "outputs": [
        {
          "output_type": "stream",
          "name": "stdout",
          "text": [
            " logi [1:3] TRUE FALSE NA\n",
            " int [1:3] 1 2 3\n",
            " Date[1:2], format: \"2010-01-01\" \"1979-10-14\"\n"
          ]
        }
      ]
    },
    {
      "cell_type": "markdown",
      "source": [
        "Estas funciones son útiles por sí mismas, pero también son un bloque estructural importante para **readr**. Una vez que aprendas en esta sección cómo funcionan los segmentadores individuales, en la próxima volveremos atrás y veremos cómo se combinan entre ellos para analizar un archivo completo.\n",
        "\n",
        "Como todas las funciones dentro del **tidyverse**, las funciones parse_*()``  son uniformes: el primer argumento es un vector de caracteres a analizar y el argumento na especifica qué cadenas deberían ser tratadas como faltantes:"
      ],
      "metadata": {
        "id": "QLkgXsiDd11M"
      }
    },
    {
      "cell_type": "code",
      "source": [
        "parse_integer(c(\"1\", \"231\", \".\", \"456\"), na = \".\")"
      ],
      "metadata": {
        "colab": {
          "base_uri": "https://localhost:8080/",
          "height": 34
        },
        "id": "a2iUDpjjeETz",
        "outputId": "536e230f-b76e-4a5d-ab7c-92e3da9b79a4"
      },
      "execution_count": null,
      "outputs": [
        {
          "output_type": "display_data",
          "data": {
            "text/html": [
              "<style>\n",
              ".list-inline {list-style: none; margin:0; padding: 0}\n",
              ".list-inline>li {display: inline-block}\n",
              ".list-inline>li:not(:last-child)::after {content: \"\\00b7\"; padding: 0 .5ex}\n",
              "</style>\n",
              "<ol class=list-inline><li>1</li><li>231</li><li>&lt;NA&gt;</li><li>456</li></ol>\n"
            ],
            "text/markdown": "1. 1\n2. 231\n3. &lt;NA&gt;\n4. 456\n\n\n",
            "text/latex": "\\begin{enumerate*}\n\\item 1\n\\item 231\n\\item <NA>\n\\item 456\n\\end{enumerate*}\n",
            "text/plain": [
              "[1]   1 231  NA 456"
            ]
          },
          "metadata": {}
        }
      ]
    },
    {
      "cell_type": "markdown",
      "source": [
        "Si la segmentación falla, obtendrás una advertencia:"
      ],
      "metadata": {
        "id": "mRINp359fXpM"
      }
    },
    {
      "cell_type": "code",
      "source": [
        "x <- parse_integer(c(\"123\", \"345\", \"abc\", \"123.45\"))"
      ],
      "metadata": {
        "colab": {
          "base_uri": "https://localhost:8080/"
        },
        "id": "_0H_4WeUfZO1",
        "outputId": "4b8efa3a-5806-46ba-8a1b-4c632f8c6534"
      },
      "execution_count": null,
      "outputs": [
        {
          "output_type": "stream",
          "name": "stderr",
          "text": [
            "Warning message:\n",
            "“2 parsing failures.\n",
            "row col               expected actual\n",
            "  3  -- no trailing characters abc   \n",
            "  4  -- no trailing characters 123.45\n",
            "”\n"
          ]
        }
      ]
    },
    {
      "cell_type": "markdown",
      "source": [
        "Y las fallas aparecerán como faltantes en el output:"
      ],
      "metadata": {
        "id": "JS37H0Gzff6b"
      }
    },
    {
      "cell_type": "code",
      "source": [
        "x"
      ],
      "metadata": {
        "colab": {
          "base_uri": "https://localhost:8080/",
          "height": 34
        },
        "id": "zkBlkm71fg77",
        "outputId": "3bbb728c-7da2-437d-97bd-c2f47dfed46b"
      },
      "execution_count": null,
      "outputs": [
        {
          "output_type": "display_data",
          "data": {
            "text/html": [
              "<style>\n",
              ".list-inline {list-style: none; margin:0; padding: 0}\n",
              ".list-inline>li {display: inline-block}\n",
              ".list-inline>li:not(:last-child)::after {content: \"\\00b7\"; padding: 0 .5ex}\n",
              "</style>\n",
              "<ol class=list-inline><li>123</li><li>345</li><li>&lt;NA&gt;</li><li>&lt;NA&gt;</li></ol>\n"
            ],
            "text/markdown": "1. 123\n2. 345\n3. &lt;NA&gt;\n4. &lt;NA&gt;\n\n\n",
            "text/latex": "\\begin{enumerate*}\n\\item 123\n\\item 345\n\\item <NA>\n\\item <NA>\n\\end{enumerate*}\n",
            "text/plain": [
              "[1] 123 345  NA  NA\n",
              "attr(,\"problems\")\n",
              "\u001b[90m# A tibble: 2 × 4\u001b[39m\n",
              "    row   col expected               actual\n",
              "  \u001b[3m\u001b[90m<int>\u001b[39m\u001b[23m \u001b[3m\u001b[90m<int>\u001b[39m\u001b[23m \u001b[3m\u001b[90m<chr>\u001b[39m\u001b[23m                  \u001b[3m\u001b[90m<chr>\u001b[39m\u001b[23m \n",
              "\u001b[90m1\u001b[39m     3    \u001b[31mNA\u001b[39m no trailing characters abc   \n",
              "\u001b[90m2\u001b[39m     4    \u001b[31mNA\u001b[39m no trailing characters 123.45"
            ]
          },
          "metadata": {}
        }
      ]
    },
    {
      "cell_type": "markdown",
      "source": [
        "Si hay muchas fallas de segmentación, necesitarás utilizar `problems()` para obtener la totalidad de ellas. Esto devuelve un tibble que puedes luego manipular con **dplyr**."
      ],
      "metadata": {
        "id": "PMbBwNB1flYD"
      }
    },
    {
      "cell_type": "code",
      "source": [
        "problems(x)"
      ],
      "metadata": {
        "colab": {
          "base_uri": "https://localhost:8080/",
          "height": 161
        },
        "id": "bFpj6ou3fsr6",
        "outputId": "44f59378-157d-439a-caed-1f46015f3952"
      },
      "execution_count": null,
      "outputs": [
        {
          "output_type": "display_data",
          "data": {
            "text/html": [
              "<table class=\"dataframe\">\n",
              "<caption>A tibble: 2 × 4</caption>\n",
              "<thead>\n",
              "\t<tr><th scope=col>row</th><th scope=col>col</th><th scope=col>expected</th><th scope=col>actual</th></tr>\n",
              "\t<tr><th scope=col>&lt;int&gt;</th><th scope=col>&lt;int&gt;</th><th scope=col>&lt;chr&gt;</th><th scope=col>&lt;chr&gt;</th></tr>\n",
              "</thead>\n",
              "<tbody>\n",
              "\t<tr><td>3</td><td>NA</td><td>no trailing characters</td><td>abc   </td></tr>\n",
              "\t<tr><td>4</td><td>NA</td><td>no trailing characters</td><td>123.45</td></tr>\n",
              "</tbody>\n",
              "</table>\n"
            ],
            "text/markdown": "\nA tibble: 2 × 4\n\n| row &lt;int&gt; | col &lt;int&gt; | expected &lt;chr&gt; | actual &lt;chr&gt; |\n|---|---|---|---|\n| 3 | NA | no trailing characters | abc    |\n| 4 | NA | no trailing characters | 123.45 |\n\n",
            "text/latex": "A tibble: 2 × 4\n\\begin{tabular}{llll}\n row & col & expected & actual\\\\\n <int> & <int> & <chr> & <chr>\\\\\n\\hline\n\t 3 & NA & no trailing characters & abc   \\\\\n\t 4 & NA & no trailing characters & 123.45\\\\\n\\end{tabular}\n",
            "text/plain": [
              "  row col expected               actual\n",
              "1 3   NA  no trailing characters abc   \n",
              "2 4   NA  no trailing characters 123.45"
            ]
          },
          "metadata": {}
        }
      ]
    },
    {
      "cell_type": "markdown",
      "source": [
        "Utilizar segmentadores es más que nada una cuestión de entender qué está disponible y cómo enfrentar diferentes tipos de input. Hay ocho segmentadores particularmente importantes:\n",
        "\n",
        "1. `parse_logical()` y `parse_integer()`  analizan valores lógicos y números enteros respectivamente. No hay prácticamente nada que pueda salir mal con estos segmentadores, así que no los describiremos con detalle aquí.\n",
        "\n",
        "2. `parse_double()` es un segmentador numérico estricto, y `parse_number()` es un segmentador numérico flexible. Son más complicados de lo que podrías esperar debido a que los números se escriben de diferentes formas en distintas partes del mundo.\n",
        "\n",
        "3. `parse_character()` parece tan simple que no debería ser necesario. Pero una complicación lo hace bastante importante: la codificación de caracteres (*el encoding*).\n",
        "\n",
        "4. `parse_factor()` crea factores, la estructura de datos que R usa para representar variables categóricas con valores fijos y conocidos.\n",
        "\n",
        "5. `parse_datetime()`, `parse_date()` y `parse_time()` te permiten analizar diversas especificaciones de fechas y horas. Estos son los más complicados, ya que hay muchas formas diferentes de escribir las fechas."
      ],
      "metadata": {
        "id": "cE1ZfCe0f8Dq"
      }
    },
    {
      "cell_type": "markdown",
      "source": [
        "### Números"
      ],
      "metadata": {
        "id": "FOPDKRnigWZ6"
      }
    },
    {
      "cell_type": "markdown",
      "source": [
        "Pareciera que analizar un número debiese ser algo sencillo, pero hay tres problemas que pueden complicar el proceso:\n",
        "\n",
        "1. Las personas escriben los números de forma distinta en diferentes partes del mundo. Por ejemplo, algunos países utilizan `.` entre el entero y la fracción de un número real, mientras que otros utilizan `,`.\n",
        "\n",
        "2. A menudo los números están rodeados por otros caracteres que proporcionan algún contexto, como “$1000” o “10%”.\n",
        "\n",
        "3. Los números frecuentemente contienen caracteres de “agrupación” para hacerlos más fáciles de leer, como “1,000,000”. Estos caracteres de agrupación varían alrededor del mundo.\n",
        "\n",
        "Para enfrentar al primer problema, **readr** tiene el concepto de *“locale”* , un objeto que especifica las opciones de segmentación que difieren de un lugar a otro. Cuando segmentamos números, la opción más importante es el caracter que utilizas como símbolo decimal. Puedes sobreescribir el valor por defecto . creando un nuevo locale y estableciendo el argumento `decimal_mark` (del inglés marca decimal):"
      ],
      "metadata": {
        "id": "uMOAVkyDgheS"
      }
    },
    {
      "cell_type": "code",
      "source": [
        "parse_double(\"1.23\")\n",
        "\n",
        "parse_double(\"1,23\", locale = locale(decimal_mark = \",\"))\n"
      ],
      "metadata": {
        "colab": {
          "base_uri": "https://localhost:8080/",
          "height": 52
        },
        "id": "R7WBhT8hgyCR",
        "outputId": "a6e9b0fe-48c8-4207-b2cd-e29eb9925a61"
      },
      "execution_count": null,
      "outputs": [
        {
          "output_type": "display_data",
          "data": {
            "text/html": [
              "1.23"
            ],
            "text/markdown": "1.23",
            "text/latex": "1.23",
            "text/plain": [
              "[1] 1.23"
            ]
          },
          "metadata": {}
        },
        {
          "output_type": "display_data",
          "data": {
            "text/html": [
              "1.23"
            ],
            "text/markdown": "1.23",
            "text/latex": "1.23",
            "text/plain": [
              "[1] 1.23"
            ]
          },
          "metadata": {}
        }
      ]
    },
    {
      "cell_type": "markdown",
      "source": [
        "El locale por defecto de **readr** es EEUU-céntrico, porque generalmente R es EEUU-céntrico (por ejemplo, la documentación de R base está escrita en inglés norteamericano). Una aproximación alternativa podría ser probar y adivinar las opciones por defecto de tu sistema operativo. Esto es difícil de hacer y, lo que es más importante, hace que tu código sea frágil. Incluso si funciona en tu computadora, puede fallar cuando lo envíes a un/a colega en otro país.\n",
        "\n",
        "`parse_number()` responde al segundo problema: ignora los caracteres no-numéricos antes y después del número. Esto es particularmente útil para monedas y porcentajes, pero también sirve para extraer números insertos en texto."
      ],
      "metadata": {
        "id": "_P__yyl4g-Hi"
      }
    },
    {
      "cell_type": "code",
      "source": [
        "parse_number(\"$100\")\n",
        "\n",
        "parse_number(\"20%\")\n",
        "\n",
        "parse_number(\"It cost $123.45\")"
      ],
      "metadata": {
        "colab": {
          "base_uri": "https://localhost:8080/",
          "height": 69
        },
        "id": "yXD6DD-AhE36",
        "outputId": "342dc282-a131-4c89-b049-75cd7658dde7"
      },
      "execution_count": null,
      "outputs": [
        {
          "output_type": "display_data",
          "data": {
            "text/html": [
              "100"
            ],
            "text/markdown": "100",
            "text/latex": "100",
            "text/plain": [
              "[1] 100"
            ]
          },
          "metadata": {}
        },
        {
          "output_type": "display_data",
          "data": {
            "text/html": [
              "20"
            ],
            "text/markdown": "20",
            "text/latex": "20",
            "text/plain": [
              "[1] 20"
            ]
          },
          "metadata": {}
        },
        {
          "output_type": "display_data",
          "data": {
            "text/html": [
              "123.45"
            ],
            "text/markdown": "123.45",
            "text/latex": "123.45",
            "text/plain": [
              "[1] 123.45"
            ]
          },
          "metadata": {}
        }
      ]
    },
    {
      "cell_type": "markdown",
      "source": [
        "El problema final se puede enfrentar combinando `parse_number()` y el locale, ya que `parse_number()` ignorará el “símbolo decimal”:"
      ],
      "metadata": {
        "id": "f_YECOG9hP2i"
      }
    },
    {
      "cell_type": "code",
      "source": [
        "# Utilizado en América\n",
        "parse_number(\"$123,456,789\")\n",
        "\n",
        "# Utilizado en muchas regiones de Europa\n",
        "parse_number(\"123.456.789\", locale = locale(grouping_mark = \".\"))\n",
        "\n",
        "# Utilizado en Suiza\n",
        "parse_number(\"123'456'789\", locale = locale(grouping_mark = \"'\"))"
      ],
      "metadata": {
        "colab": {
          "base_uri": "https://localhost:8080/",
          "height": 69
        },
        "id": "NOuQhRoxhVOA",
        "outputId": "f3e90d49-9532-4e24-ed78-d55a018a33ab"
      },
      "execution_count": null,
      "outputs": [
        {
          "output_type": "display_data",
          "data": {
            "text/html": [
              "123456789"
            ],
            "text/markdown": "123456789",
            "text/latex": "123456789",
            "text/plain": [
              "[1] 123456789"
            ]
          },
          "metadata": {}
        },
        {
          "output_type": "display_data",
          "data": {
            "text/html": [
              "123456789"
            ],
            "text/markdown": "123456789",
            "text/latex": "123456789",
            "text/plain": [
              "[1] 123456789"
            ]
          },
          "metadata": {}
        },
        {
          "output_type": "display_data",
          "data": {
            "text/html": [
              "123456789"
            ],
            "text/markdown": "123456789",
            "text/latex": "123456789",
            "text/plain": [
              "[1] 123456789"
            ]
          },
          "metadata": {}
        }
      ]
    },
    {
      "cell_type": "markdown",
      "source": [
        "### Cadenas de texto (strings)"
      ],
      "metadata": {
        "id": "nPDZGuDghZrS"
      }
    },
    {
      "cell_type": "markdown",
      "source": [
        "En apariencia, `parse_character()` debería ser realmente simple — podría tan solo devolver su input. Desafortunadamente, la vida no es tan simple, dado que existen múltiples formas de representar la misma cadena de texto. Para entender qué está pasando, necesitamos profundizar en los detalles de cómo las computadoras representan las cadenas de texto. En R, podemos acceder a su representación subyacente empleando `charToRaw()`:"
      ],
      "metadata": {
        "id": "L5KvlIUchdNZ"
      }
    },
    {
      "cell_type": "code",
      "source": [
        "charToRaw(\"Hadley\")"
      ],
      "metadata": {
        "colab": {
          "base_uri": "https://localhost:8080/",
          "height": 34
        },
        "id": "Ix-2MVb1hmHj",
        "outputId": "e77d20c6-b6b5-4f50-f3e1-9e482b543997"
      },
      "execution_count": null,
      "outputs": [
        {
          "output_type": "display_data",
          "data": {
            "text/plain": [
              "[1] 48 61 64 6c 65 79"
            ]
          },
          "metadata": {}
        }
      ]
    },
    {
      "cell_type": "markdown",
      "source": [
        "Cada número hexadecimal representa un byte de información: `48` es H, `61` es a, y así. El mapeo desde un número hexadecimal a caracteres se denomina codificación o encoding y, en este caso, la codificación utilizada se llama ASCII. ASCII hace un muy buen trabajo representando caracteres del inglés, ya que es el **American** Standard Code for Information Interchange (del inglés Código Americano estandarizado para el intercambio de información).\n",
        "\n",
        "Las cosas se complican un poco más para lenguas distintas al inglés. En los comienzos de la computación existían muchos estándares de codificación para caracteres no-ingleses compitiendo. Para poder interpretar correctamente una cadena de texto se necesita conocer tanto los valores como la codificación. Por ejemplo, dos codificaciones comunes son Latin1 (conocida también como ISO-8859-1 y utilizada para las lenguas del oeste de Europa) y Latin2 (o ISO-8859-2, utilizada para las lenguas de Europa del este). En Latin1, el byte ‘b1’ es “Â±”, pero en Latin2, ¡es “ą”! Afortunadamente, en la actualidad hay un estándar que tiene soporte casi en todos lados: UTF-8. UTF-8 puede codificar casi cualquier caracter utilizado por humanos, así como muchos símbolos adicionales (¡como los emoji!).\n",
        "\n",
        "**readr** utiliza UTF-8 en todas partes: asume que tus datos están codificados en UTF-8 cuando los lee y lo emplea siempre cuando los escribe. Esta es una buena opción por defecto, pero fallará con datos producidos por sistemas más viejos que no entienden UTF-8. Si te sucede esto, tus cadenas de texto se verán extrañas cuando las imprimas en la consola. Algunas veces solo uno o dos caracteres estarán errados. Otras veces obtendrás un total jeroglífico. Por ejemplo:"
      ],
      "metadata": {
        "id": "67G_NAdciM3X"
      }
    },
    {
      "cell_type": "code",
      "source": [
        "x1 <- \"El Ni\\xf1o was particularly bad this year\"\n",
        "x2 <- \"\\x82\\xb1\\x82\\xf1\\x82\\xc9\\x82\\xbf\\x82\\xcd\"\n",
        "x1\n",
        "\n",
        "x2"
      ],
      "metadata": {
        "colab": {
          "base_uri": "https://localhost:8080/",
          "height": 52
        },
        "id": "i1UlXPu4iZwM",
        "outputId": "e8575b23-347d-4187-8932-f3951cb0f8b9"
      },
      "execution_count": null,
      "outputs": [
        {
          "output_type": "display_data",
          "data": {
            "text/html": [
              "'El Ni\\xf1o was particularly bad this year'"
            ],
            "text/markdown": "'El Ni\\xf1o was particularly bad this year'",
            "text/latex": "'El Ni\\textbackslash{}xf1o was particularly bad this year'",
            "text/plain": [
              "[1] \"El Ni\\xf1o was particularly bad this year\""
            ]
          },
          "metadata": {}
        },
        {
          "output_type": "display_data",
          "data": {
            "text/html": [
              "'\\x82\\xb1\\x82\\xf1\\x82ɂ\\xbf\\x82\\xcd'"
            ],
            "text/markdown": "'\\x82\\xb1\\x82\\xf1\\x82ɂ\\xbf\\x82\\xcd'",
            "text/latex": "'\\textbackslash{}x82\\textbackslash{}xb1\\textbackslash{}x82\\textbackslash{}xf1\\textbackslash{}x82ɂ\\textbackslash{}xbf\\textbackslash{}x82\\textbackslash{}xcd'",
            "text/plain": [
              "[1] \"\\x82\\xb1\\x82\\xf1\\x82ɂ\\xbf\\x82\\xcd\""
            ]
          },
          "metadata": {}
        }
      ]
    },
    {
      "cell_type": "markdown",
      "source": [
        "Para corregir el problema necesitas especificar la codificación en `parse_character()`:"
      ],
      "metadata": {
        "id": "8FpfLMStijib"
      }
    },
    {
      "cell_type": "code",
      "source": [
        "parse_character(x1, locale = locale(encoding = \"Latin1\"))\n",
        "\n",
        "parse_character(x2, locale = locale(encoding = \"Shift-JIS\"))\n"
      ],
      "metadata": {
        "colab": {
          "base_uri": "https://localhost:8080/",
          "height": 52
        },
        "id": "mUYFCv4Jimap",
        "outputId": "bdf5d55d-861a-4a85-e127-3bb62b34aa6c"
      },
      "execution_count": null,
      "outputs": [
        {
          "output_type": "display_data",
          "data": {
            "text/html": [
              "'El Niño was particularly bad this year'"
            ],
            "text/markdown": "'El Niño was particularly bad this year'",
            "text/latex": "'El Niño was particularly bad this year'",
            "text/plain": [
              "[1] \"El Niño was particularly bad this year\""
            ]
          },
          "metadata": {}
        },
        {
          "output_type": "display_data",
          "data": {
            "text/html": [
              "'こんにちは'"
            ],
            "text/markdown": "'こんにちは'",
            "text/latex": "'こんにちは'",
            "text/plain": [
              "[1] \"こんにちは\""
            ]
          },
          "metadata": {}
        }
      ]
    },
    {
      "cell_type": "markdown",
      "source": [
        "¿Cómo encontrar la codificación correcta? Si tienes suerte, estará incluida en alguna parte de la documentación de los datos. Desafortunadamente raras veces ese es el caso, así que **readr** provee la función `guess_encoding()` para ayudarte a adivinarla. No es a prueba de tontos y funciona mejor cuando tienes mucho texto (a diferencia de aquí), pero es un punto de inicio razonable. Es esperable hacer varias pruebas con diferentes codificaciones antes de encontrar la correcta."
      ],
      "metadata": {
        "id": "6WcurZh1iv2J"
      }
    },
    {
      "cell_type": "code",
      "source": [
        "guess_encoding(charToRaw(x1))"
      ],
      "metadata": {
        "colab": {
          "base_uri": "https://localhost:8080/",
          "height": 161
        },
        "id": "nvULUl_6i1Cn",
        "outputId": "f102d18e-7680-4f8b-9b22-34012e19194e"
      },
      "execution_count": null,
      "outputs": [
        {
          "output_type": "display_data",
          "data": {
            "text/html": [
              "<table class=\"dataframe\">\n",
              "<caption>A tibble: 2 × 2</caption>\n",
              "<thead>\n",
              "\t<tr><th scope=col>encoding</th><th scope=col>confidence</th></tr>\n",
              "\t<tr><th scope=col>&lt;chr&gt;</th><th scope=col>&lt;dbl&gt;</th></tr>\n",
              "</thead>\n",
              "<tbody>\n",
              "\t<tr><td>ISO-8859-1</td><td>0.46</td></tr>\n",
              "\t<tr><td>ISO-8859-9</td><td>0.23</td></tr>\n",
              "</tbody>\n",
              "</table>\n"
            ],
            "text/markdown": "\nA tibble: 2 × 2\n\n| encoding &lt;chr&gt; | confidence &lt;dbl&gt; |\n|---|---|\n| ISO-8859-1 | 0.46 |\n| ISO-8859-9 | 0.23 |\n\n",
            "text/latex": "A tibble: 2 × 2\n\\begin{tabular}{ll}\n encoding & confidence\\\\\n <chr> & <dbl>\\\\\n\\hline\n\t ISO-8859-1 & 0.46\\\\\n\t ISO-8859-9 & 0.23\\\\\n\\end{tabular}\n",
            "text/plain": [
              "  encoding   confidence\n",
              "1 ISO-8859-1 0.46      \n",
              "2 ISO-8859-9 0.23      "
            ]
          },
          "metadata": {}
        }
      ]
    },
    {
      "cell_type": "code",
      "source": [
        "guess_encoding(charToRaw(x2))"
      ],
      "metadata": {
        "colab": {
          "base_uri": "https://localhost:8080/",
          "height": 130
        },
        "id": "7D7W1PURi4RI",
        "outputId": "6ce8b34c-4f69-4bad-e2a3-33679540f4e0"
      },
      "execution_count": null,
      "outputs": [
        {
          "output_type": "display_data",
          "data": {
            "text/html": [
              "<table class=\"dataframe\">\n",
              "<caption>A tibble: 1 × 2</caption>\n",
              "<thead>\n",
              "\t<tr><th scope=col>encoding</th><th scope=col>confidence</th></tr>\n",
              "\t<tr><th scope=col>&lt;chr&gt;</th><th scope=col>&lt;dbl&gt;</th></tr>\n",
              "</thead>\n",
              "<tbody>\n",
              "\t<tr><td>KOI8-R</td><td>0.42</td></tr>\n",
              "</tbody>\n",
              "</table>\n"
            ],
            "text/markdown": "\nA tibble: 1 × 2\n\n| encoding &lt;chr&gt; | confidence &lt;dbl&gt; |\n|---|---|\n| KOI8-R | 0.42 |\n\n",
            "text/latex": "A tibble: 1 × 2\n\\begin{tabular}{ll}\n encoding & confidence\\\\\n <chr> & <dbl>\\\\\n\\hline\n\t KOI8-R & 0.42\\\\\n\\end{tabular}\n",
            "text/plain": [
              "  encoding confidence\n",
              "1 KOI8-R   0.42      "
            ]
          },
          "metadata": {}
        }
      ]
    },
    {
      "cell_type": "markdown",
      "source": [
        "El primer argumento para `guess_encoding()` puede ser la ruta a un archivo o, como en este caso, un vector en bruto (útil si el texto ya se encuentra en R). Las codificaciones son un tema rico y complejo y solo te hemos mostrado la superficie acá."
      ],
      "metadata": {
        "id": "qrtdwXyci9OD"
      }
    },
    {
      "cell_type": "markdown",
      "source": [
        "### Factores"
      ],
      "metadata": {
        "id": "3kNpurtkjGDB"
      }
    },
    {
      "cell_type": "markdown",
      "source": [
        "R utiliza factores para representar las variables categóricas que tienen un conjunto conocido de valores posibles. Puedes darle a `parse_factor()` un vector de niveles conocidos (`levels`) para generar una advertencia cada vez que haya un valor inesperado:"
      ],
      "metadata": {
        "id": "BpEJ5rUJjHRZ"
      }
    },
    {
      "cell_type": "code",
      "source": [
        "fruta <- c(\"manzana\", \"banana\")\n",
        "parse_factor(c(\"manzana\", \"banana\", \"bananana\"), levels = fruta)"
      ],
      "metadata": {
        "colab": {
          "base_uri": "https://localhost:8080/",
          "height": 156
        },
        "id": "f_1JRqVKjSXQ",
        "outputId": "1c386d4d-2481-46e6-c215-fc493beace14"
      },
      "execution_count": null,
      "outputs": [
        {
          "output_type": "stream",
          "name": "stderr",
          "text": [
            "Warning message:\n",
            "“1 parsing failure.\n",
            "row col           expected   actual\n",
            "  3  -- value in level set bananana\n",
            "”\n"
          ]
        },
        {
          "output_type": "display_data",
          "data": {
            "text/html": [
              "<style>\n",
              ".list-inline {list-style: none; margin:0; padding: 0}\n",
              ".list-inline>li {display: inline-block}\n",
              ".list-inline>li:not(:last-child)::after {content: \"\\00b7\"; padding: 0 .5ex}\n",
              "</style>\n",
              "<ol class=list-inline><li>manzana</li><li>banana</li><li>&lt;NA&gt;</li></ol>\n",
              "\n",
              "<details>\n",
              "\t<summary style=display:list-item;cursor:pointer>\n",
              "\t\t<strong>Levels</strong>:\n",
              "\t</summary>\n",
              "\t<style>\n",
              "\t.list-inline {list-style: none; margin:0; padding: 0}\n",
              "\t.list-inline>li {display: inline-block}\n",
              "\t.list-inline>li:not(:last-child)::after {content: \"\\00b7\"; padding: 0 .5ex}\n",
              "\t</style>\n",
              "\t<ol class=list-inline><li>'manzana'</li><li>'banana'</li></ol>\n",
              "</details>"
            ],
            "text/markdown": "1. manzana\n2. banana\n3. &lt;NA&gt;\n\n\n\n**Levels**: 1. 'manzana'\n2. 'banana'\n\n\n",
            "text/latex": "\\begin{enumerate*}\n\\item manzana\n\\item banana\n\\item <NA>\n\\end{enumerate*}\n\n\\emph{Levels}: \\begin{enumerate*}\n\\item 'manzana'\n\\item 'banana'\n\\end{enumerate*}\n",
            "text/plain": [
              "[1] manzana banana  <NA>   \n",
              "attr(,\"problems\")\n",
              "\u001b[90m# A tibble: 1 × 4\u001b[39m\n",
              "    row   col expected           actual  \n",
              "  \u001b[3m\u001b[90m<int>\u001b[39m\u001b[23m \u001b[3m\u001b[90m<int>\u001b[39m\u001b[23m \u001b[3m\u001b[90m<chr>\u001b[39m\u001b[23m              \u001b[3m\u001b[90m<chr>\u001b[39m\u001b[23m   \n",
              "\u001b[90m1\u001b[39m     3    \u001b[31mNA\u001b[39m value in level set bananana\n",
              "Levels: manzana banana"
            ]
          },
          "metadata": {}
        }
      ]
    },
    {
      "cell_type": "markdown",
      "source": [
        "### Fechas, fechas-horas, y horas"
      ],
      "metadata": {
        "id": "d_d4YaoBjhES"
      }
    },
    {
      "cell_type": "markdown",
      "source": [
        "Debes elegir entre tres segmentadores dependiendo de si quieres una fecha (el número de los días desde el 01-01-1970), una fecha-hora (el número de segundos desde la medianoche del 01-01-1970) o una hora (el número de segundos desde la medianoche). Cuando se llaman sin argumentos adicionales:\n",
        "\n",
        "* `parse_datetime()` asume una fecha-hora ISO8601. ISO8601 es un estándar internacional en el que los componentes de una fecha están organizados de mayor a menor: año, mes, día, hora, minuto, segundo."
      ],
      "metadata": {
        "id": "YtUe_zYfjmmg"
      }
    },
    {
      "cell_type": "code",
      "source": [
        "parse_datetime(\"2010-10-01T2010\")\n",
        "\n",
        "# Si se omite la hora, será determinada como medianoche.\n",
        "parse_datetime(\"20101010\")"
      ],
      "metadata": {
        "colab": {
          "base_uri": "https://localhost:8080/",
          "height": 52
        },
        "id": "_bxOk8eNjrQG",
        "outputId": "102c0f06-f4dd-4f42-8aae-55e25724790f"
      },
      "execution_count": null,
      "outputs": [
        {
          "output_type": "display_data",
          "data": {
            "text/plain": [
              "[1] \"2010-10-01 20:10:00 UTC\""
            ]
          },
          "metadata": {}
        },
        {
          "output_type": "display_data",
          "data": {
            "text/plain": [
              "[1] \"2010-10-10 UTC\""
            ]
          },
          "metadata": {}
        }
      ]
    },
    {
      "cell_type": "markdown",
      "source": [
        "Esta es la estandarización de fecha/hora más importante. Si trabajas con fechas y horas frecuentemente, te recomendamos que leas https://en.wikipedia.org/wiki/ISO_8601\n",
        "\n",
        "* `parse_date()` asume un año de cuatro dígitos, un guión - o /, el mes, un guión - o / y luego el día."
      ],
      "metadata": {
        "id": "CKsZsLfsjzUQ"
      }
    },
    {
      "cell_type": "code",
      "source": [
        "parse_date(\"2010-10-01\")"
      ],
      "metadata": {
        "colab": {
          "base_uri": "https://localhost:8080/",
          "height": 34
        },
        "id": "cUVz2DXHj70q",
        "outputId": "08f36fdb-e645-448f-8586-57e711b2396b"
      },
      "execution_count": null,
      "outputs": [
        {
          "output_type": "display_data",
          "data": {
            "text/html": [
              "<time datetime=\"2010-10-01\">2010-10-01</time>"
            ],
            "text/markdown": "2010-10-01",
            "text/latex": "2010-10-01",
            "text/plain": [
              "[1] \"2010-10-01\""
            ]
          },
          "metadata": {}
        }
      ]
    },
    {
      "cell_type": "markdown",
      "source": [
        "* `parse_time()` espera la hora, :, minutos, opcionalmente : y segundos, y un especificador opcional am/pm:"
      ],
      "metadata": {
        "id": "zoq_1WI8kB-R"
      }
    },
    {
      "cell_type": "code",
      "source": [
        "library(hms)\n",
        "parse_time(\"01:10 am\")\n",
        "parse_time(\"20:10:01\")"
      ],
      "metadata": {
        "colab": {
          "base_uri": "https://localhost:8080/",
          "height": 52
        },
        "id": "qwZffKtAj-nj",
        "outputId": "415cbf27-0a7c-4dc4-d0c6-d3103c986326"
      },
      "execution_count": null,
      "outputs": [
        {
          "output_type": "display_data",
          "data": {
            "text/plain": [
              "01:10:00"
            ]
          },
          "metadata": {}
        },
        {
          "output_type": "display_data",
          "data": {
            "text/plain": [
              "20:10:01"
            ]
          },
          "metadata": {}
        }
      ]
    },
    {
      "cell_type": "markdown",
      "source": [
        "R base no tiene incorporada una muy buena clase para datos temporales, por lo que usamos la provista en el paquete **hms**.\n",
        "\n",
        "Si esos valores por defecto no funcionan con tus datos, puedes proporcionar tu propio formato fecha-hora construido con las siguientes piezas:\n",
        "\n",
        "**Año**\n",
        "\n",
        "`%Y` (4 dígitos).\n",
        "\n",
        "`%y` (2 dígitos); 00-69 -> 2000-2069, 70-99 -> 1970-1999.\n",
        "\n",
        "**Mes**\n",
        "\n",
        "`%m` (2 dígitos).\n",
        "\n",
        "`%b` (nombre abreviado, como “ene”).\n",
        "\n",
        "`%B` (nombre completo, “enero”).\n",
        "\n",
        "**Día**\n",
        "\n",
        "`%d` (2 dígitos).\n",
        "\n",
        "`%e` (espacio opcional destacado).\n",
        "\n",
        "**Hora**\n",
        "\n",
        "`%H` 0-23 horas.\n",
        "\n",
        "`%I` 0-12, debe utilizarse con %p.\n",
        "\n",
        "`%p` indicador AM/PM.\n",
        "\n",
        "`%M` minutos.\n",
        "\n",
        "`%S` segundos enteros.\n",
        "\n",
        "`%OS` segundos reales.\n",
        "\n",
        "`%Z` Zona horaria (como nombre, por ejemplo, `America/Chicago`). \n",
        "\n",
        "`%z` (como complemento para las UTC, por ejemplo, `+0800`).\n",
        "\n",
        "**No-dígitos**\n",
        "\n",
        "`%.` se salta un caracter no-dígito.\n",
        "\n",
        "`%*` se salta cualquier número de caracteres no-dígitos.\n",
        "\n",
        "La mejor manera de deducir el formato correcto es crear unos pocos ejemplos en un vector de caracteres y probarlos con una de las funciones de segmentación. Por ejemplo:"
      ],
      "metadata": {
        "id": "CN6szBpmkQwC"
      }
    },
    {
      "cell_type": "code",
      "source": [
        "parse_date(\"01/02/15\", \"%m/%d/%y\")\n",
        "\n",
        "parse_date(\"01/02/15\", \"%d/%m/%y\")\n",
        "\n",
        "parse_date(\"01/02/15\", \"%y/%m/%d\")"
      ],
      "metadata": {
        "colab": {
          "base_uri": "https://localhost:8080/",
          "height": 69
        },
        "id": "xGgVcKYMk95g",
        "outputId": "603c021c-3fa4-4f03-f9b1-01dd845be9cc"
      },
      "execution_count": null,
      "outputs": [
        {
          "output_type": "display_data",
          "data": {
            "text/html": [
              "<time datetime=\"2015-01-02\">2015-01-02</time>"
            ],
            "text/markdown": "2015-01-02",
            "text/latex": "2015-01-02",
            "text/plain": [
              "[1] \"2015-01-02\""
            ]
          },
          "metadata": {}
        },
        {
          "output_type": "display_data",
          "data": {
            "text/html": [
              "<time datetime=\"2015-02-01\">2015-02-01</time>"
            ],
            "text/markdown": "2015-02-01",
            "text/latex": "2015-02-01",
            "text/plain": [
              "[1] \"2015-02-01\""
            ]
          },
          "metadata": {}
        },
        {
          "output_type": "display_data",
          "data": {
            "text/html": [
              "<time datetime=\"2001-02-15\">2001-02-15</time>"
            ],
            "text/markdown": "2001-02-15",
            "text/latex": "2001-02-15",
            "text/plain": [
              "[1] \"2001-02-15\""
            ]
          },
          "metadata": {}
        }
      ]
    },
    {
      "cell_type": "markdown",
      "source": [
        "### Ejercicios"
      ],
      "metadata": {
        "id": "5hMwz44blELh"
      }
    },
    {
      "cell_type": "markdown",
      "source": [
        "1. ¿Cuáles son los argumentos más importantes para `locale()`?\n",
        "\n",
        "---"
      ],
      "metadata": {
        "id": "PfPC-OZdlGQI"
      }
    },
    {
      "cell_type": "markdown",
      "source": [
        "2. ¿Qué pasa si intentas establecer `decimal_mark` y `grouping_mark` como el mismo caracter? ¿Qué pasa con el valor por defecto de `grouping_mark` cuando estableces `decimal_mark` como `,`? ¿Qué pasa con el valor por defecto de `decimal_mark` cuando estableces `grouping_mark` como `.`?\n",
        "\n",
        "---"
      ],
      "metadata": {
        "id": "kEEak_bnlKCE"
      }
    },
    {
      "cell_type": "markdown",
      "source": [
        "3. No discutimos las opciones de `date_format` y `time_format` para `locale()`. ¿Qué hacen? Construye un ejemplo que muestre cuándo podrían ser útiles.\n",
        "\n",
        "---"
      ],
      "metadata": {
        "id": "2Hr-zmV2lg_h"
      }
    },
    {
      "cell_type": "markdown",
      "source": [
        "4. Si vives fuera de EEUU, crea un nuevo objeto locale que contenga las opciones para los tipos de archivo que lees más comúnmente.\n",
        "\n",
        "---"
      ],
      "metadata": {
        "id": "tqzYjwxFlqLR"
      }
    },
    {
      "cell_type": "markdown",
      "source": [
        "5. ¿Cuál es la diferencia entre `read_csv()` y `read_csv2()`?\n",
        "\n",
        "---"
      ],
      "metadata": {
        "id": "7q8Fy_ymls91"
      }
    },
    {
      "cell_type": "markdown",
      "source": [
        "6. ¿Cuáles son las codificaciones más comunes empleadas en Europa? ¿Cuáles son las codificaciones más comunes utilizadas en Asia? ¿Y en América Latina? Googlea un poco para descubrirlo.\n",
        "\n",
        "---"
      ],
      "metadata": {
        "id": "9JWfrthsl0RB"
      }
    },
    {
      "cell_type": "markdown",
      "source": [
        "7. Genera el formato correcto de texto para segmentar cada una de las siguientes fechas y horas:\n",
        "\n"
      ],
      "metadata": {
        "id": "law6oZspl20Z"
      }
    },
    {
      "cell_type": "code",
      "source": [
        "d1 <- \"Enero 1, 2010\"\n",
        "d2 <- \"2015-Ene-07\"\n",
        "d3 <- \"06-Jun-2017\"\n",
        "d4 <- c(\"Augosto 19 (2015)\", \"Julio 1 (2015)\")\n",
        "d5 <- \"12/30/14\" # Dec 30, 2014\n",
        "t1 <- \"1705\"\n",
        "t2 <- \"11:15:10.12 PM\""
      ],
      "metadata": {
        "id": "mjSj9miil5IP"
      },
      "execution_count": null,
      "outputs": []
    },
    {
      "cell_type": "markdown",
      "source": [
        "---"
      ],
      "metadata": {
        "id": "w8l4RcEIl6nY"
      }
    },
    {
      "cell_type": "markdown",
      "source": [
        "## Segmentar un archivo"
      ],
      "metadata": {
        "id": "UpbRr2DBl8Rg"
      }
    },
    {
      "cell_type": "markdown",
      "source": [
        "Ahora que aprendiste cómo analizar un vector individual, es tiempo de volver al comienzo y explorar cómo **readr** analiza un archivo. Hay dos cosas nuevas que aprenderás al respecto en esta sección:\n",
        "\n",
        "1. Cómo **readr** deduce automáticamente el tipo de cada columna.\n",
        "2. Cómo sobreescribir las especificaciones por defecto."
      ],
      "metadata": {
        "id": "8oQ4Hzsil-Q4"
      }
    },
    {
      "cell_type": "markdown",
      "source": [
        "### Estrategia"
      ],
      "metadata": {
        "id": "1hcMBuNcmF8w"
      }
    },
    {
      "cell_type": "markdown",
      "source": [
        "**readr** utiliza una heurística para deducir el tipo de cada columna: lee las primeras 1000 filas y utiliza una heurística (moderadamente conservadora) para deducir el formato de las columnas. Puedes simular este proceso con un vector de caracteres utilizando `guess_parser()`, que devuelve la mejor deducción de **readr**, y `parse_guess()` que utiliza esa deducción para analizar la columna:\n",
        "\n"
      ],
      "metadata": {
        "id": "x0Ode9_OmJaw"
      }
    },
    {
      "cell_type": "code",
      "source": [
        "guess_parser(\"2010-10-01\")\n",
        "\n",
        "guess_parser(\"15:01\")\n",
        "\n",
        "guess_parser(c(\"TRUE\", \"FALSE\"))\n",
        "\n",
        "guess_parser(c(\"1\", \"5\", \"9\"))\n",
        "\n",
        "guess_parser(c(\"12,352,561\"))\n",
        "\n",
        "str(parse_guess(\"2010-10-10\"))"
      ],
      "metadata": {
        "colab": {
          "base_uri": "https://localhost:8080/",
          "height": 121
        },
        "id": "CvzPTD67mhg4",
        "outputId": "edfd3b51-5fe8-43a4-ee09-2a672ee84a59"
      },
      "execution_count": null,
      "outputs": [
        {
          "output_type": "display_data",
          "data": {
            "text/html": [
              "'date'"
            ],
            "text/markdown": "'date'",
            "text/latex": "'date'",
            "text/plain": [
              "[1] \"date\""
            ]
          },
          "metadata": {}
        },
        {
          "output_type": "display_data",
          "data": {
            "text/html": [
              "'time'"
            ],
            "text/markdown": "'time'",
            "text/latex": "'time'",
            "text/plain": [
              "[1] \"time\""
            ]
          },
          "metadata": {}
        },
        {
          "output_type": "display_data",
          "data": {
            "text/html": [
              "'logical'"
            ],
            "text/markdown": "'logical'",
            "text/latex": "'logical'",
            "text/plain": [
              "[1] \"logical\""
            ]
          },
          "metadata": {}
        },
        {
          "output_type": "display_data",
          "data": {
            "text/html": [
              "'double'"
            ],
            "text/markdown": "'double'",
            "text/latex": "'double'",
            "text/plain": [
              "[1] \"double\""
            ]
          },
          "metadata": {}
        },
        {
          "output_type": "display_data",
          "data": {
            "text/html": [
              "'number'"
            ],
            "text/markdown": "'number'",
            "text/latex": "'number'",
            "text/plain": [
              "[1] \"number\""
            ]
          },
          "metadata": {}
        },
        {
          "output_type": "stream",
          "name": "stdout",
          "text": [
            " Date[1:1], format: \"2010-10-10\"\n"
          ]
        }
      ]
    },
    {
      "cell_type": "markdown",
      "source": [
        "La heurística prueba cada uno de los siguientes tipos y se detiene cuando encuentra una coincidencia:\n",
        "\n",
        "* lógico: contiene solo “F”, “T”, “FALSE”, o “TRUE”.\n",
        "* entero: contiene solo caracteres numéricos (y ‘-’).\n",
        "* doble: contiene solo dobles válidos (incluyendo números como ‘4.5e-5’).\n",
        "* número: contiene dobles válidos con la marca de agrupamiento en su interior.\n",
        "* hora: coincide con el formato horario por defecto (time_format).\n",
        "* fecha: coincide con el formato fecha por defecto (date_format).\n",
        "* fecha-hora: cualquier fecha ISO8601.\n",
        "\n",
        "\n",
        "Si ninguna de esas reglas se aplica, entonces la columna quedará como un vector de cadenas de caracteres."
      ],
      "metadata": {
        "id": "6GaTEDPxmsmg"
      }
    },
    {
      "cell_type": "markdown",
      "source": [
        "### Problemas"
      ],
      "metadata": {
        "id": "0j0xj5-om7Xo"
      }
    },
    {
      "cell_type": "markdown",
      "source": [
        "Esos valores por defecto no siempre funcionan para archivos de gran tamaño. Hay dos problemas básicos:\n",
        "\n",
        "1. Las primeras mil filas podrían ser un caso especial y **readr** estaría deduciendo un formato que no es suficientemente general. Por ejemplo, podrías tener una columna de dobles que solo contiene enteros en las primeras 1000 filas.\n",
        "\n",
        "2. La columna podría contener muchos valores faltantes. Si las primeras 1000 filas contienen solo NA, **readr** deducirá que es un vector lógico, mientras que tú probablemente quieras analizarlo como algo más específico.\n",
        "\n",
        "**readr** contiene un archivo csv desafiante que ilustra ambos problemas:"
      ],
      "metadata": {
        "id": "N6jR1Brmm95A"
      }
    },
    {
      "cell_type": "code",
      "source": [
        "desafio <- read_csv(readr_example(\"challenge.csv\"))"
      ],
      "metadata": {
        "colab": {
          "base_uri": "https://localhost:8080/"
        },
        "id": "EQC5lVNFnKP4",
        "outputId": "07f9e721-5ef1-4e99-ac38-0fc5c56e25de"
      },
      "execution_count": null,
      "outputs": [
        {
          "output_type": "stream",
          "name": "stderr",
          "text": [
            "\u001b[1mRows: \u001b[22m\u001b[34m2000\u001b[39m \u001b[1mColumns: \u001b[22m\u001b[34m2\u001b[39m\n",
            "\u001b[36m──\u001b[39m \u001b[1mColumn specification\u001b[22m \u001b[36m────────────────────────────────────────────────────────\u001b[39m\n",
            "\u001b[1mDelimiter:\u001b[22m \",\"\n",
            "\u001b[32mdbl\u001b[39m  (1): x\n",
            "\u001b[34mdate\u001b[39m (1): y\n",
            "\n",
            "\u001b[36mℹ\u001b[39m Use `spec()` to retrieve the full column specification for this data.\n",
            "\u001b[36mℹ\u001b[39m Specify the column types or set `show_col_types = FALSE` to quiet this message.\n"
          ]
        }
      ]
    },
    {
      "cell_type": "markdown",
      "source": [
        "(Fíjate en el uso de `readr_example()`, que encuentra la ruta a uno de los archivos incluidos en el paquete.)\n",
        "\n",
        "Hay dos outputs impresos en la consola: la especificación de columna generada al mirar las primeras 1000 filas y las primeras cinco fallas de segmentación. Siempre es una buena idea extraer explícitamente los problemas con `problems()`, así puedes explorarlos en mayor profundidad:"
      ],
      "metadata": {
        "id": "hP7A08MlnYRX"
      }
    },
    {
      "cell_type": "code",
      "source": [
        "problems(desafio)"
      ],
      "metadata": {
        "colab": {
          "base_uri": "https://localhost:8080/",
          "height": 98
        },
        "id": "EZGOj5DfndWQ",
        "outputId": "41eff497-6109-4bfc-8650-f41090c693e4"
      },
      "execution_count": null,
      "outputs": [
        {
          "output_type": "display_data",
          "data": {
            "text/html": [
              "<table class=\"dataframe\">\n",
              "<caption>A tibble: 0 × 5</caption>\n",
              "<thead>\n",
              "\t<tr><th scope=col>row</th><th scope=col>col</th><th scope=col>expected</th><th scope=col>actual</th><th scope=col>file</th></tr>\n",
              "\t<tr><th scope=col>&lt;int&gt;</th><th scope=col>&lt;int&gt;</th><th scope=col>&lt;chr&gt;</th><th scope=col>&lt;chr&gt;</th><th scope=col>&lt;chr&gt;</th></tr>\n",
              "</thead>\n",
              "<tbody>\n",
              "</tbody>\n",
              "</table>\n"
            ],
            "text/markdown": "\nA tibble: 0 × 5\n\n| row &lt;int&gt; | col &lt;int&gt; | expected &lt;chr&gt; | actual &lt;chr&gt; | file &lt;chr&gt; |\n|---|---|---|---|---|\n\n",
            "text/latex": "A tibble: 0 × 5\n\\begin{tabular}{lllll}\n row & col & expected & actual & file\\\\\n <int> & <int> & <chr> & <chr> & <chr>\\\\\n\\hline\n\\end{tabular}\n",
            "text/plain": [
              "     row col expected actual file"
            ]
          },
          "metadata": {}
        }
      ]
    },
    {
      "cell_type": "markdown",
      "source": [
        "Una buena estrategia es trabajar columna por columna hasta que no queden problemas. Aquí podemos ver que hubo muchos problemas de análisis con la columna `y`. Si miramos la últimas líneas, verás que hay fechas almacenadas en un vector de caracteres."
      ],
      "metadata": {
        "id": "poxQtOFtnh5A"
      }
    },
    {
      "cell_type": "code",
      "source": [
        "tail(desafio)"
      ],
      "metadata": {
        "colab": {
          "base_uri": "https://localhost:8080/",
          "height": 286
        },
        "id": "Gemg1iP_npiI",
        "outputId": "dfcce479-8851-41bb-9b2c-9455fb33798b"
      },
      "execution_count": null,
      "outputs": [
        {
          "output_type": "display_data",
          "data": {
            "text/html": [
              "<table class=\"dataframe\">\n",
              "<caption>A tibble: 6 × 2</caption>\n",
              "<thead>\n",
              "\t<tr><th scope=col>x</th><th scope=col>y</th></tr>\n",
              "\t<tr><th scope=col>&lt;dbl&gt;</th><th scope=col>&lt;date&gt;</th></tr>\n",
              "</thead>\n",
              "<tbody>\n",
              "\t<tr><td>0.8052743</td><td>2019-11-21</td></tr>\n",
              "\t<tr><td>0.1635163</td><td>2018-03-29</td></tr>\n",
              "\t<tr><td>0.4719390</td><td>2014-08-04</td></tr>\n",
              "\t<tr><td>0.7183186</td><td>2015-08-16</td></tr>\n",
              "\t<tr><td>0.2698786</td><td>2020-02-04</td></tr>\n",
              "\t<tr><td>0.6082372</td><td>2019-01-06</td></tr>\n",
              "</tbody>\n",
              "</table>\n"
            ],
            "text/markdown": "\nA tibble: 6 × 2\n\n| x &lt;dbl&gt; | y &lt;date&gt; |\n|---|---|\n| 0.8052743 | 2019-11-21 |\n| 0.1635163 | 2018-03-29 |\n| 0.4719390 | 2014-08-04 |\n| 0.7183186 | 2015-08-16 |\n| 0.2698786 | 2020-02-04 |\n| 0.6082372 | 2019-01-06 |\n\n",
            "text/latex": "A tibble: 6 × 2\n\\begin{tabular}{ll}\n x & y\\\\\n <dbl> & <date>\\\\\n\\hline\n\t 0.8052743 & 2019-11-21\\\\\n\t 0.1635163 & 2018-03-29\\\\\n\t 0.4719390 & 2014-08-04\\\\\n\t 0.7183186 & 2015-08-16\\\\\n\t 0.2698786 & 2020-02-04\\\\\n\t 0.6082372 & 2019-01-06\\\\\n\\end{tabular}\n",
            "text/plain": [
              "  x         y         \n",
              "1 0.8052743 2019-11-21\n",
              "2 0.1635163 2018-03-29\n",
              "3 0.4719390 2014-08-04\n",
              "4 0.7183186 2015-08-16\n",
              "5 0.2698786 2020-02-04\n",
              "6 0.6082372 2019-01-06"
            ]
          },
          "metadata": {}
        }
      ]
    },
    {
      "cell_type": "markdown",
      "source": [
        "Esto sugiere que mejor sería utilizar un segmentador de fechas. Para arreglar este problema, copia y pega la especificación de las columnas que habías obtenido inicialmente y agrégalas a tu código:"
      ],
      "metadata": {
        "id": "dtKgrIEmnwlh"
      }
    },
    {
      "cell_type": "code",
      "source": [
        "desafio <- read_csv(\n",
        "  readr_example(\"challenge.csv\"), \n",
        "  col_types = cols(\n",
        "    x = col_double(),\n",
        "    y = col_logical()\n",
        "  )\n",
        ")"
      ],
      "metadata": {
        "colab": {
          "base_uri": "https://localhost:8080/"
        },
        "id": "8VaFI3yzn0kK",
        "outputId": "c0a7ba58-6f20-4efe-a759-838fb977d397"
      },
      "execution_count": null,
      "outputs": [
        {
          "output_type": "stream",
          "name": "stderr",
          "text": [
            "Warning message:\n",
            "“One or more parsing issues, see `problems()` for details”\n"
          ]
        }
      ]
    },
    {
      "cell_type": "markdown",
      "source": [
        "Y luego ajusta el tipo de la columna y especificando que se trata de una fecha:"
      ],
      "metadata": {
        "id": "X19gJDlYoDG4"
      }
    },
    {
      "cell_type": "code",
      "source": [
        "desafio <- read_csv(\n",
        "  readr_example(\"challenge.csv\"), \n",
        "  col_types = cols(\n",
        "    x = col_double(),\n",
        "    y = col_date()\n",
        "  )\n",
        ")\n",
        "tail(desafio)"
      ],
      "metadata": {
        "colab": {
          "base_uri": "https://localhost:8080/",
          "height": 286
        },
        "id": "EEAixOkAoFRX",
        "outputId": "351cf9f3-6897-42f5-a469-0a9d35b1849f"
      },
      "execution_count": null,
      "outputs": [
        {
          "output_type": "display_data",
          "data": {
            "text/html": [
              "<table class=\"dataframe\">\n",
              "<caption>A tibble: 6 × 2</caption>\n",
              "<thead>\n",
              "\t<tr><th scope=col>x</th><th scope=col>y</th></tr>\n",
              "\t<tr><th scope=col>&lt;dbl&gt;</th><th scope=col>&lt;date&gt;</th></tr>\n",
              "</thead>\n",
              "<tbody>\n",
              "\t<tr><td>0.8052743</td><td>2019-11-21</td></tr>\n",
              "\t<tr><td>0.1635163</td><td>2018-03-29</td></tr>\n",
              "\t<tr><td>0.4719390</td><td>2014-08-04</td></tr>\n",
              "\t<tr><td>0.7183186</td><td>2015-08-16</td></tr>\n",
              "\t<tr><td>0.2698786</td><td>2020-02-04</td></tr>\n",
              "\t<tr><td>0.6082372</td><td>2019-01-06</td></tr>\n",
              "</tbody>\n",
              "</table>\n"
            ],
            "text/markdown": "\nA tibble: 6 × 2\n\n| x &lt;dbl&gt; | y &lt;date&gt; |\n|---|---|\n| 0.8052743 | 2019-11-21 |\n| 0.1635163 | 2018-03-29 |\n| 0.4719390 | 2014-08-04 |\n| 0.7183186 | 2015-08-16 |\n| 0.2698786 | 2020-02-04 |\n| 0.6082372 | 2019-01-06 |\n\n",
            "text/latex": "A tibble: 6 × 2\n\\begin{tabular}{ll}\n x & y\\\\\n <dbl> & <date>\\\\\n\\hline\n\t 0.8052743 & 2019-11-21\\\\\n\t 0.1635163 & 2018-03-29\\\\\n\t 0.4719390 & 2014-08-04\\\\\n\t 0.7183186 & 2015-08-16\\\\\n\t 0.2698786 & 2020-02-04\\\\\n\t 0.6082372 & 2019-01-06\\\\\n\\end{tabular}\n",
            "text/plain": [
              "  x         y         \n",
              "1 0.8052743 2019-11-21\n",
              "2 0.1635163 2018-03-29\n",
              "3 0.4719390 2014-08-04\n",
              "4 0.7183186 2015-08-16\n",
              "5 0.2698786 2020-02-04\n",
              "6 0.6082372 2019-01-06"
            ]
          },
          "metadata": {}
        }
      ]
    },
    {
      "cell_type": "markdown",
      "source": [
        "Cada función `parse_*()` tiene su correspondiente función `col_*()`. Se utiliza `parse_*()` cuando los datos se encuentran en un vector de caracteres que ya está disponible en R; `col_*` para cuando quieres decirle a **readr** cómo cargar los datos.\n",
        "\n",
        "Te recomendamos proporcionar la estructura para `col_types` a partir de la impresión en consola provista por **readr**. Esto asegura que tienes un script para importar datos consistente y reproducible. Si confías en las deducciones por defecto y tus datos cambian, **readr** continuará leyéndolos. Si quieres ser realmente estricto/a, emplea `stop_for_problems()` (detenerse en problemas): esto devolverá un mensaje de error y detendrá tu script si hay cualquier problema con la segmentación."
      ],
      "metadata": {
        "id": "4Vllk7a_oa4H"
      }
    },
    {
      "cell_type": "markdown",
      "source": [
        "### Otras estrategias "
      ],
      "metadata": {
        "id": "UkXZQTGvoyNI"
      }
    },
    {
      "cell_type": "markdown",
      "source": [
        "Existen algunas estrategias generales más para ayudarte a segmentar archivos:\n",
        "\n",
        "* En el ejemplo previo simplemente tuvimos mala suerte: si miramos solo una fila más que el número por defecto, podemos segmentar correctamente en un solo intento:"
      ],
      "metadata": {
        "id": "m0Mdv68ZqAkK"
      }
    },
    {
      "cell_type": "code",
      "source": [
        "desafio2 <- read_csv(readr_example(\"challenge.csv\"), guess_max = 1001)"
      ],
      "metadata": {
        "colab": {
          "base_uri": "https://localhost:8080/"
        },
        "id": "8Dc1Tkn6qGcv",
        "outputId": "e768a3a7-4465-45e0-d53c-a9ca87252a83"
      },
      "execution_count": null,
      "outputs": [
        {
          "output_type": "stream",
          "name": "stderr",
          "text": [
            "\u001b[1mRows: \u001b[22m\u001b[34m2000\u001b[39m \u001b[1mColumns: \u001b[22m\u001b[34m2\u001b[39m\n",
            "\u001b[36m──\u001b[39m \u001b[1mColumn specification\u001b[22m \u001b[36m────────────────────────────────────────────────────────\u001b[39m\n",
            "\u001b[1mDelimiter:\u001b[22m \",\"\n",
            "\u001b[32mdbl\u001b[39m  (1): x\n",
            "\u001b[34mdate\u001b[39m (1): y\n",
            "\n",
            "\u001b[36mℹ\u001b[39m Use `spec()` to retrieve the full column specification for this data.\n",
            "\u001b[36mℹ\u001b[39m Specify the column types or set `show_col_types = FALSE` to quiet this message.\n"
          ]
        }
      ]
    },
    {
      "cell_type": "code",
      "source": [
        "desafio2"
      ],
      "metadata": {
        "colab": {
          "base_uri": "https://localhost:8080/",
          "height": 1000
        },
        "id": "g2XJU3z9qI-C",
        "outputId": "b7ebf7db-caed-48f8-cfb9-c1f47550e834"
      },
      "execution_count": null,
      "outputs": [
        {
          "output_type": "display_data",
          "data": {
            "text/html": [
              "<table class=\"dataframe\">\n",
              "<caption>A spec_tbl_df: 2000 × 2</caption>\n",
              "<thead>\n",
              "\t<tr><th scope=col>x</th><th scope=col>y</th></tr>\n",
              "\t<tr><th scope=col>&lt;dbl&gt;</th><th scope=col>&lt;date&gt;</th></tr>\n",
              "</thead>\n",
              "<tbody>\n",
              "\t<tr><td> 404</td><td>NA</td></tr>\n",
              "\t<tr><td>4172</td><td>NA</td></tr>\n",
              "\t<tr><td>3004</td><td>NA</td></tr>\n",
              "\t<tr><td> 787</td><td>NA</td></tr>\n",
              "\t<tr><td>  37</td><td>NA</td></tr>\n",
              "\t<tr><td>2332</td><td>NA</td></tr>\n",
              "\t<tr><td>2489</td><td>NA</td></tr>\n",
              "\t<tr><td>1449</td><td>NA</td></tr>\n",
              "\t<tr><td>3665</td><td>NA</td></tr>\n",
              "\t<tr><td>3863</td><td>NA</td></tr>\n",
              "\t<tr><td>4374</td><td>NA</td></tr>\n",
              "\t<tr><td> 875</td><td>NA</td></tr>\n",
              "\t<tr><td> 172</td><td>NA</td></tr>\n",
              "\t<tr><td>1602</td><td>NA</td></tr>\n",
              "\t<tr><td>2012</td><td>NA</td></tr>\n",
              "\t<tr><td> 979</td><td>NA</td></tr>\n",
              "\t<tr><td>2018</td><td>NA</td></tr>\n",
              "\t<tr><td> 319</td><td>NA</td></tr>\n",
              "\t<tr><td>1944</td><td>NA</td></tr>\n",
              "\t<tr><td>4878</td><td>NA</td></tr>\n",
              "\t<tr><td>1450</td><td>NA</td></tr>\n",
              "\t<tr><td>3392</td><td>NA</td></tr>\n",
              "\t<tr><td>3677</td><td>NA</td></tr>\n",
              "\t<tr><td> 980</td><td>NA</td></tr>\n",
              "\t<tr><td>4903</td><td>NA</td></tr>\n",
              "\t<tr><td>3708</td><td>NA</td></tr>\n",
              "\t<tr><td> 258</td><td>NA</td></tr>\n",
              "\t<tr><td>2652</td><td>NA</td></tr>\n",
              "\t<tr><td>3480</td><td>NA</td></tr>\n",
              "\t<tr><td>3443</td><td>NA</td></tr>\n",
              "\t<tr><td>⋮</td><td>⋮</td></tr>\n",
              "\t<tr><td>0.14324546</td><td>2020-06-10</td></tr>\n",
              "\t<tr><td>0.42678032</td><td>2013-11-08</td></tr>\n",
              "\t<tr><td>0.56445359</td><td>2017-07-12</td></tr>\n",
              "\t<tr><td>0.18729942</td><td>2016-08-12</td></tr>\n",
              "\t<tr><td>0.60274952</td><td>2022-05-12</td></tr>\n",
              "\t<tr><td>0.73487829</td><td>2020-08-11</td></tr>\n",
              "\t<tr><td>0.06834881</td><td>2011-10-26</td></tr>\n",
              "\t<tr><td>0.78291796</td><td>2015-12-09</td></tr>\n",
              "\t<tr><td>0.92149271</td><td>2012-09-27</td></tr>\n",
              "\t<tr><td>0.04428217</td><td>2013-02-04</td></tr>\n",
              "\t<tr><td>0.71311485</td><td>2010-11-29</td></tr>\n",
              "\t<tr><td>0.90388602</td><td>2013-10-16</td></tr>\n",
              "\t<tr><td>0.73958150</td><td>2015-04-26</td></tr>\n",
              "\t<tr><td>0.17217563</td><td>2011-04-12</td></tr>\n",
              "\t<tr><td>0.18658998</td><td>2017-01-30</td></tr>\n",
              "\t<tr><td>0.38248836</td><td>2014-06-08</td></tr>\n",
              "\t<tr><td>0.45361328</td><td>2016-10-19</td></tr>\n",
              "\t<tr><td>0.45513148</td><td>2023-09-01</td></tr>\n",
              "\t<tr><td>0.17310278</td><td>2010-01-09</td></tr>\n",
              "\t<tr><td>0.30541726</td><td>2020-01-11</td></tr>\n",
              "\t<tr><td>0.86775210</td><td>2016-12-16</td></tr>\n",
              "\t<tr><td>0.26023225</td><td>2010-01-03</td></tr>\n",
              "\t<tr><td>0.68087076</td><td>2016-04-23</td></tr>\n",
              "\t<tr><td>0.85357656</td><td>2016-08-10</td></tr>\n",
              "\t<tr><td>0.80527431</td><td>2019-11-21</td></tr>\n",
              "\t<tr><td>0.16351634</td><td>2018-03-29</td></tr>\n",
              "\t<tr><td>0.47193898</td><td>2014-08-04</td></tr>\n",
              "\t<tr><td>0.71831865</td><td>2015-08-16</td></tr>\n",
              "\t<tr><td>0.26987859</td><td>2020-02-04</td></tr>\n",
              "\t<tr><td>0.60823719</td><td>2019-01-06</td></tr>\n",
              "</tbody>\n",
              "</table>\n"
            ],
            "text/markdown": "\nA spec_tbl_df: 2000 × 2\n\n| x &lt;dbl&gt; | y &lt;date&gt; |\n|---|---|\n|  404 | NA |\n| 4172 | NA |\n| 3004 | NA |\n|  787 | NA |\n|   37 | NA |\n| 2332 | NA |\n| 2489 | NA |\n| 1449 | NA |\n| 3665 | NA |\n| 3863 | NA |\n| 4374 | NA |\n|  875 | NA |\n|  172 | NA |\n| 1602 | NA |\n| 2012 | NA |\n|  979 | NA |\n| 2018 | NA |\n|  319 | NA |\n| 1944 | NA |\n| 4878 | NA |\n| 1450 | NA |\n| 3392 | NA |\n| 3677 | NA |\n|  980 | NA |\n| 4903 | NA |\n| 3708 | NA |\n|  258 | NA |\n| 2652 | NA |\n| 3480 | NA |\n| 3443 | NA |\n| ⋮ | ⋮ |\n| 0.14324546 | 2020-06-10 |\n| 0.42678032 | 2013-11-08 |\n| 0.56445359 | 2017-07-12 |\n| 0.18729942 | 2016-08-12 |\n| 0.60274952 | 2022-05-12 |\n| 0.73487829 | 2020-08-11 |\n| 0.06834881 | 2011-10-26 |\n| 0.78291796 | 2015-12-09 |\n| 0.92149271 | 2012-09-27 |\n| 0.04428217 | 2013-02-04 |\n| 0.71311485 | 2010-11-29 |\n| 0.90388602 | 2013-10-16 |\n| 0.73958150 | 2015-04-26 |\n| 0.17217563 | 2011-04-12 |\n| 0.18658998 | 2017-01-30 |\n| 0.38248836 | 2014-06-08 |\n| 0.45361328 | 2016-10-19 |\n| 0.45513148 | 2023-09-01 |\n| 0.17310278 | 2010-01-09 |\n| 0.30541726 | 2020-01-11 |\n| 0.86775210 | 2016-12-16 |\n| 0.26023225 | 2010-01-03 |\n| 0.68087076 | 2016-04-23 |\n| 0.85357656 | 2016-08-10 |\n| 0.80527431 | 2019-11-21 |\n| 0.16351634 | 2018-03-29 |\n| 0.47193898 | 2014-08-04 |\n| 0.71831865 | 2015-08-16 |\n| 0.26987859 | 2020-02-04 |\n| 0.60823719 | 2019-01-06 |\n\n",
            "text/latex": "A spec\\_tbl\\_df: 2000 × 2\n\\begin{tabular}{ll}\n x & y\\\\\n <dbl> & <date>\\\\\n\\hline\n\t  404 & NA\\\\\n\t 4172 & NA\\\\\n\t 3004 & NA\\\\\n\t  787 & NA\\\\\n\t   37 & NA\\\\\n\t 2332 & NA\\\\\n\t 2489 & NA\\\\\n\t 1449 & NA\\\\\n\t 3665 & NA\\\\\n\t 3863 & NA\\\\\n\t 4374 & NA\\\\\n\t  875 & NA\\\\\n\t  172 & NA\\\\\n\t 1602 & NA\\\\\n\t 2012 & NA\\\\\n\t  979 & NA\\\\\n\t 2018 & NA\\\\\n\t  319 & NA\\\\\n\t 1944 & NA\\\\\n\t 4878 & NA\\\\\n\t 1450 & NA\\\\\n\t 3392 & NA\\\\\n\t 3677 & NA\\\\\n\t  980 & NA\\\\\n\t 4903 & NA\\\\\n\t 3708 & NA\\\\\n\t  258 & NA\\\\\n\t 2652 & NA\\\\\n\t 3480 & NA\\\\\n\t 3443 & NA\\\\\n\t ⋮ & ⋮\\\\\n\t 0.14324546 & 2020-06-10\\\\\n\t 0.42678032 & 2013-11-08\\\\\n\t 0.56445359 & 2017-07-12\\\\\n\t 0.18729942 & 2016-08-12\\\\\n\t 0.60274952 & 2022-05-12\\\\\n\t 0.73487829 & 2020-08-11\\\\\n\t 0.06834881 & 2011-10-26\\\\\n\t 0.78291796 & 2015-12-09\\\\\n\t 0.92149271 & 2012-09-27\\\\\n\t 0.04428217 & 2013-02-04\\\\\n\t 0.71311485 & 2010-11-29\\\\\n\t 0.90388602 & 2013-10-16\\\\\n\t 0.73958150 & 2015-04-26\\\\\n\t 0.17217563 & 2011-04-12\\\\\n\t 0.18658998 & 2017-01-30\\\\\n\t 0.38248836 & 2014-06-08\\\\\n\t 0.45361328 & 2016-10-19\\\\\n\t 0.45513148 & 2023-09-01\\\\\n\t 0.17310278 & 2010-01-09\\\\\n\t 0.30541726 & 2020-01-11\\\\\n\t 0.86775210 & 2016-12-16\\\\\n\t 0.26023225 & 2010-01-03\\\\\n\t 0.68087076 & 2016-04-23\\\\\n\t 0.85357656 & 2016-08-10\\\\\n\t 0.80527431 & 2019-11-21\\\\\n\t 0.16351634 & 2018-03-29\\\\\n\t 0.47193898 & 2014-08-04\\\\\n\t 0.71831865 & 2015-08-16\\\\\n\t 0.26987859 & 2020-02-04\\\\\n\t 0.60823719 & 2019-01-06\\\\\n\\end{tabular}\n",
            "text/plain": [
              "     x          y         \n",
              "1     404       <NA>      \n",
              "2    4172       <NA>      \n",
              "3    3004       <NA>      \n",
              "4     787       <NA>      \n",
              "5      37       <NA>      \n",
              "6    2332       <NA>      \n",
              "7    2489       <NA>      \n",
              "8    1449       <NA>      \n",
              "9    3665       <NA>      \n",
              "10   3863       <NA>      \n",
              "11   4374       <NA>      \n",
              "12    875       <NA>      \n",
              "13    172       <NA>      \n",
              "14   1602       <NA>      \n",
              "15   2012       <NA>      \n",
              "16    979       <NA>      \n",
              "17   2018       <NA>      \n",
              "18    319       <NA>      \n",
              "19   1944       <NA>      \n",
              "20   4878       <NA>      \n",
              "21   1450       <NA>      \n",
              "22   3392       <NA>      \n",
              "23   3677       <NA>      \n",
              "24    980       <NA>      \n",
              "25   4903       <NA>      \n",
              "26   3708       <NA>      \n",
              "27    258       <NA>      \n",
              "28   2652       <NA>      \n",
              "29   3480       <NA>      \n",
              "30   3443       <NA>      \n",
              "⋮    ⋮          ⋮         \n",
              "1971 0.14324546 2020-06-10\n",
              "1972 0.42678032 2013-11-08\n",
              "1973 0.56445359 2017-07-12\n",
              "1974 0.18729942 2016-08-12\n",
              "1975 0.60274952 2022-05-12\n",
              "1976 0.73487829 2020-08-11\n",
              "1977 0.06834881 2011-10-26\n",
              "1978 0.78291796 2015-12-09\n",
              "1979 0.92149271 2012-09-27\n",
              "1980 0.04428217 2013-02-04\n",
              "1981 0.71311485 2010-11-29\n",
              "1982 0.90388602 2013-10-16\n",
              "1983 0.73958150 2015-04-26\n",
              "1984 0.17217563 2011-04-12\n",
              "1985 0.18658998 2017-01-30\n",
              "1986 0.38248836 2014-06-08\n",
              "1987 0.45361328 2016-10-19\n",
              "1988 0.45513148 2023-09-01\n",
              "1989 0.17310278 2010-01-09\n",
              "1990 0.30541726 2020-01-11\n",
              "1991 0.86775210 2016-12-16\n",
              "1992 0.26023225 2010-01-03\n",
              "1993 0.68087076 2016-04-23\n",
              "1994 0.85357656 2016-08-10\n",
              "1995 0.80527431 2019-11-21\n",
              "1996 0.16351634 2018-03-29\n",
              "1997 0.47193898 2014-08-04\n",
              "1998 0.71831865 2015-08-16\n",
              "1999 0.26987859 2020-02-04\n",
              "2000 0.60823719 2019-01-06"
            ]
          },
          "metadata": {}
        }
      ]
    },
    {
      "cell_type": "markdown",
      "source": [
        "* Algunas veces es más fácil diagnosticar problemas si lees todas las columnas como vectores de caracteres:"
      ],
      "metadata": {
        "id": "N-8P1U0YqEjQ"
      }
    },
    {
      "cell_type": "code",
      "source": [
        "desafio <- read_csv(readr_example(\"challenge.csv\"), \n",
        "  col_types = cols(.default = col_character())\n",
        ")"
      ],
      "metadata": {
        "id": "UJHgrsCHqTLP"
      },
      "execution_count": null,
      "outputs": []
    },
    {
      "cell_type": "markdown",
      "source": [
        "Esto es particularmente útil en combinación con `type_convert()`, que aplica la heurística de segmentación a las columnas de caracteres en un data frame."
      ],
      "metadata": {
        "id": "tNEXSoLnqVF3"
      }
    },
    {
      "cell_type": "code",
      "source": [
        "  df <- tribble(\n",
        "    ~x,  ~y,\n",
        "    \"1\", \"1.21\",\n",
        "    \"2\", \"2.32\",\n",
        "    \"3\", \"4.56\"\n",
        "  )\n",
        "  df"
      ],
      "metadata": {
        "colab": {
          "base_uri": "https://localhost:8080/",
          "height": 192
        },
        "id": "ACfYJeqjqbvg",
        "outputId": "c02e5222-e259-40c7-bdb3-f7101e85ae8e"
      },
      "execution_count": null,
      "outputs": [
        {
          "output_type": "display_data",
          "data": {
            "text/html": [
              "<table class=\"dataframe\">\n",
              "<caption>A tibble: 3 × 2</caption>\n",
              "<thead>\n",
              "\t<tr><th scope=col>x</th><th scope=col>y</th></tr>\n",
              "\t<tr><th scope=col>&lt;chr&gt;</th><th scope=col>&lt;chr&gt;</th></tr>\n",
              "</thead>\n",
              "<tbody>\n",
              "\t<tr><td>1</td><td>1.21</td></tr>\n",
              "\t<tr><td>2</td><td>2.32</td></tr>\n",
              "\t<tr><td>3</td><td>4.56</td></tr>\n",
              "</tbody>\n",
              "</table>\n"
            ],
            "text/markdown": "\nA tibble: 3 × 2\n\n| x &lt;chr&gt; | y &lt;chr&gt; |\n|---|---|\n| 1 | 1.21 |\n| 2 | 2.32 |\n| 3 | 4.56 |\n\n",
            "text/latex": "A tibble: 3 × 2\n\\begin{tabular}{ll}\n x & y\\\\\n <chr> & <chr>\\\\\n\\hline\n\t 1 & 1.21\\\\\n\t 2 & 2.32\\\\\n\t 3 & 4.56\\\\\n\\end{tabular}\n",
            "text/plain": [
              "  x y   \n",
              "1 1 1.21\n",
              "2 2 2.32\n",
              "3 3 4.56"
            ]
          },
          "metadata": {}
        }
      ]
    },
    {
      "cell_type": "code",
      "source": [
        "type_convert(df)"
      ],
      "metadata": {
        "colab": {
          "base_uri": "https://localhost:8080/",
          "height": 314
        },
        "id": "Ifm9FuEhqdd3",
        "outputId": "016e3f3c-85ef-446f-a745-3b6279018be1"
      },
      "execution_count": null,
      "outputs": [
        {
          "output_type": "stream",
          "name": "stderr",
          "text": [
            "\n",
            "\u001b[36m──\u001b[39m \u001b[1mColumn specification\u001b[22m \u001b[36m────────────────────────────────────────────────────────\u001b[39m\n",
            "cols(\n",
            "  x = \u001b[32mcol_double()\u001b[39m,\n",
            "  y = \u001b[32mcol_double()\u001b[39m\n",
            ")\n",
            "\n"
          ]
        },
        {
          "output_type": "display_data",
          "data": {
            "text/html": [
              "<table class=\"dataframe\">\n",
              "<caption>A tibble: 3 × 2</caption>\n",
              "<thead>\n",
              "\t<tr><th scope=col>x</th><th scope=col>y</th></tr>\n",
              "\t<tr><th scope=col>&lt;dbl&gt;</th><th scope=col>&lt;dbl&gt;</th></tr>\n",
              "</thead>\n",
              "<tbody>\n",
              "\t<tr><td>1</td><td>1.21</td></tr>\n",
              "\t<tr><td>2</td><td>2.32</td></tr>\n",
              "\t<tr><td>3</td><td>4.56</td></tr>\n",
              "</tbody>\n",
              "</table>\n"
            ],
            "text/markdown": "\nA tibble: 3 × 2\n\n| x &lt;dbl&gt; | y &lt;dbl&gt; |\n|---|---|\n| 1 | 1.21 |\n| 2 | 2.32 |\n| 3 | 4.56 |\n\n",
            "text/latex": "A tibble: 3 × 2\n\\begin{tabular}{ll}\n x & y\\\\\n <dbl> & <dbl>\\\\\n\\hline\n\t 1 & 1.21\\\\\n\t 2 & 2.32\\\\\n\t 3 & 4.56\\\\\n\\end{tabular}\n",
            "text/plain": [
              "  x y   \n",
              "1 1 1.21\n",
              "2 2 2.32\n",
              "3 3 4.56"
            ]
          },
          "metadata": {}
        }
      ]
    },
    {
      "cell_type": "markdown",
      "source": [
        "* Si estás leyendo un archivo muy largo, podrías querer seleccionar `n_max` a un número pequeño como 10000 o 100000. Esto acelerará las iteraciones a la vez que eliminarás problemas comunes.\n",
        "\n",
        "* Si tienes problemas de segmentación importantes, a veces es más fácil leer un vector de caracteres de líneas con `read_lines()`, o incluso un vector de caracteres de largo 1 con `read_file()`. Luego puedes utilizar las habilidades sobre segmentación de cadenas de caracteres que aprenderás más adelante para segmentar formatos más exóticos."
      ],
      "metadata": {
        "id": "KbGedptgOM7y"
      }
    },
    {
      "cell_type": "markdown",
      "source": [
        "## Escribir a un archivo"
      ],
      "metadata": {
        "id": "bzYFshxQX_63"
      }
    },
    {
      "cell_type": "markdown",
      "source": [
        "**readr** también incluye dos funciones muy útiles para escribir datos de vuelta al disco: `write_csv()` y `write_tsv()`. Ambas funciones incrementan las posibilidades de que el archivo resultante sea leído correctamente al:\n",
        "\n",
        "* codificar siempre las cadenas de caracteres en UTF-8.\n",
        "* guardar fechas y fechas-horas en formato ISO8601, por lo que son fácilmente segmentadas en cualquier sitio.\n",
        "\n",
        "Si quieres exportar un archivo csv a Excel, utiliza `write_excel_csv()` —esto escribe un caracter especial (una marca de orden de bytes) al comienzo del archivo que le dice a Excel que estás utilizando codificación UTF-8. Los argumentos más importantes son `x` (el data frame a guardar) y `path` (la ubicación donde lo guardarás). También puedes especificar cómo se escriben los valores ausentes con na y si quieres append (agregarlo) a un archivo existente."
      ],
      "metadata": {
        "id": "BdwZR7-EYCyO"
      }
    },
    {
      "cell_type": "code",
      "source": [
        "write_csv(desafio, \"desafio.csv\")"
      ],
      "metadata": {
        "id": "tSQqEUQaYya4"
      },
      "execution_count": null,
      "outputs": []
    },
    {
      "cell_type": "markdown",
      "source": [
        "Fíjate que la información sobre el tipo de datos se pierde cuando guardas en csv:"
      ],
      "metadata": {
        "id": "sZmUvi52ZIaH"
      }
    },
    {
      "cell_type": "code",
      "source": [
        "desafio"
      ],
      "metadata": {
        "colab": {
          "base_uri": "https://localhost:8080/",
          "height": 1000
        },
        "id": "p5sBru6CZJOS",
        "outputId": "a37d182e-6c76-4534-a9df-ef539b8049f4"
      },
      "execution_count": null,
      "outputs": [
        {
          "output_type": "display_data",
          "data": {
            "text/html": [
              "<table class=\"dataframe\">\n",
              "<caption>A spec_tbl_df: 2000 × 2</caption>\n",
              "<thead>\n",
              "\t<tr><th scope=col>x</th><th scope=col>y</th></tr>\n",
              "\t<tr><th scope=col>&lt;dbl&gt;</th><th scope=col>&lt;date&gt;</th></tr>\n",
              "</thead>\n",
              "<tbody>\n",
              "\t<tr><td> 404</td><td>NA</td></tr>\n",
              "\t<tr><td>4172</td><td>NA</td></tr>\n",
              "\t<tr><td>3004</td><td>NA</td></tr>\n",
              "\t<tr><td> 787</td><td>NA</td></tr>\n",
              "\t<tr><td>  37</td><td>NA</td></tr>\n",
              "\t<tr><td>2332</td><td>NA</td></tr>\n",
              "\t<tr><td>2489</td><td>NA</td></tr>\n",
              "\t<tr><td>1449</td><td>NA</td></tr>\n",
              "\t<tr><td>3665</td><td>NA</td></tr>\n",
              "\t<tr><td>3863</td><td>NA</td></tr>\n",
              "\t<tr><td>4374</td><td>NA</td></tr>\n",
              "\t<tr><td> 875</td><td>NA</td></tr>\n",
              "\t<tr><td> 172</td><td>NA</td></tr>\n",
              "\t<tr><td>1602</td><td>NA</td></tr>\n",
              "\t<tr><td>2012</td><td>NA</td></tr>\n",
              "\t<tr><td> 979</td><td>NA</td></tr>\n",
              "\t<tr><td>2018</td><td>NA</td></tr>\n",
              "\t<tr><td> 319</td><td>NA</td></tr>\n",
              "\t<tr><td>1944</td><td>NA</td></tr>\n",
              "\t<tr><td>4878</td><td>NA</td></tr>\n",
              "\t<tr><td>1450</td><td>NA</td></tr>\n",
              "\t<tr><td>3392</td><td>NA</td></tr>\n",
              "\t<tr><td>3677</td><td>NA</td></tr>\n",
              "\t<tr><td> 980</td><td>NA</td></tr>\n",
              "\t<tr><td>4903</td><td>NA</td></tr>\n",
              "\t<tr><td>3708</td><td>NA</td></tr>\n",
              "\t<tr><td> 258</td><td>NA</td></tr>\n",
              "\t<tr><td>2652</td><td>NA</td></tr>\n",
              "\t<tr><td>3480</td><td>NA</td></tr>\n",
              "\t<tr><td>3443</td><td>NA</td></tr>\n",
              "\t<tr><td>⋮</td><td>⋮</td></tr>\n",
              "\t<tr><td>0.14324546</td><td>2020-06-10</td></tr>\n",
              "\t<tr><td>0.42678032</td><td>2013-11-08</td></tr>\n",
              "\t<tr><td>0.56445359</td><td>2017-07-12</td></tr>\n",
              "\t<tr><td>0.18729942</td><td>2016-08-12</td></tr>\n",
              "\t<tr><td>0.60274952</td><td>2022-05-12</td></tr>\n",
              "\t<tr><td>0.73487829</td><td>2020-08-11</td></tr>\n",
              "\t<tr><td>0.06834881</td><td>2011-10-26</td></tr>\n",
              "\t<tr><td>0.78291796</td><td>2015-12-09</td></tr>\n",
              "\t<tr><td>0.92149271</td><td>2012-09-27</td></tr>\n",
              "\t<tr><td>0.04428217</td><td>2013-02-04</td></tr>\n",
              "\t<tr><td>0.71311485</td><td>2010-11-29</td></tr>\n",
              "\t<tr><td>0.90388602</td><td>2013-10-16</td></tr>\n",
              "\t<tr><td>0.73958150</td><td>2015-04-26</td></tr>\n",
              "\t<tr><td>0.17217563</td><td>2011-04-12</td></tr>\n",
              "\t<tr><td>0.18658998</td><td>2017-01-30</td></tr>\n",
              "\t<tr><td>0.38248836</td><td>2014-06-08</td></tr>\n",
              "\t<tr><td>0.45361328</td><td>2016-10-19</td></tr>\n",
              "\t<tr><td>0.45513148</td><td>2023-09-01</td></tr>\n",
              "\t<tr><td>0.17310278</td><td>2010-01-09</td></tr>\n",
              "\t<tr><td>0.30541726</td><td>2020-01-11</td></tr>\n",
              "\t<tr><td>0.86775210</td><td>2016-12-16</td></tr>\n",
              "\t<tr><td>0.26023225</td><td>2010-01-03</td></tr>\n",
              "\t<tr><td>0.68087076</td><td>2016-04-23</td></tr>\n",
              "\t<tr><td>0.85357656</td><td>2016-08-10</td></tr>\n",
              "\t<tr><td>0.80527431</td><td>2019-11-21</td></tr>\n",
              "\t<tr><td>0.16351634</td><td>2018-03-29</td></tr>\n",
              "\t<tr><td>0.47193898</td><td>2014-08-04</td></tr>\n",
              "\t<tr><td>0.71831865</td><td>2015-08-16</td></tr>\n",
              "\t<tr><td>0.26987859</td><td>2020-02-04</td></tr>\n",
              "\t<tr><td>0.60823719</td><td>2019-01-06</td></tr>\n",
              "</tbody>\n",
              "</table>\n"
            ],
            "text/markdown": "\nA spec_tbl_df: 2000 × 2\n\n| x &lt;dbl&gt; | y &lt;date&gt; |\n|---|---|\n|  404 | NA |\n| 4172 | NA |\n| 3004 | NA |\n|  787 | NA |\n|   37 | NA |\n| 2332 | NA |\n| 2489 | NA |\n| 1449 | NA |\n| 3665 | NA |\n| 3863 | NA |\n| 4374 | NA |\n|  875 | NA |\n|  172 | NA |\n| 1602 | NA |\n| 2012 | NA |\n|  979 | NA |\n| 2018 | NA |\n|  319 | NA |\n| 1944 | NA |\n| 4878 | NA |\n| 1450 | NA |\n| 3392 | NA |\n| 3677 | NA |\n|  980 | NA |\n| 4903 | NA |\n| 3708 | NA |\n|  258 | NA |\n| 2652 | NA |\n| 3480 | NA |\n| 3443 | NA |\n| ⋮ | ⋮ |\n| 0.14324546 | 2020-06-10 |\n| 0.42678032 | 2013-11-08 |\n| 0.56445359 | 2017-07-12 |\n| 0.18729942 | 2016-08-12 |\n| 0.60274952 | 2022-05-12 |\n| 0.73487829 | 2020-08-11 |\n| 0.06834881 | 2011-10-26 |\n| 0.78291796 | 2015-12-09 |\n| 0.92149271 | 2012-09-27 |\n| 0.04428217 | 2013-02-04 |\n| 0.71311485 | 2010-11-29 |\n| 0.90388602 | 2013-10-16 |\n| 0.73958150 | 2015-04-26 |\n| 0.17217563 | 2011-04-12 |\n| 0.18658998 | 2017-01-30 |\n| 0.38248836 | 2014-06-08 |\n| 0.45361328 | 2016-10-19 |\n| 0.45513148 | 2023-09-01 |\n| 0.17310278 | 2010-01-09 |\n| 0.30541726 | 2020-01-11 |\n| 0.86775210 | 2016-12-16 |\n| 0.26023225 | 2010-01-03 |\n| 0.68087076 | 2016-04-23 |\n| 0.85357656 | 2016-08-10 |\n| 0.80527431 | 2019-11-21 |\n| 0.16351634 | 2018-03-29 |\n| 0.47193898 | 2014-08-04 |\n| 0.71831865 | 2015-08-16 |\n| 0.26987859 | 2020-02-04 |\n| 0.60823719 | 2019-01-06 |\n\n",
            "text/latex": "A spec\\_tbl\\_df: 2000 × 2\n\\begin{tabular}{ll}\n x & y\\\\\n <dbl> & <date>\\\\\n\\hline\n\t  404 & NA\\\\\n\t 4172 & NA\\\\\n\t 3004 & NA\\\\\n\t  787 & NA\\\\\n\t   37 & NA\\\\\n\t 2332 & NA\\\\\n\t 2489 & NA\\\\\n\t 1449 & NA\\\\\n\t 3665 & NA\\\\\n\t 3863 & NA\\\\\n\t 4374 & NA\\\\\n\t  875 & NA\\\\\n\t  172 & NA\\\\\n\t 1602 & NA\\\\\n\t 2012 & NA\\\\\n\t  979 & NA\\\\\n\t 2018 & NA\\\\\n\t  319 & NA\\\\\n\t 1944 & NA\\\\\n\t 4878 & NA\\\\\n\t 1450 & NA\\\\\n\t 3392 & NA\\\\\n\t 3677 & NA\\\\\n\t  980 & NA\\\\\n\t 4903 & NA\\\\\n\t 3708 & NA\\\\\n\t  258 & NA\\\\\n\t 2652 & NA\\\\\n\t 3480 & NA\\\\\n\t 3443 & NA\\\\\n\t ⋮ & ⋮\\\\\n\t 0.14324546 & 2020-06-10\\\\\n\t 0.42678032 & 2013-11-08\\\\\n\t 0.56445359 & 2017-07-12\\\\\n\t 0.18729942 & 2016-08-12\\\\\n\t 0.60274952 & 2022-05-12\\\\\n\t 0.73487829 & 2020-08-11\\\\\n\t 0.06834881 & 2011-10-26\\\\\n\t 0.78291796 & 2015-12-09\\\\\n\t 0.92149271 & 2012-09-27\\\\\n\t 0.04428217 & 2013-02-04\\\\\n\t 0.71311485 & 2010-11-29\\\\\n\t 0.90388602 & 2013-10-16\\\\\n\t 0.73958150 & 2015-04-26\\\\\n\t 0.17217563 & 2011-04-12\\\\\n\t 0.18658998 & 2017-01-30\\\\\n\t 0.38248836 & 2014-06-08\\\\\n\t 0.45361328 & 2016-10-19\\\\\n\t 0.45513148 & 2023-09-01\\\\\n\t 0.17310278 & 2010-01-09\\\\\n\t 0.30541726 & 2020-01-11\\\\\n\t 0.86775210 & 2016-12-16\\\\\n\t 0.26023225 & 2010-01-03\\\\\n\t 0.68087076 & 2016-04-23\\\\\n\t 0.85357656 & 2016-08-10\\\\\n\t 0.80527431 & 2019-11-21\\\\\n\t 0.16351634 & 2018-03-29\\\\\n\t 0.47193898 & 2014-08-04\\\\\n\t 0.71831865 & 2015-08-16\\\\\n\t 0.26987859 & 2020-02-04\\\\\n\t 0.60823719 & 2019-01-06\\\\\n\\end{tabular}\n",
            "text/plain": [
              "     x          y         \n",
              "1     404       <NA>      \n",
              "2    4172       <NA>      \n",
              "3    3004       <NA>      \n",
              "4     787       <NA>      \n",
              "5      37       <NA>      \n",
              "6    2332       <NA>      \n",
              "7    2489       <NA>      \n",
              "8    1449       <NA>      \n",
              "9    3665       <NA>      \n",
              "10   3863       <NA>      \n",
              "11   4374       <NA>      \n",
              "12    875       <NA>      \n",
              "13    172       <NA>      \n",
              "14   1602       <NA>      \n",
              "15   2012       <NA>      \n",
              "16    979       <NA>      \n",
              "17   2018       <NA>      \n",
              "18    319       <NA>      \n",
              "19   1944       <NA>      \n",
              "20   4878       <NA>      \n",
              "21   1450       <NA>      \n",
              "22   3392       <NA>      \n",
              "23   3677       <NA>      \n",
              "24    980       <NA>      \n",
              "25   4903       <NA>      \n",
              "26   3708       <NA>      \n",
              "27    258       <NA>      \n",
              "28   2652       <NA>      \n",
              "29   3480       <NA>      \n",
              "30   3443       <NA>      \n",
              "⋮    ⋮          ⋮         \n",
              "1971 0.14324546 2020-06-10\n",
              "1972 0.42678032 2013-11-08\n",
              "1973 0.56445359 2017-07-12\n",
              "1974 0.18729942 2016-08-12\n",
              "1975 0.60274952 2022-05-12\n",
              "1976 0.73487829 2020-08-11\n",
              "1977 0.06834881 2011-10-26\n",
              "1978 0.78291796 2015-12-09\n",
              "1979 0.92149271 2012-09-27\n",
              "1980 0.04428217 2013-02-04\n",
              "1981 0.71311485 2010-11-29\n",
              "1982 0.90388602 2013-10-16\n",
              "1983 0.73958150 2015-04-26\n",
              "1984 0.17217563 2011-04-12\n",
              "1985 0.18658998 2017-01-30\n",
              "1986 0.38248836 2014-06-08\n",
              "1987 0.45361328 2016-10-19\n",
              "1988 0.45513148 2023-09-01\n",
              "1989 0.17310278 2010-01-09\n",
              "1990 0.30541726 2020-01-11\n",
              "1991 0.86775210 2016-12-16\n",
              "1992 0.26023225 2010-01-03\n",
              "1993 0.68087076 2016-04-23\n",
              "1994 0.85357656 2016-08-10\n",
              "1995 0.80527431 2019-11-21\n",
              "1996 0.16351634 2018-03-29\n",
              "1997 0.47193898 2014-08-04\n",
              "1998 0.71831865 2015-08-16\n",
              "1999 0.26987859 2020-02-04\n",
              "2000 0.60823719 2019-01-06"
            ]
          },
          "metadata": {}
        }
      ]
    },
    {
      "cell_type": "code",
      "source": [
        "write_csv(desafio, \"desafio-2.csv\")\n",
        "read_csv(\"desafio-2.csv\")"
      ],
      "metadata": {
        "colab": {
          "base_uri": "https://localhost:8080/",
          "height": 1000
        },
        "id": "G6f0aUB7ZdoG",
        "outputId": "d715c8b9-846d-4ddd-c3fd-a25f723b245a"
      },
      "execution_count": null,
      "outputs": [
        {
          "output_type": "stream",
          "name": "stderr",
          "text": [
            "\u001b[1mRows: \u001b[22m\u001b[34m2000\u001b[39m \u001b[1mColumns: \u001b[22m\u001b[34m2\u001b[39m\n",
            "\u001b[36m──\u001b[39m \u001b[1mColumn specification\u001b[22m \u001b[36m────────────────────────────────────────────────────────\u001b[39m\n",
            "\u001b[1mDelimiter:\u001b[22m \",\"\n",
            "\u001b[32mdbl\u001b[39m  (1): x\n",
            "\u001b[34mdate\u001b[39m (1): y\n",
            "\n",
            "\u001b[36mℹ\u001b[39m Use `spec()` to retrieve the full column specification for this data.\n",
            "\u001b[36mℹ\u001b[39m Specify the column types or set `show_col_types = FALSE` to quiet this message.\n"
          ]
        },
        {
          "output_type": "display_data",
          "data": {
            "text/html": [
              "<table class=\"dataframe\">\n",
              "<caption>A spec_tbl_df: 2000 × 2</caption>\n",
              "<thead>\n",
              "\t<tr><th scope=col>x</th><th scope=col>y</th></tr>\n",
              "\t<tr><th scope=col>&lt;dbl&gt;</th><th scope=col>&lt;date&gt;</th></tr>\n",
              "</thead>\n",
              "<tbody>\n",
              "\t<tr><td> 404</td><td>NA</td></tr>\n",
              "\t<tr><td>4172</td><td>NA</td></tr>\n",
              "\t<tr><td>3004</td><td>NA</td></tr>\n",
              "\t<tr><td> 787</td><td>NA</td></tr>\n",
              "\t<tr><td>  37</td><td>NA</td></tr>\n",
              "\t<tr><td>2332</td><td>NA</td></tr>\n",
              "\t<tr><td>2489</td><td>NA</td></tr>\n",
              "\t<tr><td>1449</td><td>NA</td></tr>\n",
              "\t<tr><td>3665</td><td>NA</td></tr>\n",
              "\t<tr><td>3863</td><td>NA</td></tr>\n",
              "\t<tr><td>4374</td><td>NA</td></tr>\n",
              "\t<tr><td> 875</td><td>NA</td></tr>\n",
              "\t<tr><td> 172</td><td>NA</td></tr>\n",
              "\t<tr><td>1602</td><td>NA</td></tr>\n",
              "\t<tr><td>2012</td><td>NA</td></tr>\n",
              "\t<tr><td> 979</td><td>NA</td></tr>\n",
              "\t<tr><td>2018</td><td>NA</td></tr>\n",
              "\t<tr><td> 319</td><td>NA</td></tr>\n",
              "\t<tr><td>1944</td><td>NA</td></tr>\n",
              "\t<tr><td>4878</td><td>NA</td></tr>\n",
              "\t<tr><td>1450</td><td>NA</td></tr>\n",
              "\t<tr><td>3392</td><td>NA</td></tr>\n",
              "\t<tr><td>3677</td><td>NA</td></tr>\n",
              "\t<tr><td> 980</td><td>NA</td></tr>\n",
              "\t<tr><td>4903</td><td>NA</td></tr>\n",
              "\t<tr><td>3708</td><td>NA</td></tr>\n",
              "\t<tr><td> 258</td><td>NA</td></tr>\n",
              "\t<tr><td>2652</td><td>NA</td></tr>\n",
              "\t<tr><td>3480</td><td>NA</td></tr>\n",
              "\t<tr><td>3443</td><td>NA</td></tr>\n",
              "\t<tr><td>⋮</td><td>⋮</td></tr>\n",
              "\t<tr><td>0.14324546</td><td>2020-06-10</td></tr>\n",
              "\t<tr><td>0.42678032</td><td>2013-11-08</td></tr>\n",
              "\t<tr><td>0.56445359</td><td>2017-07-12</td></tr>\n",
              "\t<tr><td>0.18729942</td><td>2016-08-12</td></tr>\n",
              "\t<tr><td>0.60274952</td><td>2022-05-12</td></tr>\n",
              "\t<tr><td>0.73487829</td><td>2020-08-11</td></tr>\n",
              "\t<tr><td>0.06834881</td><td>2011-10-26</td></tr>\n",
              "\t<tr><td>0.78291796</td><td>2015-12-09</td></tr>\n",
              "\t<tr><td>0.92149271</td><td>2012-09-27</td></tr>\n",
              "\t<tr><td>0.04428217</td><td>2013-02-04</td></tr>\n",
              "\t<tr><td>0.71311485</td><td>2010-11-29</td></tr>\n",
              "\t<tr><td>0.90388602</td><td>2013-10-16</td></tr>\n",
              "\t<tr><td>0.73958150</td><td>2015-04-26</td></tr>\n",
              "\t<tr><td>0.17217563</td><td>2011-04-12</td></tr>\n",
              "\t<tr><td>0.18658998</td><td>2017-01-30</td></tr>\n",
              "\t<tr><td>0.38248836</td><td>2014-06-08</td></tr>\n",
              "\t<tr><td>0.45361328</td><td>2016-10-19</td></tr>\n",
              "\t<tr><td>0.45513148</td><td>2023-09-01</td></tr>\n",
              "\t<tr><td>0.17310278</td><td>2010-01-09</td></tr>\n",
              "\t<tr><td>0.30541726</td><td>2020-01-11</td></tr>\n",
              "\t<tr><td>0.86775210</td><td>2016-12-16</td></tr>\n",
              "\t<tr><td>0.26023225</td><td>2010-01-03</td></tr>\n",
              "\t<tr><td>0.68087076</td><td>2016-04-23</td></tr>\n",
              "\t<tr><td>0.85357656</td><td>2016-08-10</td></tr>\n",
              "\t<tr><td>0.80527431</td><td>2019-11-21</td></tr>\n",
              "\t<tr><td>0.16351634</td><td>2018-03-29</td></tr>\n",
              "\t<tr><td>0.47193898</td><td>2014-08-04</td></tr>\n",
              "\t<tr><td>0.71831865</td><td>2015-08-16</td></tr>\n",
              "\t<tr><td>0.26987859</td><td>2020-02-04</td></tr>\n",
              "\t<tr><td>0.60823719</td><td>2019-01-06</td></tr>\n",
              "</tbody>\n",
              "</table>\n"
            ],
            "text/markdown": "\nA spec_tbl_df: 2000 × 2\n\n| x &lt;dbl&gt; | y &lt;date&gt; |\n|---|---|\n|  404 | NA |\n| 4172 | NA |\n| 3004 | NA |\n|  787 | NA |\n|   37 | NA |\n| 2332 | NA |\n| 2489 | NA |\n| 1449 | NA |\n| 3665 | NA |\n| 3863 | NA |\n| 4374 | NA |\n|  875 | NA |\n|  172 | NA |\n| 1602 | NA |\n| 2012 | NA |\n|  979 | NA |\n| 2018 | NA |\n|  319 | NA |\n| 1944 | NA |\n| 4878 | NA |\n| 1450 | NA |\n| 3392 | NA |\n| 3677 | NA |\n|  980 | NA |\n| 4903 | NA |\n| 3708 | NA |\n|  258 | NA |\n| 2652 | NA |\n| 3480 | NA |\n| 3443 | NA |\n| ⋮ | ⋮ |\n| 0.14324546 | 2020-06-10 |\n| 0.42678032 | 2013-11-08 |\n| 0.56445359 | 2017-07-12 |\n| 0.18729942 | 2016-08-12 |\n| 0.60274952 | 2022-05-12 |\n| 0.73487829 | 2020-08-11 |\n| 0.06834881 | 2011-10-26 |\n| 0.78291796 | 2015-12-09 |\n| 0.92149271 | 2012-09-27 |\n| 0.04428217 | 2013-02-04 |\n| 0.71311485 | 2010-11-29 |\n| 0.90388602 | 2013-10-16 |\n| 0.73958150 | 2015-04-26 |\n| 0.17217563 | 2011-04-12 |\n| 0.18658998 | 2017-01-30 |\n| 0.38248836 | 2014-06-08 |\n| 0.45361328 | 2016-10-19 |\n| 0.45513148 | 2023-09-01 |\n| 0.17310278 | 2010-01-09 |\n| 0.30541726 | 2020-01-11 |\n| 0.86775210 | 2016-12-16 |\n| 0.26023225 | 2010-01-03 |\n| 0.68087076 | 2016-04-23 |\n| 0.85357656 | 2016-08-10 |\n| 0.80527431 | 2019-11-21 |\n| 0.16351634 | 2018-03-29 |\n| 0.47193898 | 2014-08-04 |\n| 0.71831865 | 2015-08-16 |\n| 0.26987859 | 2020-02-04 |\n| 0.60823719 | 2019-01-06 |\n\n",
            "text/latex": "A spec\\_tbl\\_df: 2000 × 2\n\\begin{tabular}{ll}\n x & y\\\\\n <dbl> & <date>\\\\\n\\hline\n\t  404 & NA\\\\\n\t 4172 & NA\\\\\n\t 3004 & NA\\\\\n\t  787 & NA\\\\\n\t   37 & NA\\\\\n\t 2332 & NA\\\\\n\t 2489 & NA\\\\\n\t 1449 & NA\\\\\n\t 3665 & NA\\\\\n\t 3863 & NA\\\\\n\t 4374 & NA\\\\\n\t  875 & NA\\\\\n\t  172 & NA\\\\\n\t 1602 & NA\\\\\n\t 2012 & NA\\\\\n\t  979 & NA\\\\\n\t 2018 & NA\\\\\n\t  319 & NA\\\\\n\t 1944 & NA\\\\\n\t 4878 & NA\\\\\n\t 1450 & NA\\\\\n\t 3392 & NA\\\\\n\t 3677 & NA\\\\\n\t  980 & NA\\\\\n\t 4903 & NA\\\\\n\t 3708 & NA\\\\\n\t  258 & NA\\\\\n\t 2652 & NA\\\\\n\t 3480 & NA\\\\\n\t 3443 & NA\\\\\n\t ⋮ & ⋮\\\\\n\t 0.14324546 & 2020-06-10\\\\\n\t 0.42678032 & 2013-11-08\\\\\n\t 0.56445359 & 2017-07-12\\\\\n\t 0.18729942 & 2016-08-12\\\\\n\t 0.60274952 & 2022-05-12\\\\\n\t 0.73487829 & 2020-08-11\\\\\n\t 0.06834881 & 2011-10-26\\\\\n\t 0.78291796 & 2015-12-09\\\\\n\t 0.92149271 & 2012-09-27\\\\\n\t 0.04428217 & 2013-02-04\\\\\n\t 0.71311485 & 2010-11-29\\\\\n\t 0.90388602 & 2013-10-16\\\\\n\t 0.73958150 & 2015-04-26\\\\\n\t 0.17217563 & 2011-04-12\\\\\n\t 0.18658998 & 2017-01-30\\\\\n\t 0.38248836 & 2014-06-08\\\\\n\t 0.45361328 & 2016-10-19\\\\\n\t 0.45513148 & 2023-09-01\\\\\n\t 0.17310278 & 2010-01-09\\\\\n\t 0.30541726 & 2020-01-11\\\\\n\t 0.86775210 & 2016-12-16\\\\\n\t 0.26023225 & 2010-01-03\\\\\n\t 0.68087076 & 2016-04-23\\\\\n\t 0.85357656 & 2016-08-10\\\\\n\t 0.80527431 & 2019-11-21\\\\\n\t 0.16351634 & 2018-03-29\\\\\n\t 0.47193898 & 2014-08-04\\\\\n\t 0.71831865 & 2015-08-16\\\\\n\t 0.26987859 & 2020-02-04\\\\\n\t 0.60823719 & 2019-01-06\\\\\n\\end{tabular}\n",
            "text/plain": [
              "     x          y         \n",
              "1     404       <NA>      \n",
              "2    4172       <NA>      \n",
              "3    3004       <NA>      \n",
              "4     787       <NA>      \n",
              "5      37       <NA>      \n",
              "6    2332       <NA>      \n",
              "7    2489       <NA>      \n",
              "8    1449       <NA>      \n",
              "9    3665       <NA>      \n",
              "10   3863       <NA>      \n",
              "11   4374       <NA>      \n",
              "12    875       <NA>      \n",
              "13    172       <NA>      \n",
              "14   1602       <NA>      \n",
              "15   2012       <NA>      \n",
              "16    979       <NA>      \n",
              "17   2018       <NA>      \n",
              "18    319       <NA>      \n",
              "19   1944       <NA>      \n",
              "20   4878       <NA>      \n",
              "21   1450       <NA>      \n",
              "22   3392       <NA>      \n",
              "23   3677       <NA>      \n",
              "24    980       <NA>      \n",
              "25   4903       <NA>      \n",
              "26   3708       <NA>      \n",
              "27    258       <NA>      \n",
              "28   2652       <NA>      \n",
              "29   3480       <NA>      \n",
              "30   3443       <NA>      \n",
              "⋮    ⋮          ⋮         \n",
              "1971 0.14324546 2020-06-10\n",
              "1972 0.42678032 2013-11-08\n",
              "1973 0.56445359 2017-07-12\n",
              "1974 0.18729942 2016-08-12\n",
              "1975 0.60274952 2022-05-12\n",
              "1976 0.73487829 2020-08-11\n",
              "1977 0.06834881 2011-10-26\n",
              "1978 0.78291796 2015-12-09\n",
              "1979 0.92149271 2012-09-27\n",
              "1980 0.04428217 2013-02-04\n",
              "1981 0.71311485 2010-11-29\n",
              "1982 0.90388602 2013-10-16\n",
              "1983 0.73958150 2015-04-26\n",
              "1984 0.17217563 2011-04-12\n",
              "1985 0.18658998 2017-01-30\n",
              "1986 0.38248836 2014-06-08\n",
              "1987 0.45361328 2016-10-19\n",
              "1988 0.45513148 2023-09-01\n",
              "1989 0.17310278 2010-01-09\n",
              "1990 0.30541726 2020-01-11\n",
              "1991 0.86775210 2016-12-16\n",
              "1992 0.26023225 2010-01-03\n",
              "1993 0.68087076 2016-04-23\n",
              "1994 0.85357656 2016-08-10\n",
              "1995 0.80527431 2019-11-21\n",
              "1996 0.16351634 2018-03-29\n",
              "1997 0.47193898 2014-08-04\n",
              "1998 0.71831865 2015-08-16\n",
              "1999 0.26987859 2020-02-04\n",
              "2000 0.60823719 2019-01-06"
            ]
          },
          "metadata": {}
        }
      ]
    },
    {
      "cell_type": "markdown",
      "source": [
        "Esto hace a los CSV poco confiables para almacenar en caché los resultados provisorios — necesitas recrear la especificación de las columnas cada vez que los cargas. Hay dos alternativas:\n",
        "\n",
        "`write_rds()` and `read_rds()` son funciones “envoltorio” (*wrappers*) uniformes sobre las funciones base `readRDS()` y `saveRDS()`. Estas almacenan datos en un formato binario propio de R llamado RDS:"
      ],
      "metadata": {
        "id": "I0t62sHXZhcX"
      }
    },
    {
      "cell_type": "code",
      "source": [
        "write_rds(desafio, \"desafio.rds\")\n",
        "read_rds(\"desafio.rds\")"
      ],
      "metadata": {
        "colab": {
          "base_uri": "https://localhost:8080/",
          "height": 1000
        },
        "id": "pZOVcztAZ5yF",
        "outputId": "9121fc81-7cb5-4a05-d58e-bc8a9654990d"
      },
      "execution_count": null,
      "outputs": [
        {
          "output_type": "display_data",
          "data": {
            "text/html": [
              "<table class=\"dataframe\">\n",
              "<caption>A spec_tbl_df: 2000 × 2</caption>\n",
              "<thead>\n",
              "\t<tr><th scope=col>x</th><th scope=col>y</th></tr>\n",
              "\t<tr><th scope=col>&lt;chr&gt;</th><th scope=col>&lt;chr&gt;</th></tr>\n",
              "</thead>\n",
              "<tbody>\n",
              "\t<tr><td>404 </td><td>NA</td></tr>\n",
              "\t<tr><td>4172</td><td>NA</td></tr>\n",
              "\t<tr><td>3004</td><td>NA</td></tr>\n",
              "\t<tr><td>787 </td><td>NA</td></tr>\n",
              "\t<tr><td>37  </td><td>NA</td></tr>\n",
              "\t<tr><td>2332</td><td>NA</td></tr>\n",
              "\t<tr><td>2489</td><td>NA</td></tr>\n",
              "\t<tr><td>1449</td><td>NA</td></tr>\n",
              "\t<tr><td>3665</td><td>NA</td></tr>\n",
              "\t<tr><td>3863</td><td>NA</td></tr>\n",
              "\t<tr><td>4374</td><td>NA</td></tr>\n",
              "\t<tr><td>875 </td><td>NA</td></tr>\n",
              "\t<tr><td>172 </td><td>NA</td></tr>\n",
              "\t<tr><td>1602</td><td>NA</td></tr>\n",
              "\t<tr><td>2012</td><td>NA</td></tr>\n",
              "\t<tr><td>979 </td><td>NA</td></tr>\n",
              "\t<tr><td>2018</td><td>NA</td></tr>\n",
              "\t<tr><td>319 </td><td>NA</td></tr>\n",
              "\t<tr><td>1944</td><td>NA</td></tr>\n",
              "\t<tr><td>4878</td><td>NA</td></tr>\n",
              "\t<tr><td>1450</td><td>NA</td></tr>\n",
              "\t<tr><td>3392</td><td>NA</td></tr>\n",
              "\t<tr><td>3677</td><td>NA</td></tr>\n",
              "\t<tr><td>980 </td><td>NA</td></tr>\n",
              "\t<tr><td>4903</td><td>NA</td></tr>\n",
              "\t<tr><td>3708</td><td>NA</td></tr>\n",
              "\t<tr><td>258 </td><td>NA</td></tr>\n",
              "\t<tr><td>2652</td><td>NA</td></tr>\n",
              "\t<tr><td>3480</td><td>NA</td></tr>\n",
              "\t<tr><td>3443</td><td>NA</td></tr>\n",
              "\t<tr><td>⋮</td><td>⋮</td></tr>\n",
              "\t<tr><td>0.14324546162970364</td><td>2020-06-10</td></tr>\n",
              "\t<tr><td>0.42678032303228974</td><td>2013-11-08</td></tr>\n",
              "\t<tr><td>0.5644535899627954 </td><td>2017-07-12</td></tr>\n",
              "\t<tr><td>0.18729942245408893</td><td>2016-08-12</td></tr>\n",
              "\t<tr><td>0.6027495227754116 </td><td>2022-05-12</td></tr>\n",
              "\t<tr><td>0.7348782932385802 </td><td>2020-08-11</td></tr>\n",
              "\t<tr><td>0.06834881310351193</td><td>2011-10-26</td></tr>\n",
              "\t<tr><td>0.7829179642722011 </td><td>2015-12-09</td></tr>\n",
              "\t<tr><td>0.921492709312588  </td><td>2012-09-27</td></tr>\n",
              "\t<tr><td>0.04428216675296426</td><td>2013-02-04</td></tr>\n",
              "\t<tr><td>0.7131148546468467 </td><td>2010-11-29</td></tr>\n",
              "\t<tr><td>0.9038860204163939 </td><td>2013-10-16</td></tr>\n",
              "\t<tr><td>0.7395815039053559 </td><td>2015-04-26</td></tr>\n",
              "\t<tr><td>0.1721756304614246 </td><td>2011-04-12</td></tr>\n",
              "\t<tr><td>0.18658997677266598</td><td>2017-01-30</td></tr>\n",
              "\t<tr><td>0.38248836481943727</td><td>2014-06-08</td></tr>\n",
              "\t<tr><td>0.45361327519640326</td><td>2016-10-19</td></tr>\n",
              "\t<tr><td>0.4551314772106707 </td><td>2023-09-01</td></tr>\n",
              "\t<tr><td>0.17310278164222836</td><td>2010-01-09</td></tr>\n",
              "\t<tr><td>0.3054172566626221 </td><td>2020-01-11</td></tr>\n",
              "\t<tr><td>0.867752101039514  </td><td>2016-12-16</td></tr>\n",
              "\t<tr><td>0.2602322499733418 </td><td>2010-01-03</td></tr>\n",
              "\t<tr><td>0.6808707599993795 </td><td>2016-04-23</td></tr>\n",
              "\t<tr><td>0.8535765560809523 </td><td>2016-08-10</td></tr>\n",
              "\t<tr><td>0.805274312151596  </td><td>2019-11-21</td></tr>\n",
              "\t<tr><td>0.1635163405444473 </td><td>2018-03-29</td></tr>\n",
              "\t<tr><td>0.47193897631950676</td><td>2014-08-04</td></tr>\n",
              "\t<tr><td>0.7183186465408653 </td><td>2015-08-16</td></tr>\n",
              "\t<tr><td>0.26987858884967864</td><td>2020-02-04</td></tr>\n",
              "\t<tr><td>0.608237189007923  </td><td>2019-01-06</td></tr>\n",
              "</tbody>\n",
              "</table>\n"
            ],
            "text/markdown": "\nA spec_tbl_df: 2000 × 2\n\n| x &lt;chr&gt; | y &lt;chr&gt; |\n|---|---|\n| 404  | NA |\n| 4172 | NA |\n| 3004 | NA |\n| 787  | NA |\n| 37   | NA |\n| 2332 | NA |\n| 2489 | NA |\n| 1449 | NA |\n| 3665 | NA |\n| 3863 | NA |\n| 4374 | NA |\n| 875  | NA |\n| 172  | NA |\n| 1602 | NA |\n| 2012 | NA |\n| 979  | NA |\n| 2018 | NA |\n| 319  | NA |\n| 1944 | NA |\n| 4878 | NA |\n| 1450 | NA |\n| 3392 | NA |\n| 3677 | NA |\n| 980  | NA |\n| 4903 | NA |\n| 3708 | NA |\n| 258  | NA |\n| 2652 | NA |\n| 3480 | NA |\n| 3443 | NA |\n| ⋮ | ⋮ |\n| 0.14324546162970364 | 2020-06-10 |\n| 0.42678032303228974 | 2013-11-08 |\n| 0.5644535899627954  | 2017-07-12 |\n| 0.18729942245408893 | 2016-08-12 |\n| 0.6027495227754116  | 2022-05-12 |\n| 0.7348782932385802  | 2020-08-11 |\n| 0.06834881310351193 | 2011-10-26 |\n| 0.7829179642722011  | 2015-12-09 |\n| 0.921492709312588   | 2012-09-27 |\n| 0.04428216675296426 | 2013-02-04 |\n| 0.7131148546468467  | 2010-11-29 |\n| 0.9038860204163939  | 2013-10-16 |\n| 0.7395815039053559  | 2015-04-26 |\n| 0.1721756304614246  | 2011-04-12 |\n| 0.18658997677266598 | 2017-01-30 |\n| 0.38248836481943727 | 2014-06-08 |\n| 0.45361327519640326 | 2016-10-19 |\n| 0.4551314772106707  | 2023-09-01 |\n| 0.17310278164222836 | 2010-01-09 |\n| 0.3054172566626221  | 2020-01-11 |\n| 0.867752101039514   | 2016-12-16 |\n| 0.2602322499733418  | 2010-01-03 |\n| 0.6808707599993795  | 2016-04-23 |\n| 0.8535765560809523  | 2016-08-10 |\n| 0.805274312151596   | 2019-11-21 |\n| 0.1635163405444473  | 2018-03-29 |\n| 0.47193897631950676 | 2014-08-04 |\n| 0.7183186465408653  | 2015-08-16 |\n| 0.26987858884967864 | 2020-02-04 |\n| 0.608237189007923   | 2019-01-06 |\n\n",
            "text/latex": "A spec\\_tbl\\_df: 2000 × 2\n\\begin{tabular}{ll}\n x & y\\\\\n <chr> & <chr>\\\\\n\\hline\n\t 404  & NA\\\\\n\t 4172 & NA\\\\\n\t 3004 & NA\\\\\n\t 787  & NA\\\\\n\t 37   & NA\\\\\n\t 2332 & NA\\\\\n\t 2489 & NA\\\\\n\t 1449 & NA\\\\\n\t 3665 & NA\\\\\n\t 3863 & NA\\\\\n\t 4374 & NA\\\\\n\t 875  & NA\\\\\n\t 172  & NA\\\\\n\t 1602 & NA\\\\\n\t 2012 & NA\\\\\n\t 979  & NA\\\\\n\t 2018 & NA\\\\\n\t 319  & NA\\\\\n\t 1944 & NA\\\\\n\t 4878 & NA\\\\\n\t 1450 & NA\\\\\n\t 3392 & NA\\\\\n\t 3677 & NA\\\\\n\t 980  & NA\\\\\n\t 4903 & NA\\\\\n\t 3708 & NA\\\\\n\t 258  & NA\\\\\n\t 2652 & NA\\\\\n\t 3480 & NA\\\\\n\t 3443 & NA\\\\\n\t ⋮ & ⋮\\\\\n\t 0.14324546162970364 & 2020-06-10\\\\\n\t 0.42678032303228974 & 2013-11-08\\\\\n\t 0.5644535899627954  & 2017-07-12\\\\\n\t 0.18729942245408893 & 2016-08-12\\\\\n\t 0.6027495227754116  & 2022-05-12\\\\\n\t 0.7348782932385802  & 2020-08-11\\\\\n\t 0.06834881310351193 & 2011-10-26\\\\\n\t 0.7829179642722011  & 2015-12-09\\\\\n\t 0.921492709312588   & 2012-09-27\\\\\n\t 0.04428216675296426 & 2013-02-04\\\\\n\t 0.7131148546468467  & 2010-11-29\\\\\n\t 0.9038860204163939  & 2013-10-16\\\\\n\t 0.7395815039053559  & 2015-04-26\\\\\n\t 0.1721756304614246  & 2011-04-12\\\\\n\t 0.18658997677266598 & 2017-01-30\\\\\n\t 0.38248836481943727 & 2014-06-08\\\\\n\t 0.45361327519640326 & 2016-10-19\\\\\n\t 0.4551314772106707  & 2023-09-01\\\\\n\t 0.17310278164222836 & 2010-01-09\\\\\n\t 0.3054172566626221  & 2020-01-11\\\\\n\t 0.867752101039514   & 2016-12-16\\\\\n\t 0.2602322499733418  & 2010-01-03\\\\\n\t 0.6808707599993795  & 2016-04-23\\\\\n\t 0.8535765560809523  & 2016-08-10\\\\\n\t 0.805274312151596   & 2019-11-21\\\\\n\t 0.1635163405444473  & 2018-03-29\\\\\n\t 0.47193897631950676 & 2014-08-04\\\\\n\t 0.7183186465408653  & 2015-08-16\\\\\n\t 0.26987858884967864 & 2020-02-04\\\\\n\t 0.608237189007923   & 2019-01-06\\\\\n\\end{tabular}\n",
            "text/plain": [
              "     x                   y         \n",
              "1    404                 NA        \n",
              "2    4172                NA        \n",
              "3    3004                NA        \n",
              "4    787                 NA        \n",
              "5    37                  NA        \n",
              "6    2332                NA        \n",
              "7    2489                NA        \n",
              "8    1449                NA        \n",
              "9    3665                NA        \n",
              "10   3863                NA        \n",
              "11   4374                NA        \n",
              "12   875                 NA        \n",
              "13   172                 NA        \n",
              "14   1602                NA        \n",
              "15   2012                NA        \n",
              "16   979                 NA        \n",
              "17   2018                NA        \n",
              "18   319                 NA        \n",
              "19   1944                NA        \n",
              "20   4878                NA        \n",
              "21   1450                NA        \n",
              "22   3392                NA        \n",
              "23   3677                NA        \n",
              "24   980                 NA        \n",
              "25   4903                NA        \n",
              "26   3708                NA        \n",
              "27   258                 NA        \n",
              "28   2652                NA        \n",
              "29   3480                NA        \n",
              "30   3443                NA        \n",
              "⋮    ⋮                   ⋮         \n",
              "1971 0.14324546162970364 2020-06-10\n",
              "1972 0.42678032303228974 2013-11-08\n",
              "1973 0.5644535899627954  2017-07-12\n",
              "1974 0.18729942245408893 2016-08-12\n",
              "1975 0.6027495227754116  2022-05-12\n",
              "1976 0.7348782932385802  2020-08-11\n",
              "1977 0.06834881310351193 2011-10-26\n",
              "1978 0.7829179642722011  2015-12-09\n",
              "1979 0.921492709312588   2012-09-27\n",
              "1980 0.04428216675296426 2013-02-04\n",
              "1981 0.7131148546468467  2010-11-29\n",
              "1982 0.9038860204163939  2013-10-16\n",
              "1983 0.7395815039053559  2015-04-26\n",
              "1984 0.1721756304614246  2011-04-12\n",
              "1985 0.18658997677266598 2017-01-30\n",
              "1986 0.38248836481943727 2014-06-08\n",
              "1987 0.45361327519640326 2016-10-19\n",
              "1988 0.4551314772106707  2023-09-01\n",
              "1989 0.17310278164222836 2010-01-09\n",
              "1990 0.3054172566626221  2020-01-11\n",
              "1991 0.867752101039514   2016-12-16\n",
              "1992 0.2602322499733418  2010-01-03\n",
              "1993 0.6808707599993795  2016-04-23\n",
              "1994 0.8535765560809523  2016-08-10\n",
              "1995 0.805274312151596   2019-11-21\n",
              "1996 0.1635163405444473  2018-03-29\n",
              "1997 0.47193897631950676 2014-08-04\n",
              "1998 0.7183186465408653  2015-08-16\n",
              "1999 0.26987858884967864 2020-02-04\n",
              "2000 0.608237189007923   2019-01-06"
            ]
          },
          "metadata": {}
        }
      ]
    },
    {
      "cell_type": "markdown",
      "source": [
        "2. El paquete **feather** implementa un formato rápido de archivos binarios que puede compartirse a través de lenguajes de programación:"
      ],
      "metadata": {
        "id": "XrVQVrw4Z8-L"
      }
    },
    {
      "cell_type": "code",
      "source": [
        "write_feather(desafio, \"desafio.feather\")\n",
        "read_feather(\"desafio.feather\")"
      ],
      "metadata": {
        "colab": {
          "base_uri": "https://localhost:8080/",
          "height": 1000
        },
        "id": "tCoKzvaNaCxt",
        "outputId": "375c9624-9778-4dbc-a307-af891d6cd35d"
      },
      "execution_count": null,
      "outputs": [
        {
          "output_type": "stream",
          "name": "stderr",
          "text": [
            "Installing package into ‘/usr/local/lib/R/site-library’\n",
            "(as ‘lib’ is unspecified)\n",
            "\n",
            "also installing the dependency ‘Rcpp’\n",
            "\n",
            "\n"
          ]
        },
        {
          "output_type": "display_data",
          "data": {
            "text/html": [
              "<table class=\"dataframe\">\n",
              "<caption>A tibble: 2000 × 2</caption>\n",
              "<thead>\n",
              "\t<tr><th scope=col>x</th><th scope=col>y</th></tr>\n",
              "\t<tr><th scope=col>&lt;chr&gt;</th><th scope=col>&lt;chr&gt;</th></tr>\n",
              "</thead>\n",
              "<tbody>\n",
              "\t<tr><td>404 </td><td>NA</td></tr>\n",
              "\t<tr><td>4172</td><td>NA</td></tr>\n",
              "\t<tr><td>3004</td><td>NA</td></tr>\n",
              "\t<tr><td>787 </td><td>NA</td></tr>\n",
              "\t<tr><td>37  </td><td>NA</td></tr>\n",
              "\t<tr><td>2332</td><td>NA</td></tr>\n",
              "\t<tr><td>2489</td><td>NA</td></tr>\n",
              "\t<tr><td>1449</td><td>NA</td></tr>\n",
              "\t<tr><td>3665</td><td>NA</td></tr>\n",
              "\t<tr><td>3863</td><td>NA</td></tr>\n",
              "\t<tr><td>4374</td><td>NA</td></tr>\n",
              "\t<tr><td>875 </td><td>NA</td></tr>\n",
              "\t<tr><td>172 </td><td>NA</td></tr>\n",
              "\t<tr><td>1602</td><td>NA</td></tr>\n",
              "\t<tr><td>2012</td><td>NA</td></tr>\n",
              "\t<tr><td>979 </td><td>NA</td></tr>\n",
              "\t<tr><td>2018</td><td>NA</td></tr>\n",
              "\t<tr><td>319 </td><td>NA</td></tr>\n",
              "\t<tr><td>1944</td><td>NA</td></tr>\n",
              "\t<tr><td>4878</td><td>NA</td></tr>\n",
              "\t<tr><td>1450</td><td>NA</td></tr>\n",
              "\t<tr><td>3392</td><td>NA</td></tr>\n",
              "\t<tr><td>3677</td><td>NA</td></tr>\n",
              "\t<tr><td>980 </td><td>NA</td></tr>\n",
              "\t<tr><td>4903</td><td>NA</td></tr>\n",
              "\t<tr><td>3708</td><td>NA</td></tr>\n",
              "\t<tr><td>258 </td><td>NA</td></tr>\n",
              "\t<tr><td>2652</td><td>NA</td></tr>\n",
              "\t<tr><td>3480</td><td>NA</td></tr>\n",
              "\t<tr><td>3443</td><td>NA</td></tr>\n",
              "\t<tr><td>⋮</td><td>⋮</td></tr>\n",
              "\t<tr><td>0.14324546162970364</td><td>2020-06-10</td></tr>\n",
              "\t<tr><td>0.42678032303228974</td><td>2013-11-08</td></tr>\n",
              "\t<tr><td>0.5644535899627954 </td><td>2017-07-12</td></tr>\n",
              "\t<tr><td>0.18729942245408893</td><td>2016-08-12</td></tr>\n",
              "\t<tr><td>0.6027495227754116 </td><td>2022-05-12</td></tr>\n",
              "\t<tr><td>0.7348782932385802 </td><td>2020-08-11</td></tr>\n",
              "\t<tr><td>0.06834881310351193</td><td>2011-10-26</td></tr>\n",
              "\t<tr><td>0.7829179642722011 </td><td>2015-12-09</td></tr>\n",
              "\t<tr><td>0.921492709312588  </td><td>2012-09-27</td></tr>\n",
              "\t<tr><td>0.04428216675296426</td><td>2013-02-04</td></tr>\n",
              "\t<tr><td>0.7131148546468467 </td><td>2010-11-29</td></tr>\n",
              "\t<tr><td>0.9038860204163939 </td><td>2013-10-16</td></tr>\n",
              "\t<tr><td>0.7395815039053559 </td><td>2015-04-26</td></tr>\n",
              "\t<tr><td>0.1721756304614246 </td><td>2011-04-12</td></tr>\n",
              "\t<tr><td>0.18658997677266598</td><td>2017-01-30</td></tr>\n",
              "\t<tr><td>0.38248836481943727</td><td>2014-06-08</td></tr>\n",
              "\t<tr><td>0.45361327519640326</td><td>2016-10-19</td></tr>\n",
              "\t<tr><td>0.4551314772106707 </td><td>2023-09-01</td></tr>\n",
              "\t<tr><td>0.17310278164222836</td><td>2010-01-09</td></tr>\n",
              "\t<tr><td>0.3054172566626221 </td><td>2020-01-11</td></tr>\n",
              "\t<tr><td>0.867752101039514  </td><td>2016-12-16</td></tr>\n",
              "\t<tr><td>0.2602322499733418 </td><td>2010-01-03</td></tr>\n",
              "\t<tr><td>0.6808707599993795 </td><td>2016-04-23</td></tr>\n",
              "\t<tr><td>0.8535765560809523 </td><td>2016-08-10</td></tr>\n",
              "\t<tr><td>0.805274312151596  </td><td>2019-11-21</td></tr>\n",
              "\t<tr><td>0.1635163405444473 </td><td>2018-03-29</td></tr>\n",
              "\t<tr><td>0.47193897631950676</td><td>2014-08-04</td></tr>\n",
              "\t<tr><td>0.7183186465408653 </td><td>2015-08-16</td></tr>\n",
              "\t<tr><td>0.26987858884967864</td><td>2020-02-04</td></tr>\n",
              "\t<tr><td>0.608237189007923  </td><td>2019-01-06</td></tr>\n",
              "</tbody>\n",
              "</table>\n"
            ],
            "text/markdown": "\nA tibble: 2000 × 2\n\n| x &lt;chr&gt; | y &lt;chr&gt; |\n|---|---|\n| 404  | NA |\n| 4172 | NA |\n| 3004 | NA |\n| 787  | NA |\n| 37   | NA |\n| 2332 | NA |\n| 2489 | NA |\n| 1449 | NA |\n| 3665 | NA |\n| 3863 | NA |\n| 4374 | NA |\n| 875  | NA |\n| 172  | NA |\n| 1602 | NA |\n| 2012 | NA |\n| 979  | NA |\n| 2018 | NA |\n| 319  | NA |\n| 1944 | NA |\n| 4878 | NA |\n| 1450 | NA |\n| 3392 | NA |\n| 3677 | NA |\n| 980  | NA |\n| 4903 | NA |\n| 3708 | NA |\n| 258  | NA |\n| 2652 | NA |\n| 3480 | NA |\n| 3443 | NA |\n| ⋮ | ⋮ |\n| 0.14324546162970364 | 2020-06-10 |\n| 0.42678032303228974 | 2013-11-08 |\n| 0.5644535899627954  | 2017-07-12 |\n| 0.18729942245408893 | 2016-08-12 |\n| 0.6027495227754116  | 2022-05-12 |\n| 0.7348782932385802  | 2020-08-11 |\n| 0.06834881310351193 | 2011-10-26 |\n| 0.7829179642722011  | 2015-12-09 |\n| 0.921492709312588   | 2012-09-27 |\n| 0.04428216675296426 | 2013-02-04 |\n| 0.7131148546468467  | 2010-11-29 |\n| 0.9038860204163939  | 2013-10-16 |\n| 0.7395815039053559  | 2015-04-26 |\n| 0.1721756304614246  | 2011-04-12 |\n| 0.18658997677266598 | 2017-01-30 |\n| 0.38248836481943727 | 2014-06-08 |\n| 0.45361327519640326 | 2016-10-19 |\n| 0.4551314772106707  | 2023-09-01 |\n| 0.17310278164222836 | 2010-01-09 |\n| 0.3054172566626221  | 2020-01-11 |\n| 0.867752101039514   | 2016-12-16 |\n| 0.2602322499733418  | 2010-01-03 |\n| 0.6808707599993795  | 2016-04-23 |\n| 0.8535765560809523  | 2016-08-10 |\n| 0.805274312151596   | 2019-11-21 |\n| 0.1635163405444473  | 2018-03-29 |\n| 0.47193897631950676 | 2014-08-04 |\n| 0.7183186465408653  | 2015-08-16 |\n| 0.26987858884967864 | 2020-02-04 |\n| 0.608237189007923   | 2019-01-06 |\n\n",
            "text/latex": "A tibble: 2000 × 2\n\\begin{tabular}{ll}\n x & y\\\\\n <chr> & <chr>\\\\\n\\hline\n\t 404  & NA\\\\\n\t 4172 & NA\\\\\n\t 3004 & NA\\\\\n\t 787  & NA\\\\\n\t 37   & NA\\\\\n\t 2332 & NA\\\\\n\t 2489 & NA\\\\\n\t 1449 & NA\\\\\n\t 3665 & NA\\\\\n\t 3863 & NA\\\\\n\t 4374 & NA\\\\\n\t 875  & NA\\\\\n\t 172  & NA\\\\\n\t 1602 & NA\\\\\n\t 2012 & NA\\\\\n\t 979  & NA\\\\\n\t 2018 & NA\\\\\n\t 319  & NA\\\\\n\t 1944 & NA\\\\\n\t 4878 & NA\\\\\n\t 1450 & NA\\\\\n\t 3392 & NA\\\\\n\t 3677 & NA\\\\\n\t 980  & NA\\\\\n\t 4903 & NA\\\\\n\t 3708 & NA\\\\\n\t 258  & NA\\\\\n\t 2652 & NA\\\\\n\t 3480 & NA\\\\\n\t 3443 & NA\\\\\n\t ⋮ & ⋮\\\\\n\t 0.14324546162970364 & 2020-06-10\\\\\n\t 0.42678032303228974 & 2013-11-08\\\\\n\t 0.5644535899627954  & 2017-07-12\\\\\n\t 0.18729942245408893 & 2016-08-12\\\\\n\t 0.6027495227754116  & 2022-05-12\\\\\n\t 0.7348782932385802  & 2020-08-11\\\\\n\t 0.06834881310351193 & 2011-10-26\\\\\n\t 0.7829179642722011  & 2015-12-09\\\\\n\t 0.921492709312588   & 2012-09-27\\\\\n\t 0.04428216675296426 & 2013-02-04\\\\\n\t 0.7131148546468467  & 2010-11-29\\\\\n\t 0.9038860204163939  & 2013-10-16\\\\\n\t 0.7395815039053559  & 2015-04-26\\\\\n\t 0.1721756304614246  & 2011-04-12\\\\\n\t 0.18658997677266598 & 2017-01-30\\\\\n\t 0.38248836481943727 & 2014-06-08\\\\\n\t 0.45361327519640326 & 2016-10-19\\\\\n\t 0.4551314772106707  & 2023-09-01\\\\\n\t 0.17310278164222836 & 2010-01-09\\\\\n\t 0.3054172566626221  & 2020-01-11\\\\\n\t 0.867752101039514   & 2016-12-16\\\\\n\t 0.2602322499733418  & 2010-01-03\\\\\n\t 0.6808707599993795  & 2016-04-23\\\\\n\t 0.8535765560809523  & 2016-08-10\\\\\n\t 0.805274312151596   & 2019-11-21\\\\\n\t 0.1635163405444473  & 2018-03-29\\\\\n\t 0.47193897631950676 & 2014-08-04\\\\\n\t 0.7183186465408653  & 2015-08-16\\\\\n\t 0.26987858884967864 & 2020-02-04\\\\\n\t 0.608237189007923   & 2019-01-06\\\\\n\\end{tabular}\n",
            "text/plain": [
              "     x                   y         \n",
              "1    404                 NA        \n",
              "2    4172                NA        \n",
              "3    3004                NA        \n",
              "4    787                 NA        \n",
              "5    37                  NA        \n",
              "6    2332                NA        \n",
              "7    2489                NA        \n",
              "8    1449                NA        \n",
              "9    3665                NA        \n",
              "10   3863                NA        \n",
              "11   4374                NA        \n",
              "12   875                 NA        \n",
              "13   172                 NA        \n",
              "14   1602                NA        \n",
              "15   2012                NA        \n",
              "16   979                 NA        \n",
              "17   2018                NA        \n",
              "18   319                 NA        \n",
              "19   1944                NA        \n",
              "20   4878                NA        \n",
              "21   1450                NA        \n",
              "22   3392                NA        \n",
              "23   3677                NA        \n",
              "24   980                 NA        \n",
              "25   4903                NA        \n",
              "26   3708                NA        \n",
              "27   258                 NA        \n",
              "28   2652                NA        \n",
              "29   3480                NA        \n",
              "30   3443                NA        \n",
              "⋮    ⋮                   ⋮         \n",
              "1971 0.14324546162970364 2020-06-10\n",
              "1972 0.42678032303228974 2013-11-08\n",
              "1973 0.5644535899627954  2017-07-12\n",
              "1974 0.18729942245408893 2016-08-12\n",
              "1975 0.6027495227754116  2022-05-12\n",
              "1976 0.7348782932385802  2020-08-11\n",
              "1977 0.06834881310351193 2011-10-26\n",
              "1978 0.7829179642722011  2015-12-09\n",
              "1979 0.921492709312588   2012-09-27\n",
              "1980 0.04428216675296426 2013-02-04\n",
              "1981 0.7131148546468467  2010-11-29\n",
              "1982 0.9038860204163939  2013-10-16\n",
              "1983 0.7395815039053559  2015-04-26\n",
              "1984 0.1721756304614246  2011-04-12\n",
              "1985 0.18658997677266598 2017-01-30\n",
              "1986 0.38248836481943727 2014-06-08\n",
              "1987 0.45361327519640326 2016-10-19\n",
              "1988 0.4551314772106707  2023-09-01\n",
              "1989 0.17310278164222836 2010-01-09\n",
              "1990 0.3054172566626221  2020-01-11\n",
              "1991 0.867752101039514   2016-12-16\n",
              "1992 0.2602322499733418  2010-01-03\n",
              "1993 0.6808707599993795  2016-04-23\n",
              "1994 0.8535765560809523  2016-08-10\n",
              "1995 0.805274312151596   2019-11-21\n",
              "1996 0.1635163405444473  2018-03-29\n",
              "1997 0.47193897631950676 2014-08-04\n",
              "1998 0.7183186465408653  2015-08-16\n",
              "1999 0.26987858884967864 2020-02-04\n",
              "2000 0.608237189007923   2019-01-06"
            ]
          },
          "metadata": {}
        }
      ]
    },
    {
      "cell_type": "markdown",
      "source": [
        "**Feather** tiende a ser más rápido que RDS y es utilizable fuera de R. RDS permite columnas-listas (sobre las que aprenderás en el capítulo Muchos modelos), algo que **feather** no permite actualmente."
      ],
      "metadata": {
        "id": "Dg5iauRlafK7"
      }
    },
    {
      "cell_type": "markdown",
      "source": [
        "## Otros tipos de datos"
      ],
      "metadata": {
        "id": "pPkeTGhWakQu"
      }
    },
    {
      "cell_type": "markdown",
      "source": [
        "Para acceder a otros tipos de datos en R te recomendamos comenzar con los paquetes de tidyverse listados abajo. Ciertamente no son perfectos, pero son un buen lugar para comenzar. Para datos rectangulares:\n",
        "\n",
        "* **haven** lee archivos SPSS, Stata y SAS.\n",
        "* **readxl** lee archivos excel (tanto .xls como .xlsx).\n",
        "* **DBI**, junto con un backend de base de datos específico (e.g. **RMySQL, RSQLite, RPostgreSQL**, etc.) te permite correr consultas SQL contra una base de datos y devolver un data frame."
      ],
      "metadata": {
        "id": "vooeTLLral-k"
      }
    },
    {
      "cell_type": "markdown",
      "metadata": {
        "id": "hBOzqlJKGJHk"
      },
      "source": [
        "## Importación de tabla\n",
        "\n",
        "R cuenta con la función genérica read.table(), que puede leer cualquier tipo de archivo que contenga una tabla."
      ]
    },
    {
      "cell_type": "markdown",
      "metadata": {
        "id": "IF5He3wsHIV3"
      },
      "source": [
        "### Importación de la tabla con librerías nativas de R \n",
        "\n",
        "Primero se descargan los datos y posteriormente hay que importar los datos, para ello se utiliza la función read.table. \n"
      ]
    },
    {
      "cell_type": "code",
      "metadata": {
        "id": "3hXPO_yAIGTN"
      },
      "source": [
        "#Descargando\n",
        "download.file(\n",
        "  url = \"https://raw.githubusercontent.com/jboscomendoza/r-principiantes-bookdown/master/datos/breast-cancer-wis.data\", \n",
        "  dest = \"breast-cancer-wis.data\"\n",
        ")\n"
      ],
      "execution_count": null,
      "outputs": []
    },
    {
      "cell_type": "markdown",
      "metadata": {
        "id": "aMd9519bKGU-"
      },
      "source": [
        "### Ubicación de los datos\n",
        "El directorio o carpeta de trabajo es el lugar en nuestra computadora en el que se encuentran los archivos con los que estamos trabajando en R"
      ]
    },
    {
      "cell_type": "code",
      "metadata": {
        "id": "5TyJrFCyJbYc"
      },
      "source": [
        "#Puedes encontrar cuál es tu directorio de trabajo con la función getwd(). \n",
        "getwd()\n",
        "#Puedes cambiar el directorio de trabajo usando la función setwd()"
      ],
      "execution_count": null,
      "outputs": []
    },
    {
      "cell_type": "code",
      "metadata": {
        "colab": {
          "base_uri": "https://localhost:8080/",
          "height": 286
        },
        "id": "ELnQbUzpJChQ",
        "outputId": "0a6b6ce8-54a5-43a2-b461-358981ec2847"
      },
      "source": [
        "#importando datos con la funcion read.table\n",
        "cancer<-read.table(\"/content/breast-cancer-wis.data\")\n",
        "head(cancer)"
      ],
      "execution_count": null,
      "outputs": [
        {
          "output_type": "display_data",
          "data": {
            "text/html": [
              "<table class=\"dataframe\">\n",
              "<caption>A data.frame: 6 × 1</caption>\n",
              "<thead>\n",
              "\t<tr><th></th><th scope=col>V1</th></tr>\n",
              "\t<tr><th></th><th scope=col>&lt;chr&gt;</th></tr>\n",
              "</thead>\n",
              "<tbody>\n",
              "\t<tr><th scope=row>1</th><td>1000025,5,1,1,1,2,1,3,1,1,2   </td></tr>\n",
              "\t<tr><th scope=row>2</th><td>1002945,5,4,4,5,7,10,3,2,1,2  </td></tr>\n",
              "\t<tr><th scope=row>3</th><td>1015425,3,1,1,1,2,2,3,1,1,2   </td></tr>\n",
              "\t<tr><th scope=row>4</th><td>1016277,6,8,8,1,3,4,3,7,1,2   </td></tr>\n",
              "\t<tr><th scope=row>5</th><td>1017023,4,1,1,3,2,1,3,1,1,2   </td></tr>\n",
              "\t<tr><th scope=row>6</th><td>1017122,8,10,10,8,7,10,9,7,1,4</td></tr>\n",
              "</tbody>\n",
              "</table>\n"
            ],
            "text/markdown": "\nA data.frame: 6 × 1\n\n| <!--/--> | V1 &lt;chr&gt; |\n|---|---|\n| 1 | 1000025,5,1,1,1,2,1,3,1,1,2    |\n| 2 | 1002945,5,4,4,5,7,10,3,2,1,2   |\n| 3 | 1015425,3,1,1,1,2,2,3,1,1,2    |\n| 4 | 1016277,6,8,8,1,3,4,3,7,1,2    |\n| 5 | 1017023,4,1,1,3,2,1,3,1,1,2    |\n| 6 | 1017122,8,10,10,8,7,10,9,7,1,4 |\n\n",
            "text/latex": "A data.frame: 6 × 1\n\\begin{tabular}{r|l}\n  & V1\\\\\n  & <chr>\\\\\n\\hline\n\t1 & 1000025,5,1,1,1,2,1,3,1,1,2   \\\\\n\t2 & 1002945,5,4,4,5,7,10,3,2,1,2  \\\\\n\t3 & 1015425,3,1,1,1,2,2,3,1,1,2   \\\\\n\t4 & 1016277,6,8,8,1,3,4,3,7,1,2   \\\\\n\t5 & 1017023,4,1,1,3,2,1,3,1,1,2   \\\\\n\t6 & 1017122,8,10,10,8,7,10,9,7,1,4\\\\\n\\end{tabular}\n",
            "text/plain": [
              "  V1                            \n",
              "1 1000025,5,1,1,1,2,1,3,1,1,2   \n",
              "2 1002945,5,4,4,5,7,10,3,2,1,2  \n",
              "3 1015425,3,1,1,1,2,2,3,1,1,2   \n",
              "4 1016277,6,8,8,1,3,4,3,7,1,2   \n",
              "5 1017023,4,1,1,3,2,1,3,1,1,2   \n",
              "6 1017122,8,10,10,8,7,10,9,7,1,4"
            ]
          },
          "metadata": {}
        }
      ]
    },
    {
      "cell_type": "code",
      "metadata": {
        "colab": {
          "base_uri": "https://localhost:8080/",
          "height": 283
        },
        "id": "Sure0eR_K0BI",
        "outputId": "497b08ec-c4aa-4eea-939f-349d053a9f63"
      },
      "source": [
        "#Modificamos en la tabla adicional los nombres de los encabezados\n",
        "\n",
        "bcancer <- read.table(file = \"/content/breast-cancer-wis.data\", header = F, sep = \",\")\n",
        "head(bcancer)"
      ],
      "execution_count": null,
      "outputs": [
        {
          "output_type": "display_data",
          "data": {
            "text/plain": [
              "  V1      V2 V3 V4 V5 V6 V7 V8 V9 V10 V11\n",
              "1 1000025 5   1  1 1  2  1  3  1  1   2  \n",
              "2 1002945 5   4  4 5  7  10 3  2  1   2  \n",
              "3 1015425 3   1  1 1  2  2  3  1  1   2  \n",
              "4 1016277 6   8  8 1  3  4  3  7  1   2  \n",
              "5 1017023 4   1  1 3  2  1  3  1  1   2  \n",
              "6 1017122 8  10 10 8  7  10 9  7  1   4  "
            ],
            "text/latex": "A data.frame: 6 × 11\n\\begin{tabular}{r|lllllllllll}\n  & V1 & V2 & V3 & V4 & V5 & V6 & V7 & V8 & V9 & V10 & V11\\\\\n  & <int> & <int> & <int> & <int> & <int> & <int> & <chr> & <int> & <int> & <int> & <int>\\\\\n\\hline\n\t1 & 1000025 & 5 &  1 &  1 & 1 & 2 & 1  & 3 & 1 & 1 & 2\\\\\n\t2 & 1002945 & 5 &  4 &  4 & 5 & 7 & 10 & 3 & 2 & 1 & 2\\\\\n\t3 & 1015425 & 3 &  1 &  1 & 1 & 2 & 2  & 3 & 1 & 1 & 2\\\\\n\t4 & 1016277 & 6 &  8 &  8 & 1 & 3 & 4  & 3 & 7 & 1 & 2\\\\\n\t5 & 1017023 & 4 &  1 &  1 & 3 & 2 & 1  & 3 & 1 & 1 & 2\\\\\n\t6 & 1017122 & 8 & 10 & 10 & 8 & 7 & 10 & 9 & 7 & 1 & 4\\\\\n\\end{tabular}\n",
            "text/markdown": "\nA data.frame: 6 × 11\n\n| <!--/--> | V1 &lt;int&gt; | V2 &lt;int&gt; | V3 &lt;int&gt; | V4 &lt;int&gt; | V5 &lt;int&gt; | V6 &lt;int&gt; | V7 &lt;chr&gt; | V8 &lt;int&gt; | V9 &lt;int&gt; | V10 &lt;int&gt; | V11 &lt;int&gt; |\n|---|---|---|---|---|---|---|---|---|---|---|---|\n| 1 | 1000025 | 5 |  1 |  1 | 1 | 2 | 1  | 3 | 1 | 1 | 2 |\n| 2 | 1002945 | 5 |  4 |  4 | 5 | 7 | 10 | 3 | 2 | 1 | 2 |\n| 3 | 1015425 | 3 |  1 |  1 | 1 | 2 | 2  | 3 | 1 | 1 | 2 |\n| 4 | 1016277 | 6 |  8 |  8 | 1 | 3 | 4  | 3 | 7 | 1 | 2 |\n| 5 | 1017023 | 4 |  1 |  1 | 3 | 2 | 1  | 3 | 1 | 1 | 2 |\n| 6 | 1017122 | 8 | 10 | 10 | 8 | 7 | 10 | 9 | 7 | 1 | 4 |\n\n",
            "text/html": [
              "<table class=\"dataframe\">\n",
              "<caption>A data.frame: 6 × 11</caption>\n",
              "<thead>\n",
              "\t<tr><th></th><th scope=col>V1</th><th scope=col>V2</th><th scope=col>V3</th><th scope=col>V4</th><th scope=col>V5</th><th scope=col>V6</th><th scope=col>V7</th><th scope=col>V8</th><th scope=col>V9</th><th scope=col>V10</th><th scope=col>V11</th></tr>\n",
              "\t<tr><th></th><th scope=col>&lt;int&gt;</th><th scope=col>&lt;int&gt;</th><th scope=col>&lt;int&gt;</th><th scope=col>&lt;int&gt;</th><th scope=col>&lt;int&gt;</th><th scope=col>&lt;int&gt;</th><th scope=col>&lt;chr&gt;</th><th scope=col>&lt;int&gt;</th><th scope=col>&lt;int&gt;</th><th scope=col>&lt;int&gt;</th><th scope=col>&lt;int&gt;</th></tr>\n",
              "</thead>\n",
              "<tbody>\n",
              "\t<tr><th scope=row>1</th><td>1000025</td><td>5</td><td> 1</td><td> 1</td><td>1</td><td>2</td><td>1 </td><td>3</td><td>1</td><td>1</td><td>2</td></tr>\n",
              "\t<tr><th scope=row>2</th><td>1002945</td><td>5</td><td> 4</td><td> 4</td><td>5</td><td>7</td><td>10</td><td>3</td><td>2</td><td>1</td><td>2</td></tr>\n",
              "\t<tr><th scope=row>3</th><td>1015425</td><td>3</td><td> 1</td><td> 1</td><td>1</td><td>2</td><td>2 </td><td>3</td><td>1</td><td>1</td><td>2</td></tr>\n",
              "\t<tr><th scope=row>4</th><td>1016277</td><td>6</td><td> 8</td><td> 8</td><td>1</td><td>3</td><td>4 </td><td>3</td><td>7</td><td>1</td><td>2</td></tr>\n",
              "\t<tr><th scope=row>5</th><td>1017023</td><td>4</td><td> 1</td><td> 1</td><td>3</td><td>2</td><td>1 </td><td>3</td><td>1</td><td>1</td><td>2</td></tr>\n",
              "\t<tr><th scope=row>6</th><td>1017122</td><td>8</td><td>10</td><td>10</td><td>8</td><td>7</td><td>10</td><td>9</td><td>7</td><td>1</td><td>4</td></tr>\n",
              "</tbody>\n",
              "</table>\n"
            ]
          },
          "metadata": {
            "tags": []
          }
        }
      ]
    },
    {
      "cell_type": "code",
      "metadata": {
        "colab": {
          "base_uri": "https://localhost:8080/",
          "height": 286
        },
        "id": "l_dFbhn7M2yo",
        "outputId": "6d28b53e-607d-4545-b241-cd0b99a51637"
      },
      "source": [
        "#Modificamos en la tabla adicional los nombres de los encabezados\n",
        "#Creamos un vector llamado nombres \n",
        "nombres <- c(\"id\", \"clump_t\", \"u_csize\", \"u_cshape\", \"m_adh\", \"spcs\", \"b_nuc\", \n",
        "             \"b_chr\", \"n_nuc\", \"mit\", \"class\")\n",
        "bcancer <- read.table(file = \"/content/breast-cancer-wis.data\", header = FALSE, sep = \",\",\n",
        "                      col.names = nombres)\n",
        "head(bcancer)"
      ],
      "execution_count": null,
      "outputs": [
        {
          "output_type": "display_data",
          "data": {
            "text/html": [
              "<table class=\"dataframe\">\n",
              "<caption>A data.frame: 6 × 11</caption>\n",
              "<thead>\n",
              "\t<tr><th></th><th scope=col>id</th><th scope=col>clump_t</th><th scope=col>u_csize</th><th scope=col>u_cshape</th><th scope=col>m_adh</th><th scope=col>spcs</th><th scope=col>b_nuc</th><th scope=col>b_chr</th><th scope=col>n_nuc</th><th scope=col>mit</th><th scope=col>class</th></tr>\n",
              "\t<tr><th></th><th scope=col>&lt;int&gt;</th><th scope=col>&lt;int&gt;</th><th scope=col>&lt;int&gt;</th><th scope=col>&lt;int&gt;</th><th scope=col>&lt;int&gt;</th><th scope=col>&lt;int&gt;</th><th scope=col>&lt;chr&gt;</th><th scope=col>&lt;int&gt;</th><th scope=col>&lt;int&gt;</th><th scope=col>&lt;int&gt;</th><th scope=col>&lt;int&gt;</th></tr>\n",
              "</thead>\n",
              "<tbody>\n",
              "\t<tr><th scope=row>1</th><td>1000025</td><td>5</td><td> 1</td><td> 1</td><td>1</td><td>2</td><td>1 </td><td>3</td><td>1</td><td>1</td><td>2</td></tr>\n",
              "\t<tr><th scope=row>2</th><td>1002945</td><td>5</td><td> 4</td><td> 4</td><td>5</td><td>7</td><td>10</td><td>3</td><td>2</td><td>1</td><td>2</td></tr>\n",
              "\t<tr><th scope=row>3</th><td>1015425</td><td>3</td><td> 1</td><td> 1</td><td>1</td><td>2</td><td>2 </td><td>3</td><td>1</td><td>1</td><td>2</td></tr>\n",
              "\t<tr><th scope=row>4</th><td>1016277</td><td>6</td><td> 8</td><td> 8</td><td>1</td><td>3</td><td>4 </td><td>3</td><td>7</td><td>1</td><td>2</td></tr>\n",
              "\t<tr><th scope=row>5</th><td>1017023</td><td>4</td><td> 1</td><td> 1</td><td>3</td><td>2</td><td>1 </td><td>3</td><td>1</td><td>1</td><td>2</td></tr>\n",
              "\t<tr><th scope=row>6</th><td>1017122</td><td>8</td><td>10</td><td>10</td><td>8</td><td>7</td><td>10</td><td>9</td><td>7</td><td>1</td><td>4</td></tr>\n",
              "</tbody>\n",
              "</table>\n"
            ],
            "text/markdown": "\nA data.frame: 6 × 11\n\n| <!--/--> | id &lt;int&gt; | clump_t &lt;int&gt; | u_csize &lt;int&gt; | u_cshape &lt;int&gt; | m_adh &lt;int&gt; | spcs &lt;int&gt; | b_nuc &lt;chr&gt; | b_chr &lt;int&gt; | n_nuc &lt;int&gt; | mit &lt;int&gt; | class &lt;int&gt; |\n|---|---|---|---|---|---|---|---|---|---|---|---|\n| 1 | 1000025 | 5 |  1 |  1 | 1 | 2 | 1  | 3 | 1 | 1 | 2 |\n| 2 | 1002945 | 5 |  4 |  4 | 5 | 7 | 10 | 3 | 2 | 1 | 2 |\n| 3 | 1015425 | 3 |  1 |  1 | 1 | 2 | 2  | 3 | 1 | 1 | 2 |\n| 4 | 1016277 | 6 |  8 |  8 | 1 | 3 | 4  | 3 | 7 | 1 | 2 |\n| 5 | 1017023 | 4 |  1 |  1 | 3 | 2 | 1  | 3 | 1 | 1 | 2 |\n| 6 | 1017122 | 8 | 10 | 10 | 8 | 7 | 10 | 9 | 7 | 1 | 4 |\n\n",
            "text/latex": "A data.frame: 6 × 11\n\\begin{tabular}{r|lllllllllll}\n  & id & clump\\_t & u\\_csize & u\\_cshape & m\\_adh & spcs & b\\_nuc & b\\_chr & n\\_nuc & mit & class\\\\\n  & <int> & <int> & <int> & <int> & <int> & <int> & <chr> & <int> & <int> & <int> & <int>\\\\\n\\hline\n\t1 & 1000025 & 5 &  1 &  1 & 1 & 2 & 1  & 3 & 1 & 1 & 2\\\\\n\t2 & 1002945 & 5 &  4 &  4 & 5 & 7 & 10 & 3 & 2 & 1 & 2\\\\\n\t3 & 1015425 & 3 &  1 &  1 & 1 & 2 & 2  & 3 & 1 & 1 & 2\\\\\n\t4 & 1016277 & 6 &  8 &  8 & 1 & 3 & 4  & 3 & 7 & 1 & 2\\\\\n\t5 & 1017023 & 4 &  1 &  1 & 3 & 2 & 1  & 3 & 1 & 1 & 2\\\\\n\t6 & 1017122 & 8 & 10 & 10 & 8 & 7 & 10 & 9 & 7 & 1 & 4\\\\\n\\end{tabular}\n",
            "text/plain": [
              "  id      clump_t u_csize u_cshape m_adh spcs b_nuc b_chr n_nuc mit class\n",
              "1 1000025 5        1       1       1     2    1     3     1     1   2    \n",
              "2 1002945 5        4       4       5     7    10    3     2     1   2    \n",
              "3 1015425 3        1       1       1     2    2     3     1     1   2    \n",
              "4 1016277 6        8       8       1     3    4     3     7     1   2    \n",
              "5 1017023 4        1       1       3     2    1     3     1     1   2    \n",
              "6 1017122 8       10      10       8     7    10    9     7     1   4    "
            ]
          },
          "metadata": {}
        }
      ]
    },
    {
      "cell_type": "code",
      "metadata": {
        "colab": {
          "base_uri": "https://localhost:8080/",
          "height": 283
        },
        "id": "D4RpQbCCL3IE",
        "outputId": "bfc94eff-087b-4127-e7ad-062f447f50a7"
      },
      "source": [
        "#Modificamos la tabla adicional los nombres de los encabezados\n",
        "#leyendo la tabla \n",
        "#usamos la funcion colnames \n",
        "colnames(bcancer)<-c(\"id\", \"clump_t\", \"u_csize\", \"u_cshape\", \"m_adh\", \"spcs\", \"b_nuc\", \n",
        "             \"b_chr\", \"n_nuc\", \"mit\", \"class\")\n",
        "head(bcancer)"
      ],
      "execution_count": null,
      "outputs": [
        {
          "output_type": "display_data",
          "data": {
            "text/plain": [
              "  id      clump_t u_csize u_cshape m_adh spcs b_nuc b_chr n_nuc mit class\n",
              "1 1000025 5        1       1       1     2    1     3     1     1   2    \n",
              "2 1002945 5        4       4       5     7    10    3     2     1   2    \n",
              "3 1015425 3        1       1       1     2    2     3     1     1   2    \n",
              "4 1016277 6        8       8       1     3    4     3     7     1   2    \n",
              "5 1017023 4        1       1       3     2    1     3     1     1   2    \n",
              "6 1017122 8       10      10       8     7    10    9     7     1   4    "
            ],
            "text/latex": "A data.frame: 6 × 11\n\\begin{tabular}{r|lllllllllll}\n  & id & clump\\_t & u\\_csize & u\\_cshape & m\\_adh & spcs & b\\_nuc & b\\_chr & n\\_nuc & mit & class\\\\\n  & <int> & <int> & <int> & <int> & <int> & <int> & <chr> & <int> & <int> & <int> & <int>\\\\\n\\hline\n\t1 & 1000025 & 5 &  1 &  1 & 1 & 2 & 1  & 3 & 1 & 1 & 2\\\\\n\t2 & 1002945 & 5 &  4 &  4 & 5 & 7 & 10 & 3 & 2 & 1 & 2\\\\\n\t3 & 1015425 & 3 &  1 &  1 & 1 & 2 & 2  & 3 & 1 & 1 & 2\\\\\n\t4 & 1016277 & 6 &  8 &  8 & 1 & 3 & 4  & 3 & 7 & 1 & 2\\\\\n\t5 & 1017023 & 4 &  1 &  1 & 3 & 2 & 1  & 3 & 1 & 1 & 2\\\\\n\t6 & 1017122 & 8 & 10 & 10 & 8 & 7 & 10 & 9 & 7 & 1 & 4\\\\\n\\end{tabular}\n",
            "text/markdown": "\nA data.frame: 6 × 11\n\n| <!--/--> | id &lt;int&gt; | clump_t &lt;int&gt; | u_csize &lt;int&gt; | u_cshape &lt;int&gt; | m_adh &lt;int&gt; | spcs &lt;int&gt; | b_nuc &lt;chr&gt; | b_chr &lt;int&gt; | n_nuc &lt;int&gt; | mit &lt;int&gt; | class &lt;int&gt; |\n|---|---|---|---|---|---|---|---|---|---|---|---|\n| 1 | 1000025 | 5 |  1 |  1 | 1 | 2 | 1  | 3 | 1 | 1 | 2 |\n| 2 | 1002945 | 5 |  4 |  4 | 5 | 7 | 10 | 3 | 2 | 1 | 2 |\n| 3 | 1015425 | 3 |  1 |  1 | 1 | 2 | 2  | 3 | 1 | 1 | 2 |\n| 4 | 1016277 | 6 |  8 |  8 | 1 | 3 | 4  | 3 | 7 | 1 | 2 |\n| 5 | 1017023 | 4 |  1 |  1 | 3 | 2 | 1  | 3 | 1 | 1 | 2 |\n| 6 | 1017122 | 8 | 10 | 10 | 8 | 7 | 10 | 9 | 7 | 1 | 4 |\n\n",
            "text/html": [
              "<table class=\"dataframe\">\n",
              "<caption>A data.frame: 6 × 11</caption>\n",
              "<thead>\n",
              "\t<tr><th></th><th scope=col>id</th><th scope=col>clump_t</th><th scope=col>u_csize</th><th scope=col>u_cshape</th><th scope=col>m_adh</th><th scope=col>spcs</th><th scope=col>b_nuc</th><th scope=col>b_chr</th><th scope=col>n_nuc</th><th scope=col>mit</th><th scope=col>class</th></tr>\n",
              "\t<tr><th></th><th scope=col>&lt;int&gt;</th><th scope=col>&lt;int&gt;</th><th scope=col>&lt;int&gt;</th><th scope=col>&lt;int&gt;</th><th scope=col>&lt;int&gt;</th><th scope=col>&lt;int&gt;</th><th scope=col>&lt;chr&gt;</th><th scope=col>&lt;int&gt;</th><th scope=col>&lt;int&gt;</th><th scope=col>&lt;int&gt;</th><th scope=col>&lt;int&gt;</th></tr>\n",
              "</thead>\n",
              "<tbody>\n",
              "\t<tr><th scope=row>1</th><td>1000025</td><td>5</td><td> 1</td><td> 1</td><td>1</td><td>2</td><td>1 </td><td>3</td><td>1</td><td>1</td><td>2</td></tr>\n",
              "\t<tr><th scope=row>2</th><td>1002945</td><td>5</td><td> 4</td><td> 4</td><td>5</td><td>7</td><td>10</td><td>3</td><td>2</td><td>1</td><td>2</td></tr>\n",
              "\t<tr><th scope=row>3</th><td>1015425</td><td>3</td><td> 1</td><td> 1</td><td>1</td><td>2</td><td>2 </td><td>3</td><td>1</td><td>1</td><td>2</td></tr>\n",
              "\t<tr><th scope=row>4</th><td>1016277</td><td>6</td><td> 8</td><td> 8</td><td>1</td><td>3</td><td>4 </td><td>3</td><td>7</td><td>1</td><td>2</td></tr>\n",
              "\t<tr><th scope=row>5</th><td>1017023</td><td>4</td><td> 1</td><td> 1</td><td>3</td><td>2</td><td>1 </td><td>3</td><td>1</td><td>1</td><td>2</td></tr>\n",
              "\t<tr><th scope=row>6</th><td>1017122</td><td>8</td><td>10</td><td>10</td><td>8</td><td>7</td><td>10</td><td>9</td><td>7</td><td>1</td><td>4</td></tr>\n",
              "</tbody>\n",
              "</table>\n"
            ]
          },
          "metadata": {
            "tags": []
          }
        }
      ]
    },
    {
      "cell_type": "code",
      "metadata": {
        "id": "SRzmwkjDMxyO",
        "colab": {
          "base_uri": "https://localhost:8080/",
          "height": 34
        },
        "outputId": "fa590c32-d9e5-4e74-b784-721686858804"
      },
      "source": [
        "#conocer el tipo de \n",
        "class(bcancer)"
      ],
      "execution_count": null,
      "outputs": [
        {
          "output_type": "display_data",
          "data": {
            "text/plain": [
              "[1] \"data.frame\""
            ],
            "text/latex": "'data.frame'",
            "text/markdown": "'data.frame'",
            "text/html": [
              "'data.frame'"
            ]
          },
          "metadata": {
            "tags": []
          }
        }
      ]
    },
    {
      "cell_type": "markdown",
      "metadata": {
        "id": "u7YU7C9TOq72"
      },
      "source": [
        "### Archivos csv\n",
        "Los archivos separados por comas, con extensión .csv, por Comma Separated Values, sus siglas en inglés. Este es un tipo de archivo comunmente usado para compartir datos, pues es compatible con una amplia variedad de sistemas diferentes además de que ocupa relativamente poco espacio de almacenamiento.\n",
        "\n",
        "Este tipo de archivos también se pueden importar usando la función read.table().\n"
      ]
    },
    {
      "cell_type": "code",
      "metadata": {
        "id": "VjNvY-HzPnll"
      },
      "source": [
        "#Descargar archivo csv \n",
        "download.file(\n",
        "  url = \"https://raw.githubusercontent.com/jboscomendoza/r-principiantes-bookdown/master/datos/breast-cancer-wis.csv\", \n",
        "  dest = \"breast-cancer-wis.csv\"\n",
        ")"
      ],
      "execution_count": null,
      "outputs": []
    },
    {
      "cell_type": "code",
      "metadata": {
        "colab": {
          "base_uri": "https://localhost:8080/",
          "height": 286
        },
        "id": "LxjST5yeP2OW",
        "outputId": "e2b0df3e-aa85-43e7-c1a1-299349ddea72"
      },
      "source": [
        "#Leyendo el archivo cvs con la función read.table\n",
        "cancer2 <- read.table(file = \"/content/breast-cancer-wis.csv\", header = TRUE, sep = \",\",\n",
        "                      col.names = nombres)\n",
        "#Resultado \n",
        "head(cancer2)"
      ],
      "execution_count": null,
      "outputs": [
        {
          "output_type": "display_data",
          "data": {
            "text/html": [
              "<table class=\"dataframe\">\n",
              "<caption>A data.frame: 6 × 11</caption>\n",
              "<thead>\n",
              "\t<tr><th></th><th scope=col>id</th><th scope=col>clump_t</th><th scope=col>u_csize</th><th scope=col>u_cshape</th><th scope=col>m_adh</th><th scope=col>spcs</th><th scope=col>b_nuc</th><th scope=col>b_chr</th><th scope=col>n_nuc</th><th scope=col>mit</th><th scope=col>class</th></tr>\n",
              "\t<tr><th></th><th scope=col>&lt;int&gt;</th><th scope=col>&lt;int&gt;</th><th scope=col>&lt;int&gt;</th><th scope=col>&lt;int&gt;</th><th scope=col>&lt;int&gt;</th><th scope=col>&lt;int&gt;</th><th scope=col>&lt;chr&gt;</th><th scope=col>&lt;int&gt;</th><th scope=col>&lt;int&gt;</th><th scope=col>&lt;int&gt;</th><th scope=col>&lt;int&gt;</th></tr>\n",
              "</thead>\n",
              "<tbody>\n",
              "\t<tr><th scope=row>1</th><td>1000025</td><td>5</td><td> 1</td><td> 1</td><td>1</td><td>2</td><td>1 </td><td>3</td><td>1</td><td>1</td><td>2</td></tr>\n",
              "\t<tr><th scope=row>2</th><td>1002945</td><td>5</td><td> 4</td><td> 4</td><td>5</td><td>7</td><td>10</td><td>3</td><td>2</td><td>1</td><td>2</td></tr>\n",
              "\t<tr><th scope=row>3</th><td>1015425</td><td>3</td><td> 1</td><td> 1</td><td>1</td><td>2</td><td>2 </td><td>3</td><td>1</td><td>1</td><td>2</td></tr>\n",
              "\t<tr><th scope=row>4</th><td>1016277</td><td>6</td><td> 8</td><td> 8</td><td>1</td><td>3</td><td>4 </td><td>3</td><td>7</td><td>1</td><td>2</td></tr>\n",
              "\t<tr><th scope=row>5</th><td>1017023</td><td>4</td><td> 1</td><td> 1</td><td>3</td><td>2</td><td>1 </td><td>3</td><td>1</td><td>1</td><td>2</td></tr>\n",
              "\t<tr><th scope=row>6</th><td>1017122</td><td>8</td><td>10</td><td>10</td><td>8</td><td>7</td><td>10</td><td>9</td><td>7</td><td>1</td><td>4</td></tr>\n",
              "</tbody>\n",
              "</table>\n"
            ],
            "text/markdown": "\nA data.frame: 6 × 11\n\n| <!--/--> | id &lt;int&gt; | clump_t &lt;int&gt; | u_csize &lt;int&gt; | u_cshape &lt;int&gt; | m_adh &lt;int&gt; | spcs &lt;int&gt; | b_nuc &lt;chr&gt; | b_chr &lt;int&gt; | n_nuc &lt;int&gt; | mit &lt;int&gt; | class &lt;int&gt; |\n|---|---|---|---|---|---|---|---|---|---|---|---|\n| 1 | 1000025 | 5 |  1 |  1 | 1 | 2 | 1  | 3 | 1 | 1 | 2 |\n| 2 | 1002945 | 5 |  4 |  4 | 5 | 7 | 10 | 3 | 2 | 1 | 2 |\n| 3 | 1015425 | 3 |  1 |  1 | 1 | 2 | 2  | 3 | 1 | 1 | 2 |\n| 4 | 1016277 | 6 |  8 |  8 | 1 | 3 | 4  | 3 | 7 | 1 | 2 |\n| 5 | 1017023 | 4 |  1 |  1 | 3 | 2 | 1  | 3 | 1 | 1 | 2 |\n| 6 | 1017122 | 8 | 10 | 10 | 8 | 7 | 10 | 9 | 7 | 1 | 4 |\n\n",
            "text/latex": "A data.frame: 6 × 11\n\\begin{tabular}{r|lllllllllll}\n  & id & clump\\_t & u\\_csize & u\\_cshape & m\\_adh & spcs & b\\_nuc & b\\_chr & n\\_nuc & mit & class\\\\\n  & <int> & <int> & <int> & <int> & <int> & <int> & <chr> & <int> & <int> & <int> & <int>\\\\\n\\hline\n\t1 & 1000025 & 5 &  1 &  1 & 1 & 2 & 1  & 3 & 1 & 1 & 2\\\\\n\t2 & 1002945 & 5 &  4 &  4 & 5 & 7 & 10 & 3 & 2 & 1 & 2\\\\\n\t3 & 1015425 & 3 &  1 &  1 & 1 & 2 & 2  & 3 & 1 & 1 & 2\\\\\n\t4 & 1016277 & 6 &  8 &  8 & 1 & 3 & 4  & 3 & 7 & 1 & 2\\\\\n\t5 & 1017023 & 4 &  1 &  1 & 3 & 2 & 1  & 3 & 1 & 1 & 2\\\\\n\t6 & 1017122 & 8 & 10 & 10 & 8 & 7 & 10 & 9 & 7 & 1 & 4\\\\\n\\end{tabular}\n",
            "text/plain": [
              "  id      clump_t u_csize u_cshape m_adh spcs b_nuc b_chr n_nuc mit class\n",
              "1 1000025 5        1       1       1     2    1     3     1     1   2    \n",
              "2 1002945 5        4       4       5     7    10    3     2     1   2    \n",
              "3 1015425 3        1       1       1     2    2     3     1     1   2    \n",
              "4 1016277 6        8       8       1     3    4     3     7     1   2    \n",
              "5 1017023 4        1       1       3     2    1     3     1     1   2    \n",
              "6 1017122 8       10      10       8     7    10    9     7     1   4    "
            ]
          },
          "metadata": {}
        }
      ]
    },
    {
      "cell_type": "code",
      "metadata": {
        "colab": {
          "base_uri": "https://localhost:8080/",
          "height": 306
        },
        "id": "PtMDOQxkQT3l",
        "outputId": "b9c03ba0-d97b-48a4-86ea-dc8067938253"
      },
      "source": [
        "#Leyendo el archivo csv con la función read.csv \n",
        "\n",
        "cancer3 <- read.csv(\"/content/breast-cancer-wis.csv\")\n",
        "#Resultado\n",
        "head(cancer3)"
      ],
      "execution_count": null,
      "outputs": [
        {
          "output_type": "display_data",
          "data": {
            "text/html": [
              "<table class=\"dataframe\">\n",
              "<caption>A data.frame: 6 × 11</caption>\n",
              "<thead>\n",
              "\t<tr><th></th><th scope=col>id</th><th scope=col>clump_t</th><th scope=col>u_csize</th><th scope=col>u_cshape</th><th scope=col>m_adh</th><th scope=col>spcs</th><th scope=col>b_nuc</th><th scope=col>b_chr</th><th scope=col>n_nuc</th><th scope=col>mit</th><th scope=col>class</th></tr>\n",
              "\t<tr><th></th><th scope=col>&lt;int&gt;</th><th scope=col>&lt;int&gt;</th><th scope=col>&lt;int&gt;</th><th scope=col>&lt;int&gt;</th><th scope=col>&lt;int&gt;</th><th scope=col>&lt;int&gt;</th><th scope=col>&lt;chr&gt;</th><th scope=col>&lt;int&gt;</th><th scope=col>&lt;int&gt;</th><th scope=col>&lt;int&gt;</th><th scope=col>&lt;int&gt;</th></tr>\n",
              "</thead>\n",
              "<tbody>\n",
              "\t<tr><th scope=row>1</th><td>1000025</td><td>5</td><td> 1</td><td> 1</td><td>1</td><td>2</td><td>1 </td><td>3</td><td>1</td><td>1</td><td>2</td></tr>\n",
              "\t<tr><th scope=row>2</th><td>1002945</td><td>5</td><td> 4</td><td> 4</td><td>5</td><td>7</td><td>10</td><td>3</td><td>2</td><td>1</td><td>2</td></tr>\n",
              "\t<tr><th scope=row>3</th><td>1015425</td><td>3</td><td> 1</td><td> 1</td><td>1</td><td>2</td><td>2 </td><td>3</td><td>1</td><td>1</td><td>2</td></tr>\n",
              "\t<tr><th scope=row>4</th><td>1016277</td><td>6</td><td> 8</td><td> 8</td><td>1</td><td>3</td><td>4 </td><td>3</td><td>7</td><td>1</td><td>2</td></tr>\n",
              "\t<tr><th scope=row>5</th><td>1017023</td><td>4</td><td> 1</td><td> 1</td><td>3</td><td>2</td><td>1 </td><td>3</td><td>1</td><td>1</td><td>2</td></tr>\n",
              "\t<tr><th scope=row>6</th><td>1017122</td><td>8</td><td>10</td><td>10</td><td>8</td><td>7</td><td>10</td><td>9</td><td>7</td><td>1</td><td>4</td></tr>\n",
              "</tbody>\n",
              "</table>\n"
            ],
            "text/markdown": "\nA data.frame: 6 × 11\n\n| <!--/--> | id &lt;int&gt; | clump_t &lt;int&gt; | u_csize &lt;int&gt; | u_cshape &lt;int&gt; | m_adh &lt;int&gt; | spcs &lt;int&gt; | b_nuc &lt;chr&gt; | b_chr &lt;int&gt; | n_nuc &lt;int&gt; | mit &lt;int&gt; | class &lt;int&gt; |\n|---|---|---|---|---|---|---|---|---|---|---|---|\n| 1 | 1000025 | 5 |  1 |  1 | 1 | 2 | 1  | 3 | 1 | 1 | 2 |\n| 2 | 1002945 | 5 |  4 |  4 | 5 | 7 | 10 | 3 | 2 | 1 | 2 |\n| 3 | 1015425 | 3 |  1 |  1 | 1 | 2 | 2  | 3 | 1 | 1 | 2 |\n| 4 | 1016277 | 6 |  8 |  8 | 1 | 3 | 4  | 3 | 7 | 1 | 2 |\n| 5 | 1017023 | 4 |  1 |  1 | 3 | 2 | 1  | 3 | 1 | 1 | 2 |\n| 6 | 1017122 | 8 | 10 | 10 | 8 | 7 | 10 | 9 | 7 | 1 | 4 |\n\n",
            "text/latex": "A data.frame: 6 × 11\n\\begin{tabular}{r|lllllllllll}\n  & id & clump\\_t & u\\_csize & u\\_cshape & m\\_adh & spcs & b\\_nuc & b\\_chr & n\\_nuc & mit & class\\\\\n  & <int> & <int> & <int> & <int> & <int> & <int> & <chr> & <int> & <int> & <int> & <int>\\\\\n\\hline\n\t1 & 1000025 & 5 &  1 &  1 & 1 & 2 & 1  & 3 & 1 & 1 & 2\\\\\n\t2 & 1002945 & 5 &  4 &  4 & 5 & 7 & 10 & 3 & 2 & 1 & 2\\\\\n\t3 & 1015425 & 3 &  1 &  1 & 1 & 2 & 2  & 3 & 1 & 1 & 2\\\\\n\t4 & 1016277 & 6 &  8 &  8 & 1 & 3 & 4  & 3 & 7 & 1 & 2\\\\\n\t5 & 1017023 & 4 &  1 &  1 & 3 & 2 & 1  & 3 & 1 & 1 & 2\\\\\n\t6 & 1017122 & 8 & 10 & 10 & 8 & 7 & 10 & 9 & 7 & 1 & 4\\\\\n\\end{tabular}\n",
            "text/plain": [
              "  id      clump_t u_csize u_cshape m_adh spcs b_nuc b_chr n_nuc mit class\n",
              "1 1000025 5        1       1       1     2    1     3     1     1   2    \n",
              "2 1002945 5        4       4       5     7    10    3     2     1   2    \n",
              "3 1015425 3        1       1       1     2    2     3     1     1   2    \n",
              "4 1016277 6        8       8       1     3    4     3     7     1   2    \n",
              "5 1017023 4        1       1       3     2    1     3     1     1   2    \n",
              "6 1017122 8       10      10       8     7    10    9     7     1   4    "
            ]
          },
          "metadata": {}
        }
      ]
    }
  ]
}