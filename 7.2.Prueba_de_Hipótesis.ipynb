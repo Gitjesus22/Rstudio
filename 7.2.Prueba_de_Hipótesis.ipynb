{
  "nbformat": 4,
  "nbformat_minor": 0,
  "metadata": {
    "colab": {
      "name": "Prueba de Hipótesis.ipynb",
      "provenance": [],
      "collapsed_sections": [],
      "include_colab_link": true
    },
    "kernelspec": {
      "name": "ir",
      "display_name": "R"
    },
    "language_info": {
      "name": "R"
    }
  },
  "cells": [
    {
      "cell_type": "markdown",
      "metadata": {
        "id": "view-in-github",
        "colab_type": "text"
      },
      "source": [
        "<a href=\"https://colab.research.google.com/github/Gitjesus22/Rstudio/blob/main/7.2.Prueba_de_Hip%C3%B3tesis.ipynb\" target=\"_parent\"><img src=\"https://colab.research.google.com/assets/colab-badge.svg\" alt=\"Open In Colab\"/></a>"
      ]
    },
    {
      "cell_type": "markdown",
      "source": [
        "<table><tr>\n",
        "<td><img src=\"https://solariabiodata.com.mx/wp-content/uploads/2021/07/logo_red.png\" alt=\"Soluciones de siguiente generacion\" width=200/>\n",
        "<td>\n",
        "<td>\n",
        "<td><img src=\"https://upload.wikimedia.org/wikipedia/commons/thumb/1/1b/R_logo.svg/160px-R_logo.svg.png\">\n",
        "</tr></table>"
      ],
      "metadata": {
        "id": "3PJVpHxPMVzU"
      }
    },
    {
      "cell_type": "markdown",
      "source": [
        "## Pruebas de hipótesis\n",
        "\n",
        "Se puede hacer una inferencia al realizar una afirmación acerca de un valor que puede tomar un parámetro estadístico de una población. Dicha afirmación puede estar basada en experiencia o alguna creencia, la cual será contrastada con la evidencia que tenemos a través de la información que nos proporciona una muestra. A este proceso se le conoce como _prueba de hipótesis_.\n",
        "\n",
        "Para realizar la prueba se requieren 4 componentes:\n",
        "\n",
        " - **Hipótesis nula ($H_{0}$)** específica solo un valor del parámetro de la población, es lo que queremos desacreditar.\n",
        " - **Hipótesis alternativa ($H_{1}$)** esta responde a nuestra pregunta, se establece con base en la información que tenemos previamente. Esta puede tener las siguientes formas:\n",
        "    - $H_{1}: \\mu = \\mu_{1}$\n",
        "    - $H_{1}: \\mu < \\mu_{0}$\n",
        "    - $H_{1}: \\mu > \\mu_{0}$\n",
        "    - $H_{1}: \\mu \\not= \\mu_{0}$\n",
        " - **Estadística de prueba** es una estadística que se deriva del estimador puntual del parámetro que probamos, se calcula considerando $H_{0}$ como si fuese verdadera.\n",
        " - **Región de rechazo** Es el rango de valores tal que, si la prueba cae en un valor dentro del mismo, decidimos rechazar $H_{0}$.\n",
        "\n",
        "\n",
        "Respecto a las conclusiones a las que se llega con la prueba, hay posibilidades de acertar o fallar\n",
        "\n",
        "| Decisión | $H_{0}$ Verdadera | $H_{0}$ Falsa |\n",
        "|--|--|--|\n",
        "| Rechazar $H_{0}$ | Error tipo I ($\\alpha$) | **Acierto** | \n",
        "| No rechazar $H_{0}$ | **Acierto** | Error tipo II ($\\beta$) \n",
        "\n",
        "La probabilidad de cometer un error de tipo I es el _nivel de significancia_ $\\alpha$, y se considera como el tamaño de la región de rechazo."
      ],
      "metadata": {
        "id": "Wwhu-j3lRge9"
      }
    },
    {
      "cell_type": "markdown",
      "source": [
        "### Una muestra\n",
        "\n",
        "Suponiendo que $x_{i} \\sim N(\\mu,\\sigma^{2})$ y que queremos probar que $H_{0}: \\mu = \\mu_{0}$ contra $H_{1}: \\mu \\not = \\mu_{0}$, también asumiendo que conocemos $\\sigma$, podemos usar el estadístico $t$ de Student:\n",
        "\n",
        "$t=\\frac{\\bar x-\\mu_{0}}{s/\\sqrt{n}} \\sim t_{n-1}$\n",
        "\n",
        "donde $\\bar x = \\frac{\\sum_{i=1}^{n}x_{i}}{n}$ y $s = \\sqrt{\\frac{1}{n-1} \\sum_{i=1}^{n}(x_{i} - \\bar x)^{2}}$\n",
        "\n",
        "Un intervalo de confianza de $100 \\cdot (1 - \\alpha)$% para $\\mu$ está dado por \n",
        "\n",
        "$x \\pm t_{n-1}(\\alpha / 2) \\frac{s}{\\sqrt{n}}$\n",
        "\n",
        "donde $t_{n-1}(\\alpha / 2)$ es el valor crítico tal que $P(t>t_{n-1}(\\alpha / 2 ) = \\alpha / 2$ para $n-1$ grados de libertad."
      ],
      "metadata": {
        "id": "TE4WTPWyRvyT"
      }
    },
    {
      "cell_type": "markdown",
      "source": [
        "Supongamos que tenemos conteos de algunos genes, y queremos probar que al menos tienen una expresión de 16 fpkm, lo cual lo guardamos en una variable `gen_expr`.\n",
        "\n",
        "```R\n",
        "gene = data.frame(expr = c(15.5, 16.2, 16.1, 15.8, 15.6, 16.0, 15.8, 15.9, 16.2))\n",
        "```\n",
        "\n",
        "Nosotros asumimos que los genes se expresan de manera _normal_ y usamos un nivel de significancia de $0.5$, para probar $H_{0}: \\mu \\ge 16$ contra $H_{1}: \\mu < 16$, el estadístico de la prueba es:\n",
        "\n",
        "$t= \\frac{\\bar x - \\mu_{0}}{s/\\sqrt{n}}$ por lo que:\n",
        "\n",
        "```R\n",
        "x_bar = mean(gene$expr)\n",
        "s     = sd(gene$expr)\n",
        "mu_0  = 16\n",
        "n     = length(gene$expr)\n",
        "```\n",
        "\n",
        "entonces podemos calcular el estadístico así:\n",
        "\n",
        "```R\n",
        "t = (x_bar - mu_0) / (s / sqrt(n))\n",
        "```"
      ],
      "metadata": {
        "id": "DdmNClyCRz8O"
      }
    },
    {
      "cell_type": "code",
      "source": [
        "gene = data.frame(expr = c(15.5, 16.2, 16.1, 15.8, 15.6, 16.0, 15.8, 15.9, 16.2))\n",
        "gene"
      ],
      "metadata": {
        "colab": {
          "base_uri": "https://localhost:8080/",
          "height": 415
        },
        "id": "O5oGdFF-RyXS",
        "outputId": "3a41695e-cfb7-4ac9-afe1-2cba9388584f"
      },
      "execution_count": null,
      "outputs": [
        {
          "output_type": "display_data",
          "data": {
            "text/html": [
              "<table class=\"dataframe\">\n",
              "<caption>A data.frame: 9 × 1</caption>\n",
              "<thead>\n",
              "\t<tr><th scope=col>expr</th></tr>\n",
              "\t<tr><th scope=col>&lt;dbl&gt;</th></tr>\n",
              "</thead>\n",
              "<tbody>\n",
              "\t<tr><td>15.5</td></tr>\n",
              "\t<tr><td>16.2</td></tr>\n",
              "\t<tr><td>16.1</td></tr>\n",
              "\t<tr><td>15.8</td></tr>\n",
              "\t<tr><td>15.6</td></tr>\n",
              "\t<tr><td>16.0</td></tr>\n",
              "\t<tr><td>15.8</td></tr>\n",
              "\t<tr><td>15.9</td></tr>\n",
              "\t<tr><td>16.2</td></tr>\n",
              "</tbody>\n",
              "</table>\n"
            ],
            "text/markdown": "\nA data.frame: 9 × 1\n\n| expr &lt;dbl&gt; |\n|---|\n| 15.5 |\n| 16.2 |\n| 16.1 |\n| 15.8 |\n| 15.6 |\n| 16.0 |\n| 15.8 |\n| 15.9 |\n| 16.2 |\n\n",
            "text/latex": "A data.frame: 9 × 1\n\\begin{tabular}{l}\n expr\\\\\n <dbl>\\\\\n\\hline\n\t 15.5\\\\\n\t 16.2\\\\\n\t 16.1\\\\\n\t 15.8\\\\\n\t 15.6\\\\\n\t 16.0\\\\\n\t 15.8\\\\\n\t 15.9\\\\\n\t 16.2\\\\\n\\end{tabular}\n",
            "text/plain": [
              "  expr\n",
              "1 15.5\n",
              "2 16.2\n",
              "3 16.1\n",
              "4 15.8\n",
              "5 15.6\n",
              "6 16.0\n",
              "7 15.8\n",
              "8 15.9\n",
              "9 16.2"
            ]
          },
          "metadata": {}
        }
      ]
    },
    {
      "cell_type": "code",
      "source": [
        "x_bar = mean(gene$expr)\n",
        "s     = sd(gene$expr)\n",
        "mu_0  = 16\n",
        "n     = length(gene$expr)"
      ],
      "metadata": {
        "id": "Tqw0eCqDSJGk"
      },
      "execution_count": null,
      "outputs": []
    },
    {
      "cell_type": "code",
      "source": [
        "t = (x_bar - mu_0) / (s / sqrt(n))\n",
        "t"
      ],
      "metadata": {
        "colab": {
          "base_uri": "https://localhost:8080/",
          "height": 34
        },
        "id": "G2JpogemSMaI",
        "outputId": "fdb8a21d-8938-4cde-918c-9f1559c842f4"
      },
      "execution_count": null,
      "outputs": [
        {
          "output_type": "display_data",
          "data": {
            "text/html": [
              "-1.2"
            ],
            "text/markdown": "-1.2",
            "text/latex": "-1.2",
            "text/plain": [
              "[1] -1.2"
            ]
          },
          "metadata": {}
        }
      ]
    },
    {
      "cell_type": "markdown",
      "source": [
        "Bajo la hipótesis nula el estadístico se distribuye como una distribución $t$ con $n-1$ grados de libertad por lo tanto, para completar la prueba es necesario computar el _valor-p_, entonces necesitamos el área bajo la curva a la izquierda del valor de `t` para una distribución $t$ con `n` grados de libertad. Esto lo obtenemos mediante:\n",
        "\n",
        "```R\n",
        "pt(t, df = n-1)\n",
        "```"
      ],
      "metadata": {
        "id": "lZQSOBN7SlSe"
      }
    },
    {
      "cell_type": "code",
      "source": [
        "pt(t,df = n-1)"
      ],
      "metadata": {
        "colab": {
          "base_uri": "https://localhost:8080/",
          "height": 34
        },
        "id": "rG4-AvTDSrlx",
        "outputId": "eb9f6113-dab5-4979-d5b5-49f805d5885c"
      },
      "execution_count": null,
      "outputs": [
        {
          "output_type": "display_data",
          "data": {
            "text/html": [
              "0.132233552600909"
            ],
            "text/markdown": "0.132233552600909",
            "text/latex": "0.132233552600909",
            "text/plain": [
              "[1] 0.1322336"
            ]
          },
          "metadata": {}
        }
      ]
    },
    {
      "cell_type": "markdown",
      "source": [
        "En `R` podemos ahorrarnos todo ese proceso con una sola línea de código:\n",
        "\n",
        "\n",
        "```R\n",
        "t.test(x = gene$expr, mu = 16, alternative = c(\"less\"), conf.level = 0.95)\n",
        "```\n",
        "\n",
        "Así, nosotros suministramos a `R` con $\\mu$, $H_{1}$ y el intervalo de confianza, con esa información nos regresa:\n",
        "\n",
        "- El valor del estadístico de prueba\n",
        "- Los grados de libertad de la distribución bajo $H_{0}$\n",
        "- El _valor-p_\n",
        "- El intervalo de confianza que corresponde a la prueba\n",
        "- Un estimado de $\\mu$"
      ],
      "metadata": {
        "id": "VpleWN2GSwbq"
      }
    },
    {
      "cell_type": "code",
      "source": [
        "t.test(x = gene$expr, mu = 16, alternative = c(\"less\"), conf.level = 0.95)"
      ],
      "metadata": {
        "colab": {
          "base_uri": "https://localhost:8080/",
          "height": 208
        },
        "id": "p9dYtRSqS0Ed",
        "outputId": "206aa0d0-5ffa-40cf-9bc4-e0e23f4176d0"
      },
      "execution_count": null,
      "outputs": [
        {
          "output_type": "display_data",
          "data": {
            "text/plain": [
              "\n",
              "\tOne Sample t-test\n",
              "\n",
              "data:  gene$expr\n",
              "t = -1.2, df = 8, p-value = 0.1322\n",
              "alternative hypothesis: true mean is less than 16\n",
              "95 percent confidence interval:\n",
              "     -Inf 16.05496\n",
              "sample estimates:\n",
              "mean of x \n",
              "     15.9 \n"
            ]
          },
          "metadata": {}
        }
      ]
    },
    {
      "cell_type": "markdown",
      "source": [
        "### Dos muestras\n",
        "\n",
        "Suponiendo que tenemos dos muestras de genes que pertenecen a 2 vías diferentes en la misma condición $x_{i} \\sim N(\\mu_{x},\\sigma^{2})$ e $y_{i} \\sim N(\\mu_{y},\\sigma^{2})$.\n",
        "\n",
        "Nosotros queremos probar $H_{0}: \\mu_{x} - \\mu_{y} = \\mu_{0}$ contra $H_{1}: \\mu_{x} - \\mu_{y} \\not = \\mu_{0}$, asumiendo que $\\sigma$ es desconocido podemos usar el estadístico $t$ de Student de dos muestras:\n",
        "\n",
        "$t = \\frac{(\\bar x - \\bar y) - \\mu_{0}}{s_{p}\\sqrt{\\frac{1}{n} + \\frac{1}{m}}} \\sim t_{n+m-2}$,\n",
        "\n",
        "donde $s_{p}^{2} = \\frac{(n-1)s_{x}^{2}+(m-1)s_{y}^{2}}{n+m-2}$\n",
        "\n",
        "\n",
        "```R\n",
        "x=c(70, 82, 78, 74, 94, 82)\n",
        "y=c(64, 72, 60, 76, 72, 80, 84, 68)\n",
        "t.test(x,y, alternative = c(\"greater\"), var.equal = TRUE)\n",
        "```"
      ],
      "metadata": {
        "id": "ZSamG9PqS6xc"
      }
    },
    {
      "cell_type": "code",
      "source": [
        "x=c(70, 82, 78, 74, 94, 82)\n",
        "y=c(64, 72, 60, 76, 72, 80, 84, 68)\n",
        "t.test(x,y, alternative = c(\"two.sided\"), var.equal = TRUE)"
      ],
      "metadata": {
        "colab": {
          "base_uri": "https://localhost:8080/",
          "height": 208
        },
        "id": "4adftWhzTBB1",
        "outputId": "033bf5e3-9b8b-4c0b-d145-e051a1314ce4"
      },
      "execution_count": null,
      "outputs": [
        {
          "output_type": "display_data",
          "data": {
            "text/plain": [
              "\n",
              "\tTwo Sample t-test\n",
              "\n",
              "data:  x and y\n",
              "t = 1.8234, df = 12, p-value = 0.09324\n",
              "alternative hypothesis: true difference in means is not equal to 0\n",
              "95 percent confidence interval:\n",
              " -1.559502 17.559502\n",
              "sample estimates:\n",
              "mean of x mean of y \n",
              "       80        72 \n"
            ]
          },
          "metadata": {}
        }
      ]
    },
    {
      "cell_type": "markdown",
      "source": [
        "### Múltiples pruebas\n",
        "\n",
        "Supongamos que queremos probar que varias ($n$) muestras son tomadas en un experimento y queremos comparar todas ellas para probar que hay alguna muestra que es diferente. Nosotros podemos intentar generar multiples testeos $m = \\binom{n}{2}$ utilizando un $\\alpha = 0.95$."
      ],
      "metadata": {
        "id": "pbdN65zfTFn5"
      }
    },
    {
      "cell_type": "code",
      "source": [
        "choose(4,2)"
      ],
      "metadata": {
        "colab": {
          "base_uri": "https://localhost:8080/",
          "height": 34
        },
        "id": "YM-3cV6XTKde",
        "outputId": "a607b4e5-4e0d-49e8-e760-c252748236f2"
      },
      "execution_count": null,
      "outputs": [
        {
          "output_type": "display_data",
          "data": {
            "text/html": [
              "6"
            ],
            "text/markdown": "6",
            "text/latex": "6",
            "text/plain": [
              "[1] 6"
            ]
          },
          "metadata": {}
        }
      ]
    },
    {
      "cell_type": "markdown",
      "source": [
        "¿Cuál es la probabilidad de tener al menos un error tipo I? $P(X \\ge 1) = 1 - P(X=0)$\n",
        "\n",
        "dado que:\n",
        "\n",
        "$P(X=0) = \\binom{m}{x} p^{x}q^{m-x}$\n",
        "\n",
        "entonces podemos escribir:"
      ],
      "metadata": {
        "id": "08Ldv-zPTP6F"
      }
    },
    {
      "cell_type": "code",
      "source": [
        "n<-4 #numero de muestras a probar\n",
        "m<-choose(n,2)\n",
        "1 - choose(m,0)*(0.05^0)*(0.95^(m-0))"
      ],
      "metadata": {
        "colab": {
          "base_uri": "https://localhost:8080/",
          "height": 34
        },
        "id": "2tzJH2ERTUL1",
        "outputId": "790e678b-7a4f-41fc-ede6-a84e5dc3b78b"
      },
      "execution_count": null,
      "outputs": [
        {
          "output_type": "display_data",
          "data": {
            "text/html": [
              "0.264908109375"
            ],
            "text/markdown": "0.264908109375",
            "text/latex": "0.264908109375",
            "text/plain": [
              "[1] 0.2649081"
            ]
          },
          "metadata": {}
        }
      ]
    },
    {
      "cell_type": "markdown",
      "source": [
        "Como se puede observar la probabilidad de tener un error de tipo I aumenta considerablemente cuando hacemos más pruebas. Es por eso que existen algunos métodos para disminuir el efecto al hacer el multitesting.\n",
        "\n",
        "Uno de esos métodos es conocido como la corrección de Bonferroni la cual implica generar un nuevo nivel de confianza  α′=α/m"
      ],
      "metadata": {
        "id": "Shjktj0rTaLu"
      }
    },
    {
      "cell_type": "code",
      "source": [
        "library(tidyverse) "
      ],
      "metadata": {
        "id": "JW-Z5VZ_TdN_",
        "colab": {
          "base_uri": "https://localhost:8080/"
        },
        "outputId": "8e679fdc-b790-4c13-e1a8-3881a74243c3"
      },
      "execution_count": null,
      "outputs": [
        {
          "output_type": "stream",
          "name": "stderr",
          "text": [
            "Warning message in system(\"timedatectl\", intern = TRUE):\n",
            "“running command 'timedatectl' had status 1”\n",
            "── \u001b[1mAttaching packages\u001b[22m ─────────────────────────────────────── tidyverse 1.3.1 ──\n",
            "\n",
            "\u001b[32m✔\u001b[39m \u001b[34mggplot2\u001b[39m 3.3.5     \u001b[32m✔\u001b[39m \u001b[34mpurrr  \u001b[39m 0.3.4\n",
            "\u001b[32m✔\u001b[39m \u001b[34mtibble \u001b[39m 3.1.6     \u001b[32m✔\u001b[39m \u001b[34mdplyr  \u001b[39m 1.0.9\n",
            "\u001b[32m✔\u001b[39m \u001b[34mtidyr  \u001b[39m 1.2.0     \u001b[32m✔\u001b[39m \u001b[34mstringr\u001b[39m 1.4.0\n",
            "\u001b[32m✔\u001b[39m \u001b[34mreadr  \u001b[39m 2.1.2     \u001b[32m✔\u001b[39m \u001b[34mforcats\u001b[39m 0.5.1\n",
            "\n",
            "── \u001b[1mConflicts\u001b[22m ────────────────────────────────────────── tidyverse_conflicts() ──\n",
            "\u001b[31m✖\u001b[39m \u001b[34mdplyr\u001b[39m::\u001b[32mfilter()\u001b[39m masks \u001b[34mstats\u001b[39m::filter()\n",
            "\u001b[31m✖\u001b[39m \u001b[34mdplyr\u001b[39m::\u001b[32mlag()\u001b[39m    masks \u001b[34mstats\u001b[39m::lag()\n",
            "\n"
          ]
        }
      ]
    },
    {
      "cell_type": "code",
      "source": [
        "data(\"PlantGrowth\")\n",
        "head(PlantGrowth)"
      ],
      "metadata": {
        "colab": {
          "base_uri": "https://localhost:8080/",
          "height": 286
        },
        "id": "8qRA3XCKTiOf",
        "outputId": "d5c97ac8-a690-4789-f36c-1033dba4a4e7"
      },
      "execution_count": null,
      "outputs": [
        {
          "output_type": "display_data",
          "data": {
            "text/html": [
              "<table class=\"dataframe\">\n",
              "<caption>A data.frame: 6 × 2</caption>\n",
              "<thead>\n",
              "\t<tr><th></th><th scope=col>weight</th><th scope=col>group</th></tr>\n",
              "\t<tr><th></th><th scope=col>&lt;dbl&gt;</th><th scope=col>&lt;fct&gt;</th></tr>\n",
              "</thead>\n",
              "<tbody>\n",
              "\t<tr><th scope=row>1</th><td>4.17</td><td>ctrl</td></tr>\n",
              "\t<tr><th scope=row>2</th><td>5.58</td><td>ctrl</td></tr>\n",
              "\t<tr><th scope=row>3</th><td>5.18</td><td>ctrl</td></tr>\n",
              "\t<tr><th scope=row>4</th><td>6.11</td><td>ctrl</td></tr>\n",
              "\t<tr><th scope=row>5</th><td>4.50</td><td>ctrl</td></tr>\n",
              "\t<tr><th scope=row>6</th><td>4.61</td><td>ctrl</td></tr>\n",
              "</tbody>\n",
              "</table>\n"
            ],
            "text/markdown": "\nA data.frame: 6 × 2\n\n| <!--/--> | weight &lt;dbl&gt; | group &lt;fct&gt; |\n|---|---|---|\n| 1 | 4.17 | ctrl |\n| 2 | 5.58 | ctrl |\n| 3 | 5.18 | ctrl |\n| 4 | 6.11 | ctrl |\n| 5 | 4.50 | ctrl |\n| 6 | 4.61 | ctrl |\n\n",
            "text/latex": "A data.frame: 6 × 2\n\\begin{tabular}{r|ll}\n  & weight & group\\\\\n  & <dbl> & <fct>\\\\\n\\hline\n\t1 & 4.17 & ctrl\\\\\n\t2 & 5.58 & ctrl\\\\\n\t3 & 5.18 & ctrl\\\\\n\t4 & 6.11 & ctrl\\\\\n\t5 & 4.50 & ctrl\\\\\n\t6 & 4.61 & ctrl\\\\\n\\end{tabular}\n",
            "text/plain": [
              "  weight group\n",
              "1 4.17   ctrl \n",
              "2 5.58   ctrl \n",
              "3 5.18   ctrl \n",
              "4 6.11   ctrl \n",
              "5 4.50   ctrl \n",
              "6 4.61   ctrl "
            ]
          },
          "metadata": {}
        }
      ]
    },
    {
      "cell_type": "code",
      "source": [
        "pairwise.t.test(PlantGrowth$weight,PlantGrowth$group, p.adj=\"bonf\")"
      ],
      "metadata": {
        "colab": {
          "base_uri": "https://localhost:8080/",
          "height": 191
        },
        "id": "B0X2bKeCTm7j",
        "outputId": "7ba7c627-61d1-476d-9d30-2f8798cc60d3"
      },
      "execution_count": null,
      "outputs": [
        {
          "output_type": "display_data",
          "data": {
            "text/plain": [
              "\n",
              "\tPairwise comparisons using t tests with pooled SD \n",
              "\n",
              "data:  PlantGrowth$weight and PlantGrowth$group \n",
              "\n",
              "     ctrl  trt1 \n",
              "trt1 0.583 -    \n",
              "trt2 0.263 0.013\n",
              "\n",
              "P value adjustment method: bonferroni "
            ]
          },
          "metadata": {}
        }
      ]
    },
    {
      "cell_type": "code",
      "source": [
        "PlantGrowth %>% ggplot(aes(x=group, y=weight)) + geom_boxplot()"
      ],
      "metadata": {
        "colab": {
          "base_uri": "https://localhost:8080/",
          "height": 437
        },
        "id": "aC1iDHaCrJKM",
        "outputId": "916c1b8e-1abe-4d00-8a84-cb482f3440ce"
      },
      "execution_count": null,
      "outputs": [
        {
          "output_type": "display_data",
          "data": {
            "text/plain": [
              "plot without title"
            ],
            "image/png": "[encoded data removed]"
          },
          "metadata": {
            "image/png": {
              "width": 420,
              "height": 420
            }
          }
        }
      ]
    },
    {
      "cell_type": "code",
      "source": [
        "library(data.table)\n",
        "metrics<-fread(\"/content/gene_expression.csv\")"
      ],
      "metadata": {
        "colab": {
          "base_uri": "https://localhost:8080/"
        },
        "id": "cA5ySGSProcU",
        "outputId": "a71a6aa0-2132-4c6b-9bfc-0530aa065ca4"
      },
      "execution_count": null,
      "outputs": [
        {
          "output_type": "stream",
          "name": "stderr",
          "text": [
            "\n",
            "Attaching package: ‘data.table’\n",
            "\n",
            "\n",
            "The following objects are masked from ‘package:dplyr’:\n",
            "\n",
            "    between, first, last\n",
            "\n",
            "\n",
            "The following object is masked from ‘package:purrr’:\n",
            "\n",
            "    transpose\n",
            "\n",
            "\n"
          ]
        }
      ]
    },
    {
      "cell_type": "code",
      "source": [
        "metrics %>% select(Protocol, `full reads before normalization`) %>% mutate(numberOfReads=`full reads before normalization`) %>% select(Protocol,numberOfReads) -> readsProtocol"
      ],
      "metadata": {
        "id": "Elia_7pjr_Fc"
      },
      "execution_count": null,
      "outputs": []
    },
    {
      "cell_type": "code",
      "source": [
        "pairwise.t.test(readsProtocol$numberOfReads,readsProtocol$Protocol, p.adj=\"bonf\")"
      ],
      "metadata": {
        "colab": {
          "base_uri": "https://localhost:8080/",
          "height": 191
        },
        "id": "K4t1x1fgs3m4",
        "outputId": "5353e385-deb7-4cd8-b416-71b0a1ab6bed"
      },
      "execution_count": null,
      "outputs": [
        {
          "output_type": "display_data",
          "data": {
            "text/plain": [
              "\n",
              "\tPairwise comparisons using t tests with pooled SD \n",
              "\n",
              "data:  readsProtocol$numberOfReads and readsProtocol$Protocol \n",
              "\n",
              "               ScriptSeq FFPE ScriptSeq Froz\n",
              "ScriptSeq Froz 0.00047        -             \n",
              "TruSeq Froz    1.4e-08        < 2e-16       \n",
              "\n",
              "P value adjustment method: bonferroni "
            ]
          },
          "metadata": {}
        }
      ]
    },
    {
      "cell_type": "code",
      "source": [
        "readsProtocol %>% ggplot(aes(x=Protocol,y=numberOfReads)) + geom_boxplot()"
      ],
      "metadata": {
        "colab": {
          "base_uri": "https://localhost:8080/",
          "height": 437
        },
        "id": "MG4ASNk-tLGW",
        "outputId": "2ae48a6d-cfbd-4d66-9c3e-167e0fb2c3b7"
      },
      "execution_count": null,
      "outputs": [
        {
          "output_type": "display_data",
          "data": {
            "text/plain": [
              "plot without title"
            ],
            "image/png": "[encoded data removed]"
          },
          "metadata": {
            "image/png": {
              "width": 420,
              "height": 420
            }
          }
        }
      ]
    }
  ]
}