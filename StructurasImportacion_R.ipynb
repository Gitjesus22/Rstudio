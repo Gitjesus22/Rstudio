{
  "nbformat": 4,
  "nbformat_minor": 0,
  "metadata": {
    "colab": {
      "name": "StructurasImportacion_R",
      "provenance": [],
      "collapsed_sections": [],
      "include_colab_link": true
    },
    "kernelspec": {
      "name": "ir",
      "display_name": "R"
    }
  },
  "cells": [
    {
      "cell_type": "markdown",
      "metadata": {
        "id": "view-in-github",
        "colab_type": "text"
      },
      "source": [
        "<a href=\"https://colab.research.google.com/github/Gitjesus22/Rstudio/blob/main/StructurasImportacion_R.ipynb\" target=\"_parent\"><img src=\"https://colab.research.google.com/assets/colab-badge.svg\" alt=\"Open In Colab\"/></a>"
      ]
    },
    {
      "cell_type": "markdown",
      "metadata": {
        "id": "SYcYf_1qAHPm"
      },
      "source": [
        "<table><tr>\n",
        "<td><img src=\"https://solariabiodata.com.mx/wp-content/uploads/2021/07/logo_red.png\" alt=\"Soluciones de siguiente generacion\" width=200/>\n",
        "<td>\n",
        "<td>\n",
        "<td><img src=\"https://upload.wikimedia.org/wikipedia/commons/thumb/1/1b/R_logo.svg/160px-R_logo.svg.png\">\n",
        "</tr></table>\n"
      ]
    },
    {
      "cell_type": "markdown",
      "metadata": {
        "id": "ksXzAli-6jxW"
      },
      "source": [
        "# Importación de tablas \n",
        "En esta libreta hablaremos importación de tablas en R \n",
        "\n"
      ]
    },
    {
      "cell_type": "markdown",
      "metadata": {
        "id": "8eyvUIK0vlmD"
      },
      "source": [
        "#Estructura de los datos \n",
        "\n",
        "Las estructuras de datos son objetos que contienen datos. Cuando trabajamos con R, lo que estamos haciendo es manipular estas estructuras.\n",
        "\n",
        "Las estructuras tienen diferentes características. Entre ellas, las que distinguen a una estructura de otra son su número de dimensiones y si son homogeneas o hereterogeneas.\n",
        "\n",
        "\n",
        "| Dimensiones | Homogéneas | Heterogénas |\n",
        "|----------|-------------|-------------|\n",
        "1\t          |  Vector\t     |   Lista\n",
        "2\t        | Matriz\t        |   Data frame\n",
        "n\t         |  Array\t     | \n",
        "---\n",
        "\n",
        "\n",
        "\n"
      ]
    },
    {
      "cell_type": "markdown",
      "metadata": {
        "id": "eKFCEITdArjO"
      },
      "source": [
        "##Matrices\n",
        "Las matrices pueden ser descritas como vectores multidimensionales. Al igual que un vector, únicamente pueden contener datos de un sólo tipo, pero además de largo, tienen más dimensiones.\n",
        "\n",
        "**bold text**"
      ]
    },
    {
      "cell_type": "code",
      "metadata": {
        "colab": {
          "base_uri": "https://localhost:8080/",
          "height": 274
        },
        "id": "rCUuOR0RA7W4",
        "outputId": "30d2c469-1cc0-4ce5-80b6-39e88233b0eb"
      },
      "source": [
        "\n",
        "# matrix() sin especificar renglones ni columnas\n",
        "matrix(1:5)"
      ],
      "execution_count": null,
      "outputs": [
        {
          "output_type": "display_data",
          "data": {
            "text/plain": [
              "     [,1]\n",
              "[1,] 1   \n",
              "[2,] 2   \n",
              "[3,] 3   \n",
              "[4,] 4   \n",
              "[5,] 5   "
            ],
            "text/latex": "A matrix: 5 × 1 of type int\n\\begin{tabular}{l}\n\t 1\\\\\n\t 2\\\\\n\t 3\\\\\n\t 4\\\\\n\t 5\\\\\n\\end{tabular}\n",
            "text/markdown": "\nA matrix: 5 × 1 of type int\n\n| 1 |\n| 2 |\n| 3 |\n| 4 |\n| 5 |\n\n",
            "text/html": [
              "<table class=\"dataframe\">\n",
              "<caption>A matrix: 5 × 1 of type int</caption>\n",
              "<tbody>\n",
              "\t<tr><td>1</td></tr>\n",
              "\t<tr><td>2</td></tr>\n",
              "\t<tr><td>3</td></tr>\n",
              "\t<tr><td>4</td></tr>\n",
              "\t<tr><td>5</td></tr>\n",
              "</tbody>\n",
              "</table>\n"
            ]
          },
          "metadata": {
            "tags": []
          }
        }
      ]
    },
    {
      "cell_type": "code",
      "metadata": {
        "colab": {
          "base_uri": "https://localhost:8080/",
          "height": 175
        },
        "id": "sN9KNgkJBV20",
        "outputId": "ffcc69f7-a403-4468-a062-9d0f38d9ae7e"
      },
      "source": [
        "# Tres renglones y cuatro columnas\n",
        "d<-matrix(1:10, nrow = 4, ncol = 5)\n",
        "d"
      ],
      "execution_count": null,
      "outputs": [
        {
          "output_type": "display_data",
          "data": {
            "text/plain": [
              "     [,1] [,2] [,3] [,4] [,5]\n",
              "[1,] 1    5     9   3     7  \n",
              "[2,] 2    6    10   4     8  \n",
              "[3,] 3    7     1   5     9  \n",
              "[4,] 4    8     2   6    10  "
            ],
            "text/latex": "A matrix: 4 × 5 of type int\n\\begin{tabular}{lllll}\n\t 1 & 5 &  9 & 3 &  7\\\\\n\t 2 & 6 & 10 & 4 &  8\\\\\n\t 3 & 7 &  1 & 5 &  9\\\\\n\t 4 & 8 &  2 & 6 & 10\\\\\n\\end{tabular}\n",
            "text/markdown": "\nA matrix: 4 × 5 of type int\n\n| 1 | 5 |  9 | 3 |  7 |\n| 2 | 6 | 10 | 4 |  8 |\n| 3 | 7 |  1 | 5 |  9 |\n| 4 | 8 |  2 | 6 | 10 |\n\n",
            "text/html": [
              "<table class=\"dataframe\">\n",
              "<caption>A matrix: 4 × 5 of type int</caption>\n",
              "<tbody>\n",
              "\t<tr><td>1</td><td>5</td><td> 9</td><td>3</td><td> 7</td></tr>\n",
              "\t<tr><td>2</td><td>6</td><td>10</td><td>4</td><td> 8</td></tr>\n",
              "\t<tr><td>3</td><td>7</td><td> 1</td><td>5</td><td> 9</td></tr>\n",
              "\t<tr><td>4</td><td>8</td><td> 2</td><td>6</td><td>10</td></tr>\n",
              "</tbody>\n",
              "</table>\n"
            ]
          },
          "metadata": {
            "tags": []
          }
        }
      ]
    },
    {
      "cell_type": "code",
      "metadata": {
        "colab": {
          "base_uri": "https://localhost:8080/",
          "height": 34
        },
        "id": "w9wyLAS3C76w",
        "outputId": "3525288c-4d48-4443-d00a-d7f1b218b3c8"
      },
      "source": [
        "#Obtenemos el número de dimensiones de una matriz o array con la función dim()\n",
        "dim(d)"
      ],
      "execution_count": null,
      "outputs": [
        {
          "output_type": "display_data",
          "data": {
            "text/plain": [
              "[1] 4 5"
            ],
            "text/latex": "\\begin{enumerate*}\n\\item 4\n\\item 5\n\\end{enumerate*}\n",
            "text/markdown": "1. 4\n2. 5\n\n\n",
            "text/html": [
              "<style>\n",
              ".list-inline {list-style: none; margin:0; padding: 0}\n",
              ".list-inline>li {display: inline-block}\n",
              ".list-inline>li:not(:last-child)::after {content: \"\\00b7\"; padding: 0 .5ex}\n",
              "</style>\n",
              "<ol class=list-inline><li>4</li><li>5</li></ol>\n"
            ]
          },
          "metadata": {
            "tags": []
          }
        }
      ]
    },
    {
      "cell_type": "markdown",
      "metadata": {
        "id": "OvTWHbpPA7Fn"
      },
      "source": [
        ""
      ]
    },
    {
      "cell_type": "markdown",
      "metadata": {
        "id": "PoPniF13D4zh"
      },
      "source": [
        "##Data frames\n",
        "\n",
        "Los data frames son estructuras de datos de dos dimensiones (rectangulares) que pueden contener datos de diferentes tipos, por lo tanto, son heterogéneas. \n",
        "\n"
      ]
    },
    {
      "cell_type": "code",
      "metadata": {
        "colab": {
          "base_uri": "https://localhost:8080/",
          "height": 221
        },
        "id": "b-hkUey3DiLO",
        "outputId": "77b9f990-58fd-431b-844b-7f7a1f5d0352"
      },
      "source": [
        "mi_df <- data.frame(\"entero\" = c(1:4), \"factor\" = c(\"a\", \"b\", \"c\", \"d\"), \"numero\" = c(1.2, 3.4, 4.5, 5.6),\n",
        "  \"cadena\" = as.character(c(\"a\", \"b\", \"c\", \"d\")))\n",
        "mi_df"
      ],
      "execution_count": null,
      "outputs": [
        {
          "output_type": "display_data",
          "data": {
            "text/plain": [
              "  entero factor numero cadena\n",
              "1 1      a      1.2    a     \n",
              "2 2      b      3.4    b     \n",
              "3 3      c      4.5    c     \n",
              "4 4      d      5.6    d     "
            ],
            "text/latex": "A data.frame: 4 × 4\n\\begin{tabular}{llll}\n entero & factor & numero & cadena\\\\\n <int> & <chr> & <dbl> & <chr>\\\\\n\\hline\n\t 1 & a & 1.2 & a\\\\\n\t 2 & b & 3.4 & b\\\\\n\t 3 & c & 4.5 & c\\\\\n\t 4 & d & 5.6 & d\\\\\n\\end{tabular}\n",
            "text/markdown": "\nA data.frame: 4 × 4\n\n| entero &lt;int&gt; | factor &lt;chr&gt; | numero &lt;dbl&gt; | cadena &lt;chr&gt; |\n|---|---|---|---|\n| 1 | a | 1.2 | a |\n| 2 | b | 3.4 | b |\n| 3 | c | 4.5 | c |\n| 4 | d | 5.6 | d |\n\n",
            "text/html": [
              "<table class=\"dataframe\">\n",
              "<caption>A data.frame: 4 × 4</caption>\n",
              "<thead>\n",
              "\t<tr><th scope=col>entero</th><th scope=col>factor</th><th scope=col>numero</th><th scope=col>cadena</th></tr>\n",
              "\t<tr><th scope=col>&lt;int&gt;</th><th scope=col>&lt;chr&gt;</th><th scope=col>&lt;dbl&gt;</th><th scope=col>&lt;chr&gt;</th></tr>\n",
              "</thead>\n",
              "<tbody>\n",
              "\t<tr><td>1</td><td>a</td><td>1.2</td><td>a</td></tr>\n",
              "\t<tr><td>2</td><td>b</td><td>3.4</td><td>b</td></tr>\n",
              "\t<tr><td>3</td><td>c</td><td>4.5</td><td>c</td></tr>\n",
              "\t<tr><td>4</td><td>d</td><td>5.6</td><td>d</td></tr>\n",
              "</tbody>\n",
              "</table>\n"
            ]
          },
          "metadata": {
            "tags": []
          }
        }
      ]
    },
    {
      "cell_type": "code",
      "metadata": {
        "colab": {
          "base_uri": "https://localhost:8080/",
          "height": 34
        },
        "id": "fl5CSFr3EICl",
        "outputId": "2fae5482-43be-4a0c-dd04-87359467493c"
      },
      "source": [
        "# Podemos usar dim() en un data frame\n",
        "dim(mi_df)"
      ],
      "execution_count": null,
      "outputs": [
        {
          "output_type": "display_data",
          "data": {
            "text/plain": [
              "[1] 4 4"
            ],
            "text/latex": "\\begin{enumerate*}\n\\item 4\n\\item 4\n\\end{enumerate*}\n",
            "text/markdown": "1. 4\n2. 4\n\n\n",
            "text/html": [
              "<style>\n",
              ".list-inline {list-style: none; margin:0; padding: 0}\n",
              ".list-inline>li {display: inline-block}\n",
              ".list-inline>li:not(:last-child)::after {content: \"\\00b7\"; padding: 0 .5ex}\n",
              "</style>\n",
              "<ol class=list-inline><li>4</li><li>4</li></ol>\n"
            ]
          },
          "metadata": {
            "tags": []
          }
        }
      ]
    },
    {
      "cell_type": "code",
      "metadata": {
        "colab": {
          "base_uri": "https://localhost:8080/",
          "height": 34
        },
        "id": "7Z2kp3dBE91S",
        "outputId": "1a4c74ce-5a9a-4de7-dc46-f93b21e6d61d"
      },
      "source": [
        "# El largo de un data frame es igual a su número de columnas\n",
        "length(mi_df)"
      ],
      "execution_count": null,
      "outputs": [
        {
          "output_type": "display_data",
          "data": {
            "text/plain": [
              "[1] 4"
            ],
            "text/latex": "4",
            "text/markdown": "4",
            "text/html": [
              "4"
            ]
          },
          "metadata": {
            "tags": []
          }
        }
      ]
    },
    {
      "cell_type": "markdown",
      "metadata": {
        "id": "xDxTX4mAJXw7"
      },
      "source": [
        "#Descarga de archivo tipo tabla\n",
        " En R se pueden descargar archivos desde internter para su utilización, estos archivos pueden se tabla, para la descarga se utiliza el comando "
      ]
    },
    {
      "cell_type": "code",
      "metadata": {
        "id": "RgpTqmoRdkvF",
        "colab": {
          "base_uri": "https://localhost:8080/",
          "height": 283
        },
        "outputId": "51f7ad1b-2de6-4376-abd7-e50ac197fb42"
      },
      "source": [
        "#Para descargar usamos el comando download.file\n",
        "download.file(url = \"https://archive.ics.uci.edu/ml/machine-learning-databases/iris/iris.data\", \n",
        "  destfile = \"iris.data\")\n",
        "# leemos los datos\n",
        "data(iris)\n",
        "# visualizamos los datos\n",
        "head(iris)\n",
        "\n"
      ],
      "execution_count": null,
      "outputs": [
        {
          "output_type": "display_data",
          "data": {
            "text/plain": [
              "  Sepal.Length Sepal.Width Petal.Length Petal.Width Species\n",
              "1 5.1          3.5         1.4          0.2         setosa \n",
              "2 4.9          3.0         1.4          0.2         setosa \n",
              "3 4.7          3.2         1.3          0.2         setosa \n",
              "4 4.6          3.1         1.5          0.2         setosa \n",
              "5 5.0          3.6         1.4          0.2         setosa \n",
              "6 5.4          3.9         1.7          0.4         setosa "
            ],
            "text/latex": "A data.frame: 6 × 5\n\\begin{tabular}{r|lllll}\n  & Sepal.Length & Sepal.Width & Petal.Length & Petal.Width & Species\\\\\n  & <dbl> & <dbl> & <dbl> & <dbl> & <fct>\\\\\n\\hline\n\t1 & 5.1 & 3.5 & 1.4 & 0.2 & setosa\\\\\n\t2 & 4.9 & 3.0 & 1.4 & 0.2 & setosa\\\\\n\t3 & 4.7 & 3.2 & 1.3 & 0.2 & setosa\\\\\n\t4 & 4.6 & 3.1 & 1.5 & 0.2 & setosa\\\\\n\t5 & 5.0 & 3.6 & 1.4 & 0.2 & setosa\\\\\n\t6 & 5.4 & 3.9 & 1.7 & 0.4 & setosa\\\\\n\\end{tabular}\n",
            "text/markdown": "\nA data.frame: 6 × 5\n\n| <!--/--> | Sepal.Length &lt;dbl&gt; | Sepal.Width &lt;dbl&gt; | Petal.Length &lt;dbl&gt; | Petal.Width &lt;dbl&gt; | Species &lt;fct&gt; |\n|---|---|---|---|---|---|\n| 1 | 5.1 | 3.5 | 1.4 | 0.2 | setosa |\n| 2 | 4.9 | 3.0 | 1.4 | 0.2 | setosa |\n| 3 | 4.7 | 3.2 | 1.3 | 0.2 | setosa |\n| 4 | 4.6 | 3.1 | 1.5 | 0.2 | setosa |\n| 5 | 5.0 | 3.6 | 1.4 | 0.2 | setosa |\n| 6 | 5.4 | 3.9 | 1.7 | 0.4 | setosa |\n\n",
            "text/html": [
              "<table class=\"dataframe\">\n",
              "<caption>A data.frame: 6 × 5</caption>\n",
              "<thead>\n",
              "\t<tr><th></th><th scope=col>Sepal.Length</th><th scope=col>Sepal.Width</th><th scope=col>Petal.Length</th><th scope=col>Petal.Width</th><th scope=col>Species</th></tr>\n",
              "\t<tr><th></th><th scope=col>&lt;dbl&gt;</th><th scope=col>&lt;dbl&gt;</th><th scope=col>&lt;dbl&gt;</th><th scope=col>&lt;dbl&gt;</th><th scope=col>&lt;fct&gt;</th></tr>\n",
              "</thead>\n",
              "<tbody>\n",
              "\t<tr><th scope=row>1</th><td>5.1</td><td>3.5</td><td>1.4</td><td>0.2</td><td>setosa</td></tr>\n",
              "\t<tr><th scope=row>2</th><td>4.9</td><td>3.0</td><td>1.4</td><td>0.2</td><td>setosa</td></tr>\n",
              "\t<tr><th scope=row>3</th><td>4.7</td><td>3.2</td><td>1.3</td><td>0.2</td><td>setosa</td></tr>\n",
              "\t<tr><th scope=row>4</th><td>4.6</td><td>3.1</td><td>1.5</td><td>0.2</td><td>setosa</td></tr>\n",
              "\t<tr><th scope=row>5</th><td>5.0</td><td>3.6</td><td>1.4</td><td>0.2</td><td>setosa</td></tr>\n",
              "\t<tr><th scope=row>6</th><td>5.4</td><td>3.9</td><td>1.7</td><td>0.4</td><td>setosa</td></tr>\n",
              "</tbody>\n",
              "</table>\n"
            ]
          },
          "metadata": {
            "tags": []
          }
        }
      ]
    },
    {
      "cell_type": "markdown",
      "metadata": {
        "id": "WmdONNXEvK_Z"
      },
      "source": [
        ""
      ]
    },
    {
      "cell_type": "markdown",
      "metadata": {
        "id": "hBOzqlJKGJHk"
      },
      "source": [
        "#Importación de tabla\n",
        "\n",
        "R cuenta con la función genérica read.table(), que puede leer cualquier tipo de archivo que contenga una tabla."
      ]
    },
    {
      "cell_type": "markdown",
      "metadata": {
        "id": "IF5He3wsHIV3"
      },
      "source": [
        "##Importación de la tabla con librerías nativas de R \n",
        "\n",
        "Primero se descargan los datos y posteriormente hay importar los datos para ello se utiliza la función read.table \n"
      ]
    },
    {
      "cell_type": "code",
      "metadata": {
        "id": "3hXPO_yAIGTN"
      },
      "source": [
        "#Descargando\n",
        "download.file(\n",
        "  url = \"https://raw.githubusercontent.com/jboscomendoza/r-principiantes-bookdown/master/datos/breast-cancer-wis.data\", \n",
        "  dest = \"breast-cancer-wis.data\"\n",
        ")\n"
      ],
      "execution_count": null,
      "outputs": []
    },
    {
      "cell_type": "markdown",
      "metadata": {
        "id": "aMd9519bKGU-"
      },
      "source": [
        "##Ubicación de los datos\n",
        "El directorio o carpeta de trabajo es el lugar en nuestra computadora en el que se encuentran los archivos con los que estamos trabajando en R"
      ]
    },
    {
      "cell_type": "code",
      "metadata": {
        "colab": {
          "base_uri": "https://localhost:8080/",
          "height": 34
        },
        "id": "5TyJrFCyJbYc",
        "outputId": "df4bad12-be5f-476f-cfe0-89f14db481f5"
      },
      "source": [
        "\n",
        "#Puedes encontrar cuál es tu directorio de trabajo con la función getwd(). \n",
        "getwd()\n",
        "#Puedes cambiar el directorio de trabajo usando la función setwd()"
      ],
      "execution_count": null,
      "outputs": [
        {
          "output_type": "display_data",
          "data": {
            "text/plain": [
              "[1] \"/content/sample_data\""
            ],
            "text/latex": "'/content/sample\\_data'",
            "text/markdown": "'/content/sample_data'",
            "text/html": [
              "'/content/sample_data'"
            ]
          },
          "metadata": {
            "tags": []
          }
        }
      ]
    },
    {
      "cell_type": "code",
      "metadata": {
        "colab": {
          "base_uri": "https://localhost:8080/",
          "height": 283
        },
        "id": "ELnQbUzpJChQ",
        "outputId": "0fe06aa3-5744-4b2d-af75-fd6709318b89"
      },
      "source": [
        "#importanto datos con la funcion read.table\n",
        "cancer<-read.table(\"/content/breast-cancer-wis.data\")\n",
        "head(cancer)"
      ],
      "execution_count": null,
      "outputs": [
        {
          "output_type": "display_data",
          "data": {
            "text/plain": [
              "  V1                            \n",
              "1 1000025,5,1,1,1,2,1,3,1,1,2   \n",
              "2 1002945,5,4,4,5,7,10,3,2,1,2  \n",
              "3 1015425,3,1,1,1,2,2,3,1,1,2   \n",
              "4 1016277,6,8,8,1,3,4,3,7,1,2   \n",
              "5 1017023,4,1,1,3,2,1,3,1,1,2   \n",
              "6 1017122,8,10,10,8,7,10,9,7,1,4"
            ],
            "text/latex": "A data.frame: 6 × 1\n\\begin{tabular}{r|l}\n  & V1\\\\\n  & <chr>\\\\\n\\hline\n\t1 & 1000025,5,1,1,1,2,1,3,1,1,2   \\\\\n\t2 & 1002945,5,4,4,5,7,10,3,2,1,2  \\\\\n\t3 & 1015425,3,1,1,1,2,2,3,1,1,2   \\\\\n\t4 & 1016277,6,8,8,1,3,4,3,7,1,2   \\\\\n\t5 & 1017023,4,1,1,3,2,1,3,1,1,2   \\\\\n\t6 & 1017122,8,10,10,8,7,10,9,7,1,4\\\\\n\\end{tabular}\n",
            "text/markdown": "\nA data.frame: 6 × 1\n\n| <!--/--> | V1 &lt;chr&gt; |\n|---|---|\n| 1 | 1000025,5,1,1,1,2,1,3,1,1,2    |\n| 2 | 1002945,5,4,4,5,7,10,3,2,1,2   |\n| 3 | 1015425,3,1,1,1,2,2,3,1,1,2    |\n| 4 | 1016277,6,8,8,1,3,4,3,7,1,2    |\n| 5 | 1017023,4,1,1,3,2,1,3,1,1,2    |\n| 6 | 1017122,8,10,10,8,7,10,9,7,1,4 |\n\n",
            "text/html": [
              "<table class=\"dataframe\">\n",
              "<caption>A data.frame: 6 × 1</caption>\n",
              "<thead>\n",
              "\t<tr><th></th><th scope=col>V1</th></tr>\n",
              "\t<tr><th></th><th scope=col>&lt;chr&gt;</th></tr>\n",
              "</thead>\n",
              "<tbody>\n",
              "\t<tr><th scope=row>1</th><td>1000025,5,1,1,1,2,1,3,1,1,2   </td></tr>\n",
              "\t<tr><th scope=row>2</th><td>1002945,5,4,4,5,7,10,3,2,1,2  </td></tr>\n",
              "\t<tr><th scope=row>3</th><td>1015425,3,1,1,1,2,2,3,1,1,2   </td></tr>\n",
              "\t<tr><th scope=row>4</th><td>1016277,6,8,8,1,3,4,3,7,1,2   </td></tr>\n",
              "\t<tr><th scope=row>5</th><td>1017023,4,1,1,3,2,1,3,1,1,2   </td></tr>\n",
              "\t<tr><th scope=row>6</th><td>1017122,8,10,10,8,7,10,9,7,1,4</td></tr>\n",
              "</tbody>\n",
              "</table>\n"
            ]
          },
          "metadata": {
            "tags": []
          }
        }
      ]
    },
    {
      "cell_type": "code",
      "metadata": {
        "colab": {
          "base_uri": "https://localhost:8080/",
          "height": 283
        },
        "id": "Sure0eR_K0BI",
        "outputId": "497b08ec-c4aa-4eea-939f-349d053a9f63"
      },
      "source": [
        "#Modificamos la tabla adicional los nombres de los encabezamos\n",
        "\n",
        "bcancer <- read.table(file = \"/content/breast-cancer-wis.data\", header = F, sep = \",\")\n",
        "head(bcancer)"
      ],
      "execution_count": null,
      "outputs": [
        {
          "output_type": "display_data",
          "data": {
            "text/plain": [
              "  V1      V2 V3 V4 V5 V6 V7 V8 V9 V10 V11\n",
              "1 1000025 5   1  1 1  2  1  3  1  1   2  \n",
              "2 1002945 5   4  4 5  7  10 3  2  1   2  \n",
              "3 1015425 3   1  1 1  2  2  3  1  1   2  \n",
              "4 1016277 6   8  8 1  3  4  3  7  1   2  \n",
              "5 1017023 4   1  1 3  2  1  3  1  1   2  \n",
              "6 1017122 8  10 10 8  7  10 9  7  1   4  "
            ],
            "text/latex": "A data.frame: 6 × 11\n\\begin{tabular}{r|lllllllllll}\n  & V1 & V2 & V3 & V4 & V5 & V6 & V7 & V8 & V9 & V10 & V11\\\\\n  & <int> & <int> & <int> & <int> & <int> & <int> & <chr> & <int> & <int> & <int> & <int>\\\\\n\\hline\n\t1 & 1000025 & 5 &  1 &  1 & 1 & 2 & 1  & 3 & 1 & 1 & 2\\\\\n\t2 & 1002945 & 5 &  4 &  4 & 5 & 7 & 10 & 3 & 2 & 1 & 2\\\\\n\t3 & 1015425 & 3 &  1 &  1 & 1 & 2 & 2  & 3 & 1 & 1 & 2\\\\\n\t4 & 1016277 & 6 &  8 &  8 & 1 & 3 & 4  & 3 & 7 & 1 & 2\\\\\n\t5 & 1017023 & 4 &  1 &  1 & 3 & 2 & 1  & 3 & 1 & 1 & 2\\\\\n\t6 & 1017122 & 8 & 10 & 10 & 8 & 7 & 10 & 9 & 7 & 1 & 4\\\\\n\\end{tabular}\n",
            "text/markdown": "\nA data.frame: 6 × 11\n\n| <!--/--> | V1 &lt;int&gt; | V2 &lt;int&gt; | V3 &lt;int&gt; | V4 &lt;int&gt; | V5 &lt;int&gt; | V6 &lt;int&gt; | V7 &lt;chr&gt; | V8 &lt;int&gt; | V9 &lt;int&gt; | V10 &lt;int&gt; | V11 &lt;int&gt; |\n|---|---|---|---|---|---|---|---|---|---|---|---|\n| 1 | 1000025 | 5 |  1 |  1 | 1 | 2 | 1  | 3 | 1 | 1 | 2 |\n| 2 | 1002945 | 5 |  4 |  4 | 5 | 7 | 10 | 3 | 2 | 1 | 2 |\n| 3 | 1015425 | 3 |  1 |  1 | 1 | 2 | 2  | 3 | 1 | 1 | 2 |\n| 4 | 1016277 | 6 |  8 |  8 | 1 | 3 | 4  | 3 | 7 | 1 | 2 |\n| 5 | 1017023 | 4 |  1 |  1 | 3 | 2 | 1  | 3 | 1 | 1 | 2 |\n| 6 | 1017122 | 8 | 10 | 10 | 8 | 7 | 10 | 9 | 7 | 1 | 4 |\n\n",
            "text/html": [
              "<table class=\"dataframe\">\n",
              "<caption>A data.frame: 6 × 11</caption>\n",
              "<thead>\n",
              "\t<tr><th></th><th scope=col>V1</th><th scope=col>V2</th><th scope=col>V3</th><th scope=col>V4</th><th scope=col>V5</th><th scope=col>V6</th><th scope=col>V7</th><th scope=col>V8</th><th scope=col>V9</th><th scope=col>V10</th><th scope=col>V11</th></tr>\n",
              "\t<tr><th></th><th scope=col>&lt;int&gt;</th><th scope=col>&lt;int&gt;</th><th scope=col>&lt;int&gt;</th><th scope=col>&lt;int&gt;</th><th scope=col>&lt;int&gt;</th><th scope=col>&lt;int&gt;</th><th scope=col>&lt;chr&gt;</th><th scope=col>&lt;int&gt;</th><th scope=col>&lt;int&gt;</th><th scope=col>&lt;int&gt;</th><th scope=col>&lt;int&gt;</th></tr>\n",
              "</thead>\n",
              "<tbody>\n",
              "\t<tr><th scope=row>1</th><td>1000025</td><td>5</td><td> 1</td><td> 1</td><td>1</td><td>2</td><td>1 </td><td>3</td><td>1</td><td>1</td><td>2</td></tr>\n",
              "\t<tr><th scope=row>2</th><td>1002945</td><td>5</td><td> 4</td><td> 4</td><td>5</td><td>7</td><td>10</td><td>3</td><td>2</td><td>1</td><td>2</td></tr>\n",
              "\t<tr><th scope=row>3</th><td>1015425</td><td>3</td><td> 1</td><td> 1</td><td>1</td><td>2</td><td>2 </td><td>3</td><td>1</td><td>1</td><td>2</td></tr>\n",
              "\t<tr><th scope=row>4</th><td>1016277</td><td>6</td><td> 8</td><td> 8</td><td>1</td><td>3</td><td>4 </td><td>3</td><td>7</td><td>1</td><td>2</td></tr>\n",
              "\t<tr><th scope=row>5</th><td>1017023</td><td>4</td><td> 1</td><td> 1</td><td>3</td><td>2</td><td>1 </td><td>3</td><td>1</td><td>1</td><td>2</td></tr>\n",
              "\t<tr><th scope=row>6</th><td>1017122</td><td>8</td><td>10</td><td>10</td><td>8</td><td>7</td><td>10</td><td>9</td><td>7</td><td>1</td><td>4</td></tr>\n",
              "</tbody>\n",
              "</table>\n"
            ]
          },
          "metadata": {
            "tags": []
          }
        }
      ]
    },
    {
      "cell_type": "code",
      "metadata": {
        "colab": {
          "base_uri": "https://localhost:8080/",
          "height": 283
        },
        "id": "l_dFbhn7M2yo",
        "outputId": "bd016c61-47a6-47f8-fa51-29c6fa00ca82"
      },
      "source": [
        "#Modificamos la tabla adicional los nombres de los encabezamos\n",
        "#Creamos un vector llamado nombres \n",
        "nombres <- c(\"id\", \"clump_t\", \"u_csize\", \"u_cshape\", \"m_adh\", \"spcs\", \"b_nuc\", \n",
        "             \"b_chr\", \"n_nuc\", \"mit\", \"class\")\n",
        "bcancer <- read.table(file = \"/content/breast-cancer-wis.data\", header = FALSE, sep = \",\",\n",
        "                      col.names = nombres)\n",
        "head(bcancer)"
      ],
      "execution_count": null,
      "outputs": [
        {
          "output_type": "display_data",
          "data": {
            "text/plain": [
              "  id      clump_t u_csize u_cshape m_adh spcs b_nuc b_chr n_nuc mit class\n",
              "1 1000025 5        1       1       1     2    1     3     1     1   2    \n",
              "2 1002945 5        4       4       5     7    10    3     2     1   2    \n",
              "3 1015425 3        1       1       1     2    2     3     1     1   2    \n",
              "4 1016277 6        8       8       1     3    4     3     7     1   2    \n",
              "5 1017023 4        1       1       3     2    1     3     1     1   2    \n",
              "6 1017122 8       10      10       8     7    10    9     7     1   4    "
            ],
            "text/latex": "A data.frame: 6 × 11\n\\begin{tabular}{r|lllllllllll}\n  & id & clump\\_t & u\\_csize & u\\_cshape & m\\_adh & spcs & b\\_nuc & b\\_chr & n\\_nuc & mit & class\\\\\n  & <int> & <int> & <int> & <int> & <int> & <int> & <chr> & <int> & <int> & <int> & <int>\\\\\n\\hline\n\t1 & 1000025 & 5 &  1 &  1 & 1 & 2 & 1  & 3 & 1 & 1 & 2\\\\\n\t2 & 1002945 & 5 &  4 &  4 & 5 & 7 & 10 & 3 & 2 & 1 & 2\\\\\n\t3 & 1015425 & 3 &  1 &  1 & 1 & 2 & 2  & 3 & 1 & 1 & 2\\\\\n\t4 & 1016277 & 6 &  8 &  8 & 1 & 3 & 4  & 3 & 7 & 1 & 2\\\\\n\t5 & 1017023 & 4 &  1 &  1 & 3 & 2 & 1  & 3 & 1 & 1 & 2\\\\\n\t6 & 1017122 & 8 & 10 & 10 & 8 & 7 & 10 & 9 & 7 & 1 & 4\\\\\n\\end{tabular}\n",
            "text/markdown": "\nA data.frame: 6 × 11\n\n| <!--/--> | id &lt;int&gt; | clump_t &lt;int&gt; | u_csize &lt;int&gt; | u_cshape &lt;int&gt; | m_adh &lt;int&gt; | spcs &lt;int&gt; | b_nuc &lt;chr&gt; | b_chr &lt;int&gt; | n_nuc &lt;int&gt; | mit &lt;int&gt; | class &lt;int&gt; |\n|---|---|---|---|---|---|---|---|---|---|---|---|\n| 1 | 1000025 | 5 |  1 |  1 | 1 | 2 | 1  | 3 | 1 | 1 | 2 |\n| 2 | 1002945 | 5 |  4 |  4 | 5 | 7 | 10 | 3 | 2 | 1 | 2 |\n| 3 | 1015425 | 3 |  1 |  1 | 1 | 2 | 2  | 3 | 1 | 1 | 2 |\n| 4 | 1016277 | 6 |  8 |  8 | 1 | 3 | 4  | 3 | 7 | 1 | 2 |\n| 5 | 1017023 | 4 |  1 |  1 | 3 | 2 | 1  | 3 | 1 | 1 | 2 |\n| 6 | 1017122 | 8 | 10 | 10 | 8 | 7 | 10 | 9 | 7 | 1 | 4 |\n\n",
            "text/html": [
              "<table class=\"dataframe\">\n",
              "<caption>A data.frame: 6 × 11</caption>\n",
              "<thead>\n",
              "\t<tr><th></th><th scope=col>id</th><th scope=col>clump_t</th><th scope=col>u_csize</th><th scope=col>u_cshape</th><th scope=col>m_adh</th><th scope=col>spcs</th><th scope=col>b_nuc</th><th scope=col>b_chr</th><th scope=col>n_nuc</th><th scope=col>mit</th><th scope=col>class</th></tr>\n",
              "\t<tr><th></th><th scope=col>&lt;int&gt;</th><th scope=col>&lt;int&gt;</th><th scope=col>&lt;int&gt;</th><th scope=col>&lt;int&gt;</th><th scope=col>&lt;int&gt;</th><th scope=col>&lt;int&gt;</th><th scope=col>&lt;chr&gt;</th><th scope=col>&lt;int&gt;</th><th scope=col>&lt;int&gt;</th><th scope=col>&lt;int&gt;</th><th scope=col>&lt;int&gt;</th></tr>\n",
              "</thead>\n",
              "<tbody>\n",
              "\t<tr><th scope=row>1</th><td>1000025</td><td>5</td><td> 1</td><td> 1</td><td>1</td><td>2</td><td>1 </td><td>3</td><td>1</td><td>1</td><td>2</td></tr>\n",
              "\t<tr><th scope=row>2</th><td>1002945</td><td>5</td><td> 4</td><td> 4</td><td>5</td><td>7</td><td>10</td><td>3</td><td>2</td><td>1</td><td>2</td></tr>\n",
              "\t<tr><th scope=row>3</th><td>1015425</td><td>3</td><td> 1</td><td> 1</td><td>1</td><td>2</td><td>2 </td><td>3</td><td>1</td><td>1</td><td>2</td></tr>\n",
              "\t<tr><th scope=row>4</th><td>1016277</td><td>6</td><td> 8</td><td> 8</td><td>1</td><td>3</td><td>4 </td><td>3</td><td>7</td><td>1</td><td>2</td></tr>\n",
              "\t<tr><th scope=row>5</th><td>1017023</td><td>4</td><td> 1</td><td> 1</td><td>3</td><td>2</td><td>1 </td><td>3</td><td>1</td><td>1</td><td>2</td></tr>\n",
              "\t<tr><th scope=row>6</th><td>1017122</td><td>8</td><td>10</td><td>10</td><td>8</td><td>7</td><td>10</td><td>9</td><td>7</td><td>1</td><td>4</td></tr>\n",
              "</tbody>\n",
              "</table>\n"
            ]
          },
          "metadata": {
            "tags": []
          }
        }
      ]
    },
    {
      "cell_type": "code",
      "metadata": {
        "colab": {
          "base_uri": "https://localhost:8080/",
          "height": 283
        },
        "id": "D4RpQbCCL3IE",
        "outputId": "bfc94eff-087b-4127-e7ad-062f447f50a7"
      },
      "source": [
        "#Modificamos la tabla adicional los nombres de los encabezamos\n",
        "#leyendo la tabla \n",
        "#usamos la funcion colnames \n",
        "colnames(bcancer)<-c(\"id\", \"clump_t\", \"u_csize\", \"u_cshape\", \"m_adh\", \"spcs\", \"b_nuc\", \n",
        "             \"b_chr\", \"n_nuc\", \"mit\", \"class\")\n",
        "head(bcancer)"
      ],
      "execution_count": null,
      "outputs": [
        {
          "output_type": "display_data",
          "data": {
            "text/plain": [
              "  id      clump_t u_csize u_cshape m_adh spcs b_nuc b_chr n_nuc mit class\n",
              "1 1000025 5        1       1       1     2    1     3     1     1   2    \n",
              "2 1002945 5        4       4       5     7    10    3     2     1   2    \n",
              "3 1015425 3        1       1       1     2    2     3     1     1   2    \n",
              "4 1016277 6        8       8       1     3    4     3     7     1   2    \n",
              "5 1017023 4        1       1       3     2    1     3     1     1   2    \n",
              "6 1017122 8       10      10       8     7    10    9     7     1   4    "
            ],
            "text/latex": "A data.frame: 6 × 11\n\\begin{tabular}{r|lllllllllll}\n  & id & clump\\_t & u\\_csize & u\\_cshape & m\\_adh & spcs & b\\_nuc & b\\_chr & n\\_nuc & mit & class\\\\\n  & <int> & <int> & <int> & <int> & <int> & <int> & <chr> & <int> & <int> & <int> & <int>\\\\\n\\hline\n\t1 & 1000025 & 5 &  1 &  1 & 1 & 2 & 1  & 3 & 1 & 1 & 2\\\\\n\t2 & 1002945 & 5 &  4 &  4 & 5 & 7 & 10 & 3 & 2 & 1 & 2\\\\\n\t3 & 1015425 & 3 &  1 &  1 & 1 & 2 & 2  & 3 & 1 & 1 & 2\\\\\n\t4 & 1016277 & 6 &  8 &  8 & 1 & 3 & 4  & 3 & 7 & 1 & 2\\\\\n\t5 & 1017023 & 4 &  1 &  1 & 3 & 2 & 1  & 3 & 1 & 1 & 2\\\\\n\t6 & 1017122 & 8 & 10 & 10 & 8 & 7 & 10 & 9 & 7 & 1 & 4\\\\\n\\end{tabular}\n",
            "text/markdown": "\nA data.frame: 6 × 11\n\n| <!--/--> | id &lt;int&gt; | clump_t &lt;int&gt; | u_csize &lt;int&gt; | u_cshape &lt;int&gt; | m_adh &lt;int&gt; | spcs &lt;int&gt; | b_nuc &lt;chr&gt; | b_chr &lt;int&gt; | n_nuc &lt;int&gt; | mit &lt;int&gt; | class &lt;int&gt; |\n|---|---|---|---|---|---|---|---|---|---|---|---|\n| 1 | 1000025 | 5 |  1 |  1 | 1 | 2 | 1  | 3 | 1 | 1 | 2 |\n| 2 | 1002945 | 5 |  4 |  4 | 5 | 7 | 10 | 3 | 2 | 1 | 2 |\n| 3 | 1015425 | 3 |  1 |  1 | 1 | 2 | 2  | 3 | 1 | 1 | 2 |\n| 4 | 1016277 | 6 |  8 |  8 | 1 | 3 | 4  | 3 | 7 | 1 | 2 |\n| 5 | 1017023 | 4 |  1 |  1 | 3 | 2 | 1  | 3 | 1 | 1 | 2 |\n| 6 | 1017122 | 8 | 10 | 10 | 8 | 7 | 10 | 9 | 7 | 1 | 4 |\n\n",
            "text/html": [
              "<table class=\"dataframe\">\n",
              "<caption>A data.frame: 6 × 11</caption>\n",
              "<thead>\n",
              "\t<tr><th></th><th scope=col>id</th><th scope=col>clump_t</th><th scope=col>u_csize</th><th scope=col>u_cshape</th><th scope=col>m_adh</th><th scope=col>spcs</th><th scope=col>b_nuc</th><th scope=col>b_chr</th><th scope=col>n_nuc</th><th scope=col>mit</th><th scope=col>class</th></tr>\n",
              "\t<tr><th></th><th scope=col>&lt;int&gt;</th><th scope=col>&lt;int&gt;</th><th scope=col>&lt;int&gt;</th><th scope=col>&lt;int&gt;</th><th scope=col>&lt;int&gt;</th><th scope=col>&lt;int&gt;</th><th scope=col>&lt;chr&gt;</th><th scope=col>&lt;int&gt;</th><th scope=col>&lt;int&gt;</th><th scope=col>&lt;int&gt;</th><th scope=col>&lt;int&gt;</th></tr>\n",
              "</thead>\n",
              "<tbody>\n",
              "\t<tr><th scope=row>1</th><td>1000025</td><td>5</td><td> 1</td><td> 1</td><td>1</td><td>2</td><td>1 </td><td>3</td><td>1</td><td>1</td><td>2</td></tr>\n",
              "\t<tr><th scope=row>2</th><td>1002945</td><td>5</td><td> 4</td><td> 4</td><td>5</td><td>7</td><td>10</td><td>3</td><td>2</td><td>1</td><td>2</td></tr>\n",
              "\t<tr><th scope=row>3</th><td>1015425</td><td>3</td><td> 1</td><td> 1</td><td>1</td><td>2</td><td>2 </td><td>3</td><td>1</td><td>1</td><td>2</td></tr>\n",
              "\t<tr><th scope=row>4</th><td>1016277</td><td>6</td><td> 8</td><td> 8</td><td>1</td><td>3</td><td>4 </td><td>3</td><td>7</td><td>1</td><td>2</td></tr>\n",
              "\t<tr><th scope=row>5</th><td>1017023</td><td>4</td><td> 1</td><td> 1</td><td>3</td><td>2</td><td>1 </td><td>3</td><td>1</td><td>1</td><td>2</td></tr>\n",
              "\t<tr><th scope=row>6</th><td>1017122</td><td>8</td><td>10</td><td>10</td><td>8</td><td>7</td><td>10</td><td>9</td><td>7</td><td>1</td><td>4</td></tr>\n",
              "</tbody>\n",
              "</table>\n"
            ]
          },
          "metadata": {
            "tags": []
          }
        }
      ]
    },
    {
      "cell_type": "code",
      "metadata": {
        "id": "SRzmwkjDMxyO",
        "colab": {
          "base_uri": "https://localhost:8080/",
          "height": 34
        },
        "outputId": "fa590c32-d9e5-4e74-b784-721686858804"
      },
      "source": [
        "#conocer el tipo de \n",
        "class(bcancer)"
      ],
      "execution_count": null,
      "outputs": [
        {
          "output_type": "display_data",
          "data": {
            "text/plain": [
              "[1] \"data.frame\""
            ],
            "text/latex": "'data.frame'",
            "text/markdown": "'data.frame'",
            "text/html": [
              "'data.frame'"
            ]
          },
          "metadata": {
            "tags": []
          }
        }
      ]
    },
    {
      "cell_type": "markdown",
      "metadata": {
        "id": "wKyMLeJyPNVf"
      },
      "source": [
        ""
      ]
    },
    {
      "cell_type": "markdown",
      "metadata": {
        "id": "u7YU7C9TOq72"
      },
      "source": [
        "## Archivos cvs\n",
        "Los archivos separados por comas, con extensión .csv, por Comma Separated Values, sus siglas en inglés. Este es un tipo de archivo comunmente usado para compartir datos, pues es compatible con una amplia variedad de sistemas diferentes además de que ocupa relativamente poco espacio de almacenamiento.\n",
        "\n",
        "Este tipo de archivos también se pueden importar usando la función read.table().\n"
      ]
    },
    {
      "cell_type": "code",
      "metadata": {
        "id": "VjNvY-HzPnll"
      },
      "source": [
        "#Descargar archivo csv \n",
        "download.file(\n",
        "  url = \"https://raw.githubusercontent.com/jboscomendoza/r-principiantes-bookdown/master/datos/breast-cancer-wis.csv\", \n",
        "  dest = \"breast-cancer-wis.csv\"\n",
        ")"
      ],
      "execution_count": null,
      "outputs": []
    },
    {
      "cell_type": "code",
      "metadata": {
        "colab": {
          "base_uri": "https://localhost:8080/",
          "height": 283
        },
        "id": "LxjST5yeP2OW",
        "outputId": "01e03d32-9ac4-4a44-9c10-530806787eef"
      },
      "source": [
        "#Leyendo el archivo cvs con la función read.table\n",
        "cancer2 <- read.table(file = \"/content/breast-cancer-wis.csv\", header = TRUE, sep = \",\",\n",
        "                      col.names = nombres)\n",
        "#Resultado \n",
        "head(cancer2)"
      ],
      "execution_count": null,
      "outputs": [
        {
          "output_type": "display_data",
          "data": {
            "text/plain": [
              "  id      clump_t u_csize u_cshape m_adh spcs b_nuc b_chr n_nuc mit class\n",
              "1 1000025 5        1       1       1     2    1     3     1     1   2    \n",
              "2 1002945 5        4       4       5     7    10    3     2     1   2    \n",
              "3 1015425 3        1       1       1     2    2     3     1     1   2    \n",
              "4 1016277 6        8       8       1     3    4     3     7     1   2    \n",
              "5 1017023 4        1       1       3     2    1     3     1     1   2    \n",
              "6 1017122 8       10      10       8     7    10    9     7     1   4    "
            ],
            "text/latex": "A data.frame: 6 × 11\n\\begin{tabular}{r|lllllllllll}\n  & id & clump\\_t & u\\_csize & u\\_cshape & m\\_adh & spcs & b\\_nuc & b\\_chr & n\\_nuc & mit & class\\\\\n  & <int> & <int> & <int> & <int> & <int> & <int> & <chr> & <int> & <int> & <int> & <int>\\\\\n\\hline\n\t1 & 1000025 & 5 &  1 &  1 & 1 & 2 & 1  & 3 & 1 & 1 & 2\\\\\n\t2 & 1002945 & 5 &  4 &  4 & 5 & 7 & 10 & 3 & 2 & 1 & 2\\\\\n\t3 & 1015425 & 3 &  1 &  1 & 1 & 2 & 2  & 3 & 1 & 1 & 2\\\\\n\t4 & 1016277 & 6 &  8 &  8 & 1 & 3 & 4  & 3 & 7 & 1 & 2\\\\\n\t5 & 1017023 & 4 &  1 &  1 & 3 & 2 & 1  & 3 & 1 & 1 & 2\\\\\n\t6 & 1017122 & 8 & 10 & 10 & 8 & 7 & 10 & 9 & 7 & 1 & 4\\\\\n\\end{tabular}\n",
            "text/markdown": "\nA data.frame: 6 × 11\n\n| <!--/--> | id &lt;int&gt; | clump_t &lt;int&gt; | u_csize &lt;int&gt; | u_cshape &lt;int&gt; | m_adh &lt;int&gt; | spcs &lt;int&gt; | b_nuc &lt;chr&gt; | b_chr &lt;int&gt; | n_nuc &lt;int&gt; | mit &lt;int&gt; | class &lt;int&gt; |\n|---|---|---|---|---|---|---|---|---|---|---|---|\n| 1 | 1000025 | 5 |  1 |  1 | 1 | 2 | 1  | 3 | 1 | 1 | 2 |\n| 2 | 1002945 | 5 |  4 |  4 | 5 | 7 | 10 | 3 | 2 | 1 | 2 |\n| 3 | 1015425 | 3 |  1 |  1 | 1 | 2 | 2  | 3 | 1 | 1 | 2 |\n| 4 | 1016277 | 6 |  8 |  8 | 1 | 3 | 4  | 3 | 7 | 1 | 2 |\n| 5 | 1017023 | 4 |  1 |  1 | 3 | 2 | 1  | 3 | 1 | 1 | 2 |\n| 6 | 1017122 | 8 | 10 | 10 | 8 | 7 | 10 | 9 | 7 | 1 | 4 |\n\n",
            "text/html": [
              "<table class=\"dataframe\">\n",
              "<caption>A data.frame: 6 × 11</caption>\n",
              "<thead>\n",
              "\t<tr><th></th><th scope=col>id</th><th scope=col>clump_t</th><th scope=col>u_csize</th><th scope=col>u_cshape</th><th scope=col>m_adh</th><th scope=col>spcs</th><th scope=col>b_nuc</th><th scope=col>b_chr</th><th scope=col>n_nuc</th><th scope=col>mit</th><th scope=col>class</th></tr>\n",
              "\t<tr><th></th><th scope=col>&lt;int&gt;</th><th scope=col>&lt;int&gt;</th><th scope=col>&lt;int&gt;</th><th scope=col>&lt;int&gt;</th><th scope=col>&lt;int&gt;</th><th scope=col>&lt;int&gt;</th><th scope=col>&lt;chr&gt;</th><th scope=col>&lt;int&gt;</th><th scope=col>&lt;int&gt;</th><th scope=col>&lt;int&gt;</th><th scope=col>&lt;int&gt;</th></tr>\n",
              "</thead>\n",
              "<tbody>\n",
              "\t<tr><th scope=row>1</th><td>1000025</td><td>5</td><td> 1</td><td> 1</td><td>1</td><td>2</td><td>1 </td><td>3</td><td>1</td><td>1</td><td>2</td></tr>\n",
              "\t<tr><th scope=row>2</th><td>1002945</td><td>5</td><td> 4</td><td> 4</td><td>5</td><td>7</td><td>10</td><td>3</td><td>2</td><td>1</td><td>2</td></tr>\n",
              "\t<tr><th scope=row>3</th><td>1015425</td><td>3</td><td> 1</td><td> 1</td><td>1</td><td>2</td><td>2 </td><td>3</td><td>1</td><td>1</td><td>2</td></tr>\n",
              "\t<tr><th scope=row>4</th><td>1016277</td><td>6</td><td> 8</td><td> 8</td><td>1</td><td>3</td><td>4 </td><td>3</td><td>7</td><td>1</td><td>2</td></tr>\n",
              "\t<tr><th scope=row>5</th><td>1017023</td><td>4</td><td> 1</td><td> 1</td><td>3</td><td>2</td><td>1 </td><td>3</td><td>1</td><td>1</td><td>2</td></tr>\n",
              "\t<tr><th scope=row>6</th><td>1017122</td><td>8</td><td>10</td><td>10</td><td>8</td><td>7</td><td>10</td><td>9</td><td>7</td><td>1</td><td>4</td></tr>\n",
              "</tbody>\n",
              "</table>\n"
            ]
          },
          "metadata": {
            "tags": []
          }
        }
      ]
    },
    {
      "cell_type": "code",
      "metadata": {
        "colab": {
          "base_uri": "https://localhost:8080/",
          "height": 283
        },
        "id": "PtMDOQxkQT3l",
        "outputId": "5945718e-1775-4246-b317-3c1d8383a2bd"
      },
      "source": [
        "#Leyendo el archivo csv con la función read.csv \n",
        "\n",
        "cancer3 <- read.csv(\"/content/breast-cancer-wis.csv\")\n",
        "#Resultado\n",
        "head(cancer3)"
      ],
      "execution_count": null,
      "outputs": [
        {
          "output_type": "display_data",
          "data": {
            "text/plain": [
              "  id      clump_t u_csize u_cshape m_adh spcs b_nuc b_chr n_nuc mit class\n",
              "1 1000025 5        1       1       1     2    1     3     1     1   2    \n",
              "2 1002945 5        4       4       5     7    10    3     2     1   2    \n",
              "3 1015425 3        1       1       1     2    2     3     1     1   2    \n",
              "4 1016277 6        8       8       1     3    4     3     7     1   2    \n",
              "5 1017023 4        1       1       3     2    1     3     1     1   2    \n",
              "6 1017122 8       10      10       8     7    10    9     7     1   4    "
            ],
            "text/latex": "A data.frame: 6 × 11\n\\begin{tabular}{r|lllllllllll}\n  & id & clump\\_t & u\\_csize & u\\_cshape & m\\_adh & spcs & b\\_nuc & b\\_chr & n\\_nuc & mit & class\\\\\n  & <int> & <int> & <int> & <int> & <int> & <int> & <chr> & <int> & <int> & <int> & <int>\\\\\n\\hline\n\t1 & 1000025 & 5 &  1 &  1 & 1 & 2 & 1  & 3 & 1 & 1 & 2\\\\\n\t2 & 1002945 & 5 &  4 &  4 & 5 & 7 & 10 & 3 & 2 & 1 & 2\\\\\n\t3 & 1015425 & 3 &  1 &  1 & 1 & 2 & 2  & 3 & 1 & 1 & 2\\\\\n\t4 & 1016277 & 6 &  8 &  8 & 1 & 3 & 4  & 3 & 7 & 1 & 2\\\\\n\t5 & 1017023 & 4 &  1 &  1 & 3 & 2 & 1  & 3 & 1 & 1 & 2\\\\\n\t6 & 1017122 & 8 & 10 & 10 & 8 & 7 & 10 & 9 & 7 & 1 & 4\\\\\n\\end{tabular}\n",
            "text/markdown": "\nA data.frame: 6 × 11\n\n| <!--/--> | id &lt;int&gt; | clump_t &lt;int&gt; | u_csize &lt;int&gt; | u_cshape &lt;int&gt; | m_adh &lt;int&gt; | spcs &lt;int&gt; | b_nuc &lt;chr&gt; | b_chr &lt;int&gt; | n_nuc &lt;int&gt; | mit &lt;int&gt; | class &lt;int&gt; |\n|---|---|---|---|---|---|---|---|---|---|---|---|\n| 1 | 1000025 | 5 |  1 |  1 | 1 | 2 | 1  | 3 | 1 | 1 | 2 |\n| 2 | 1002945 | 5 |  4 |  4 | 5 | 7 | 10 | 3 | 2 | 1 | 2 |\n| 3 | 1015425 | 3 |  1 |  1 | 1 | 2 | 2  | 3 | 1 | 1 | 2 |\n| 4 | 1016277 | 6 |  8 |  8 | 1 | 3 | 4  | 3 | 7 | 1 | 2 |\n| 5 | 1017023 | 4 |  1 |  1 | 3 | 2 | 1  | 3 | 1 | 1 | 2 |\n| 6 | 1017122 | 8 | 10 | 10 | 8 | 7 | 10 | 9 | 7 | 1 | 4 |\n\n",
            "text/html": [
              "<table class=\"dataframe\">\n",
              "<caption>A data.frame: 6 × 11</caption>\n",
              "<thead>\n",
              "\t<tr><th></th><th scope=col>id</th><th scope=col>clump_t</th><th scope=col>u_csize</th><th scope=col>u_cshape</th><th scope=col>m_adh</th><th scope=col>spcs</th><th scope=col>b_nuc</th><th scope=col>b_chr</th><th scope=col>n_nuc</th><th scope=col>mit</th><th scope=col>class</th></tr>\n",
              "\t<tr><th></th><th scope=col>&lt;int&gt;</th><th scope=col>&lt;int&gt;</th><th scope=col>&lt;int&gt;</th><th scope=col>&lt;int&gt;</th><th scope=col>&lt;int&gt;</th><th scope=col>&lt;int&gt;</th><th scope=col>&lt;chr&gt;</th><th scope=col>&lt;int&gt;</th><th scope=col>&lt;int&gt;</th><th scope=col>&lt;int&gt;</th><th scope=col>&lt;int&gt;</th></tr>\n",
              "</thead>\n",
              "<tbody>\n",
              "\t<tr><th scope=row>1</th><td>1000025</td><td>5</td><td> 1</td><td> 1</td><td>1</td><td>2</td><td>1 </td><td>3</td><td>1</td><td>1</td><td>2</td></tr>\n",
              "\t<tr><th scope=row>2</th><td>1002945</td><td>5</td><td> 4</td><td> 4</td><td>5</td><td>7</td><td>10</td><td>3</td><td>2</td><td>1</td><td>2</td></tr>\n",
              "\t<tr><th scope=row>3</th><td>1015425</td><td>3</td><td> 1</td><td> 1</td><td>1</td><td>2</td><td>2 </td><td>3</td><td>1</td><td>1</td><td>2</td></tr>\n",
              "\t<tr><th scope=row>4</th><td>1016277</td><td>6</td><td> 8</td><td> 8</td><td>1</td><td>3</td><td>4 </td><td>3</td><td>7</td><td>1</td><td>2</td></tr>\n",
              "\t<tr><th scope=row>5</th><td>1017023</td><td>4</td><td> 1</td><td> 1</td><td>3</td><td>2</td><td>1 </td><td>3</td><td>1</td><td>1</td><td>2</td></tr>\n",
              "\t<tr><th scope=row>6</th><td>1017122</td><td>8</td><td>10</td><td>10</td><td>8</td><td>7</td><td>10</td><td>9</td><td>7</td><td>1</td><td>4</td></tr>\n",
              "</tbody>\n",
              "</table>\n"
            ]
          },
          "metadata": {
            "tags": []
          }
        }
      ]
    },
    {
      "cell_type": "markdown",
      "metadata": {
        "id": "m-_hMQ1rdn1p"
      },
      "source": [
        "## Importación de tablas con la librería readr \n",
        "\n",
        "El objetivo de readr es proporcionar una forma rápida y sencilla de leer datos rectangulares (como csv y tsv). Está diseñado para analizar de manera flexible muchos tipo."
      ]
    },
    {
      "cell_type": "code",
      "metadata": {
        "id": "-x8u2Udq2m5F",
        "colab": {
          "base_uri": "https://localhost:8080/"
        },
        "outputId": "eeb36dba-02c1-4e5c-974d-5be861cc102e"
      },
      "source": [
        "install.packages(\"readr\")\n",
        "library(readr)"
      ],
      "execution_count": null,
      "outputs": [
        {
          "output_type": "stream",
          "text": [
            "Installing package into ‘/usr/local/lib/R/site-library’\n",
            "(as ‘lib’ is unspecified)\n",
            "\n"
          ],
          "name": "stderr"
        }
      ]
    },
    {
      "cell_type": "code",
      "metadata": {
        "colab": {
          "base_uri": "https://localhost:8080/"
        },
        "id": "lfibmaj0RVoY",
        "outputId": "c3246767-79c9-43ac-c102-b5ee89479c09"
      },
      "source": [
        "library(tidyverse)"
      ],
      "execution_count": null,
      "outputs": [
        {
          "output_type": "stream",
          "text": [
            "Warning message in system(\"timedatectl\", intern = TRUE):\n",
            "“running command 'timedatectl' had status 1”\n",
            "── \u001b[1mAttaching packages\u001b[22m ─────────────────────────────────────── tidyverse 1.3.1 ──\n",
            "\n",
            "\u001b[32m✔\u001b[39m \u001b[34mggplot2\u001b[39m 3.3.3     \u001b[32m✔\u001b[39m \u001b[34mdplyr  \u001b[39m 1.0.5\n",
            "\u001b[32m✔\u001b[39m \u001b[34mtibble \u001b[39m 3.1.1     \u001b[32m✔\u001b[39m \u001b[34mstringr\u001b[39m 1.4.0\n",
            "\u001b[32m✔\u001b[39m \u001b[34mtidyr  \u001b[39m 1.1.3     \u001b[32m✔\u001b[39m \u001b[34mforcats\u001b[39m 0.5.1\n",
            "\u001b[32m✔\u001b[39m \u001b[34mpurrr  \u001b[39m 0.3.4     \n",
            "\n",
            "── \u001b[1mConflicts\u001b[22m ────────────────────────────────────────── tidyverse_conflicts() ──\n",
            "\u001b[31m✖\u001b[39m \u001b[34mdplyr\u001b[39m::\u001b[32mfilter()\u001b[39m masks \u001b[34mstats\u001b[39m::filter()\n",
            "\u001b[31m✖\u001b[39m \u001b[34mdplyr\u001b[39m::\u001b[32mlag()\u001b[39m    masks \u001b[34mstats\u001b[39m::lag()\n",
            "\n"
          ],
          "name": "stderr"
        }
      ]
    },
    {
      "cell_type": "markdown",
      "metadata": {
        "id": "_pKDij8TZUPf"
      },
      "source": [
        "##Funciones de readr\n",
        "Una vez cargada la libreria readr puedes trabajar con él. Tienes tres funciones a utilizar:\n",
        "\n",
        "\n",
        "\n",
        "\n",
        "*   read_csv(): para leer archivos con coma (“,”) como separador\n",
        "*   read_csv2(): para leer archivos con punto y coma (“;”) como separador\n",
        "*   read_tsv(): para leer archivos con tabulador (“\\t”) como separador\n",
        "*   read_delim(,sep =’|’): para leer archivos con diferentes separadores como por ejemplo puede ser el símbolo ‘|’  ','  '\\t' \n",
        "\n"
      ]
    },
    {
      "cell_type": "code",
      "metadata": {
        "colab": {
          "base_uri": "https://localhost:8080/"
        },
        "id": "a_3EGWFiRbE9",
        "outputId": "5638bf2d-eb03-432f-ecba-1e25b47f1405"
      },
      "source": [
        "#Leyendo un archivo csv con read_csv \n",
        "cancer4 <- read_csv(\"/content/breast-cancer-wis.csv\")"
      ],
      "execution_count": null,
      "outputs": [
        {
          "output_type": "stream",
          "text": [
            "\n",
            "\u001b[36m──\u001b[39m \u001b[1m\u001b[1mColumn specification\u001b[1m\u001b[22m \u001b[36m────────────────────────────────────────────────────────\u001b[39m\n",
            "cols(\n",
            "  id = \u001b[32mcol_double()\u001b[39m,\n",
            "  clump_t = \u001b[32mcol_double()\u001b[39m,\n",
            "  u_csize = \u001b[32mcol_double()\u001b[39m,\n",
            "  u_cshape = \u001b[32mcol_double()\u001b[39m,\n",
            "  m_adh = \u001b[32mcol_double()\u001b[39m,\n",
            "  spcs = \u001b[32mcol_double()\u001b[39m,\n",
            "  b_nuc = \u001b[31mcol_character()\u001b[39m,\n",
            "  b_chr = \u001b[32mcol_double()\u001b[39m,\n",
            "  n_nuc = \u001b[32mcol_double()\u001b[39m,\n",
            "  mit = \u001b[32mcol_double()\u001b[39m,\n",
            "  class = \u001b[32mcol_double()\u001b[39m\n",
            ")\n",
            "\n",
            "\n"
          ],
          "name": "stderr"
        }
      ]
    },
    {
      "cell_type": "code",
      "metadata": {
        "colab": {
          "base_uri": "https://localhost:8080/",
          "height": 283
        },
        "id": "2n1UxmtOUU2-",
        "outputId": "a50c7edb-382a-4b8b-cee1-7807d4f33526"
      },
      "source": [
        "head(cancer4)"
      ],
      "execution_count": null,
      "outputs": [
        {
          "output_type": "display_data",
          "data": {
            "text/plain": [
              "  id      clump_t u_csize u_cshape m_adh spcs b_nuc b_chr n_nuc mit class\n",
              "1 1000025 5        1       1       1     2    1     3     1     1   2    \n",
              "2 1002945 5        4       4       5     7    10    3     2     1   2    \n",
              "3 1015425 3        1       1       1     2    2     3     1     1   2    \n",
              "4 1016277 6        8       8       1     3    4     3     7     1   2    \n",
              "5 1017023 4        1       1       3     2    1     3     1     1   2    \n",
              "6 1017122 8       10      10       8     7    10    9     7     1   4    "
            ],
            "text/latex": "A tibble: 6 × 11\n\\begin{tabular}{lllllllllll}\n id & clump\\_t & u\\_csize & u\\_cshape & m\\_adh & spcs & b\\_nuc & b\\_chr & n\\_nuc & mit & class\\\\\n <dbl> & <dbl> & <dbl> & <dbl> & <dbl> & <dbl> & <chr> & <dbl> & <dbl> & <dbl> & <dbl>\\\\\n\\hline\n\t 1000025 & 5 &  1 &  1 & 1 & 2 & 1  & 3 & 1 & 1 & 2\\\\\n\t 1002945 & 5 &  4 &  4 & 5 & 7 & 10 & 3 & 2 & 1 & 2\\\\\n\t 1015425 & 3 &  1 &  1 & 1 & 2 & 2  & 3 & 1 & 1 & 2\\\\\n\t 1016277 & 6 &  8 &  8 & 1 & 3 & 4  & 3 & 7 & 1 & 2\\\\\n\t 1017023 & 4 &  1 &  1 & 3 & 2 & 1  & 3 & 1 & 1 & 2\\\\\n\t 1017122 & 8 & 10 & 10 & 8 & 7 & 10 & 9 & 7 & 1 & 4\\\\\n\\end{tabular}\n",
            "text/markdown": "\nA tibble: 6 × 11\n\n| id &lt;dbl&gt; | clump_t &lt;dbl&gt; | u_csize &lt;dbl&gt; | u_cshape &lt;dbl&gt; | m_adh &lt;dbl&gt; | spcs &lt;dbl&gt; | b_nuc &lt;chr&gt; | b_chr &lt;dbl&gt; | n_nuc &lt;dbl&gt; | mit &lt;dbl&gt; | class &lt;dbl&gt; |\n|---|---|---|---|---|---|---|---|---|---|---|\n| 1000025 | 5 |  1 |  1 | 1 | 2 | 1  | 3 | 1 | 1 | 2 |\n| 1002945 | 5 |  4 |  4 | 5 | 7 | 10 | 3 | 2 | 1 | 2 |\n| 1015425 | 3 |  1 |  1 | 1 | 2 | 2  | 3 | 1 | 1 | 2 |\n| 1016277 | 6 |  8 |  8 | 1 | 3 | 4  | 3 | 7 | 1 | 2 |\n| 1017023 | 4 |  1 |  1 | 3 | 2 | 1  | 3 | 1 | 1 | 2 |\n| 1017122 | 8 | 10 | 10 | 8 | 7 | 10 | 9 | 7 | 1 | 4 |\n\n",
            "text/html": [
              "<table class=\"dataframe\">\n",
              "<caption>A tibble: 6 × 11</caption>\n",
              "<thead>\n",
              "\t<tr><th scope=col>id</th><th scope=col>clump_t</th><th scope=col>u_csize</th><th scope=col>u_cshape</th><th scope=col>m_adh</th><th scope=col>spcs</th><th scope=col>b_nuc</th><th scope=col>b_chr</th><th scope=col>n_nuc</th><th scope=col>mit</th><th scope=col>class</th></tr>\n",
              "\t<tr><th scope=col>&lt;dbl&gt;</th><th scope=col>&lt;dbl&gt;</th><th scope=col>&lt;dbl&gt;</th><th scope=col>&lt;dbl&gt;</th><th scope=col>&lt;dbl&gt;</th><th scope=col>&lt;dbl&gt;</th><th scope=col>&lt;chr&gt;</th><th scope=col>&lt;dbl&gt;</th><th scope=col>&lt;dbl&gt;</th><th scope=col>&lt;dbl&gt;</th><th scope=col>&lt;dbl&gt;</th></tr>\n",
              "</thead>\n",
              "<tbody>\n",
              "\t<tr><td>1000025</td><td>5</td><td> 1</td><td> 1</td><td>1</td><td>2</td><td>1 </td><td>3</td><td>1</td><td>1</td><td>2</td></tr>\n",
              "\t<tr><td>1002945</td><td>5</td><td> 4</td><td> 4</td><td>5</td><td>7</td><td>10</td><td>3</td><td>2</td><td>1</td><td>2</td></tr>\n",
              "\t<tr><td>1015425</td><td>3</td><td> 1</td><td> 1</td><td>1</td><td>2</td><td>2 </td><td>3</td><td>1</td><td>1</td><td>2</td></tr>\n",
              "\t<tr><td>1016277</td><td>6</td><td> 8</td><td> 8</td><td>1</td><td>3</td><td>4 </td><td>3</td><td>7</td><td>1</td><td>2</td></tr>\n",
              "\t<tr><td>1017023</td><td>4</td><td> 1</td><td> 1</td><td>3</td><td>2</td><td>1 </td><td>3</td><td>1</td><td>1</td><td>2</td></tr>\n",
              "\t<tr><td>1017122</td><td>8</td><td>10</td><td>10</td><td>8</td><td>7</td><td>10</td><td>9</td><td>7</td><td>1</td><td>4</td></tr>\n",
              "</tbody>\n",
              "</table>\n"
            ]
          },
          "metadata": {
            "tags": []
          }
        }
      ]
    },
    {
      "cell_type": "markdown",
      "metadata": {
        "id": "3JJHl4Z5Vfs5"
      },
      "source": [
        ""
      ]
    },
    {
      "cell_type": "code",
      "metadata": {
        "colab": {
          "base_uri": "https://localhost:8080/",
          "height": 572
        },
        "id": "C86buSINVSjv",
        "outputId": "c0cc6589-b8c4-4f61-b928-c77a388db5d8"
      },
      "source": [
        "cancer5<- read_delim(\"/content/breast-cancer-wis.csv\", delim = \",\")\n",
        "head(cancer5)"
      ],
      "execution_count": null,
      "outputs": [
        {
          "output_type": "stream",
          "text": [
            "\n",
            "\u001b[36m──\u001b[39m \u001b[1m\u001b[1mColumn specification\u001b[1m\u001b[22m \u001b[36m────────────────────────────────────────────────────────\u001b[39m\n",
            "cols(\n",
            "  id = \u001b[32mcol_double()\u001b[39m,\n",
            "  ` clump_t` = \u001b[32mcol_double()\u001b[39m,\n",
            "  ` u_csize` = \u001b[32mcol_double()\u001b[39m,\n",
            "  ` u_cshape` = \u001b[32mcol_double()\u001b[39m,\n",
            "  ` m_adh` = \u001b[32mcol_double()\u001b[39m,\n",
            "  ` spcs` = \u001b[32mcol_double()\u001b[39m,\n",
            "  ` b_nuc` = \u001b[31mcol_character()\u001b[39m,\n",
            "  ` b_chr` = \u001b[32mcol_double()\u001b[39m,\n",
            "  ` n_nuc` = \u001b[32mcol_double()\u001b[39m,\n",
            "  ` mit` = \u001b[32mcol_double()\u001b[39m,\n",
            "  ` class` = \u001b[32mcol_double()\u001b[39m\n",
            ")\n",
            "\n",
            "\n"
          ],
          "name": "stderr"
        },
        {
          "output_type": "display_data",
          "data": {
            "text/plain": [
              "  id       clump_t  u_csize  u_cshape  m_adh  spcs  b_nuc  b_chr  n_nuc  mit\n",
              "1 1000025 5         1        1        1      2     1      3      1      1   \n",
              "2 1002945 5         4        4        5      7     10     3      2      1   \n",
              "3 1015425 3         1        1        1      2     2      3      1      1   \n",
              "4 1016277 6         8        8        1      3     4      3      7      1   \n",
              "5 1017023 4         1        1        3      2     1      3      1      1   \n",
              "6 1017122 8        10       10        8      7     10     9      7      1   \n",
              "   class\n",
              "1 2     \n",
              "2 2     \n",
              "3 2     \n",
              "4 2     \n",
              "5 2     \n",
              "6 4     "
            ],
            "text/latex": "A tibble: 6 × 11\n\\begin{tabular}{lllllllllll}\n id &  clump\\_t &  u\\_csize &  u\\_cshape &  m\\_adh &  spcs &  b\\_nuc &  b\\_chr &  n\\_nuc &  mit &  class\\\\\n <dbl> & <dbl> & <dbl> & <dbl> & <dbl> & <dbl> & <chr> & <dbl> & <dbl> & <dbl> & <dbl>\\\\\n\\hline\n\t 1000025 & 5 &  1 &  1 & 1 & 2 & 1  & 3 & 1 & 1 & 2\\\\\n\t 1002945 & 5 &  4 &  4 & 5 & 7 & 10 & 3 & 2 & 1 & 2\\\\\n\t 1015425 & 3 &  1 &  1 & 1 & 2 & 2  & 3 & 1 & 1 & 2\\\\\n\t 1016277 & 6 &  8 &  8 & 1 & 3 & 4  & 3 & 7 & 1 & 2\\\\\n\t 1017023 & 4 &  1 &  1 & 3 & 2 & 1  & 3 & 1 & 1 & 2\\\\\n\t 1017122 & 8 & 10 & 10 & 8 & 7 & 10 & 9 & 7 & 1 & 4\\\\\n\\end{tabular}\n",
            "text/markdown": "\nA tibble: 6 × 11\n\n| id &lt;dbl&gt; |  clump_t &lt;dbl&gt; |  u_csize &lt;dbl&gt; |  u_cshape &lt;dbl&gt; |  m_adh &lt;dbl&gt; |  spcs &lt;dbl&gt; |  b_nuc &lt;chr&gt; |  b_chr &lt;dbl&gt; |  n_nuc &lt;dbl&gt; |  mit &lt;dbl&gt; |  class &lt;dbl&gt; |\n|---|---|---|---|---|---|---|---|---|---|---|\n| 1000025 | 5 |  1 |  1 | 1 | 2 | 1  | 3 | 1 | 1 | 2 |\n| 1002945 | 5 |  4 |  4 | 5 | 7 | 10 | 3 | 2 | 1 | 2 |\n| 1015425 | 3 |  1 |  1 | 1 | 2 | 2  | 3 | 1 | 1 | 2 |\n| 1016277 | 6 |  8 |  8 | 1 | 3 | 4  | 3 | 7 | 1 | 2 |\n| 1017023 | 4 |  1 |  1 | 3 | 2 | 1  | 3 | 1 | 1 | 2 |\n| 1017122 | 8 | 10 | 10 | 8 | 7 | 10 | 9 | 7 | 1 | 4 |\n\n",
            "text/html": [
              "<table class=\"dataframe\">\n",
              "<caption>A tibble: 6 × 11</caption>\n",
              "<thead>\n",
              "\t<tr><th scope=col>id</th><th scope=col> clump_t</th><th scope=col> u_csize</th><th scope=col> u_cshape</th><th scope=col> m_adh</th><th scope=col> spcs</th><th scope=col> b_nuc</th><th scope=col> b_chr</th><th scope=col> n_nuc</th><th scope=col> mit</th><th scope=col> class</th></tr>\n",
              "\t<tr><th scope=col>&lt;dbl&gt;</th><th scope=col>&lt;dbl&gt;</th><th scope=col>&lt;dbl&gt;</th><th scope=col>&lt;dbl&gt;</th><th scope=col>&lt;dbl&gt;</th><th scope=col>&lt;dbl&gt;</th><th scope=col>&lt;chr&gt;</th><th scope=col>&lt;dbl&gt;</th><th scope=col>&lt;dbl&gt;</th><th scope=col>&lt;dbl&gt;</th><th scope=col>&lt;dbl&gt;</th></tr>\n",
              "</thead>\n",
              "<tbody>\n",
              "\t<tr><td>1000025</td><td>5</td><td> 1</td><td> 1</td><td>1</td><td>2</td><td>1 </td><td>3</td><td>1</td><td>1</td><td>2</td></tr>\n",
              "\t<tr><td>1002945</td><td>5</td><td> 4</td><td> 4</td><td>5</td><td>7</td><td>10</td><td>3</td><td>2</td><td>1</td><td>2</td></tr>\n",
              "\t<tr><td>1015425</td><td>3</td><td> 1</td><td> 1</td><td>1</td><td>2</td><td>2 </td><td>3</td><td>1</td><td>1</td><td>2</td></tr>\n",
              "\t<tr><td>1016277</td><td>6</td><td> 8</td><td> 8</td><td>1</td><td>3</td><td>4 </td><td>3</td><td>7</td><td>1</td><td>2</td></tr>\n",
              "\t<tr><td>1017023</td><td>4</td><td> 1</td><td> 1</td><td>3</td><td>2</td><td>1 </td><td>3</td><td>1</td><td>1</td><td>2</td></tr>\n",
              "\t<tr><td>1017122</td><td>8</td><td>10</td><td>10</td><td>8</td><td>7</td><td>10</td><td>9</td><td>7</td><td>1</td><td>4</td></tr>\n",
              "</tbody>\n",
              "</table>\n"
            ]
          },
          "metadata": {
            "tags": []
          }
        }
      ]
    }
  ]
}