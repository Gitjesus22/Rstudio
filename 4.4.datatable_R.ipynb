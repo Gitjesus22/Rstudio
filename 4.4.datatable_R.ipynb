{
  "nbformat": 4,
  "nbformat_minor": 0,
  "metadata": {
    "colab": {
      "name": "datatable_R",
      "provenance": [],
      "collapsed_sections": [],
      "include_colab_link": true
    },
    "kernelspec": {
      "name": "ir",
      "display_name": "R"
    }
  },
  "cells": [
    {
      "cell_type": "markdown",
      "metadata": {
        "id": "view-in-github",
        "colab_type": "text"
      },
      "source": [
        "<a href=\"https://colab.research.google.com/github/Gitjesus22/Rstudio/blob/main/datatable_R.ipynb\" target=\"_parent\"><img src=\"https://colab.research.google.com/assets/colab-badge.svg\" alt=\"Open In Colab\"/></a>"
      ]
    },
    {
      "cell_type": "markdown",
      "metadata": {
        "id": "SYcYf_1qAHPm"
      },
      "source": [
        "<table><tr>\n",
        "<td><img src=\"https://solariabiodata.com.mx/images/solaria_logo_black.png\" alt=\"Soluciones de siguiente generacion\" width=200/>\n",
        "<td>\n",
        "<td>\n",
        "<td><img src=\"https://upload.wikimedia.org/wikipedia/commons/thumb/1/1b/R_logo.svg/160px-R_logo.svg.png\">\n",
        "</tr></table>\n"
      ]
    },
    {
      "cell_type": "markdown",
      "metadata": {
        "id": "ksXzAli-6jxW"
      },
      "source": [
        "# El paquete `data.table`\n",
        "\n",
        "Este paquete permite la aceleración cuando se trabaja con archivos muy grandes de datos. De manera general, permite agregación ordenada de datos, modificación de columnas ultrarápida sin la necesidad de generar copias de los archivos.\n",
        "\n",
        "Debido a la funcionalidad que ofrece para procesar fuentes de datos voluminosas, esta herramienta es de gran utilidad para hacer análisis de datos masivos o _big data_. Es por ello que es uno de los paquetes de `R` más descargados en la actualidad. En el contexto de la bioinformática, resulta crucial tener una herramienta que permita procesar grandes volúmenes de información, que casi siempre resulta ser genómica, por lo cual este paquete es de mucha utilidad.\n",
        "\n",
        "Tanta es su popularidad que ha inspirado la creación de bibliotecas y módulos para otros lenguajes de programación, `python` es un ejemplo con su paquete `datatable`.\n"
      ]
    },
    {
      "cell_type": "markdown",
      "metadata": {
        "id": "MDWKWjtedadk"
      },
      "source": [
        "## Instalación y carga\n",
        "\n",
        "Es un paquete distribuído por el [CRAN](https://cran.r-project.org/) por lo que se puede instalar usando `install.packages()` y cargar con `library()`:"
      ]
    },
    {
      "cell_type": "code",
      "metadata": {
        "id": "RgpTqmoRdkvF",
        "colab": {
          "base_uri": "https://localhost:8080/"
        },
        "outputId": "02ff9020-3c57-4e82-c7fc-6657ff064080"
      },
      "source": [
        "install.packages(\"data.table\")\n",
        "library(data.table)"
      ],
      "execution_count": null,
      "outputs": [
        {
          "output_type": "stream",
          "text": [
            "Installing package into ‘/usr/local/lib/R/site-library’\n",
            "(as ‘lib’ is unspecified)\n",
            "\n"
          ],
          "name": "stderr"
        }
      ]
    },
    {
      "cell_type": "markdown",
      "metadata": {
        "id": "m-_hMQ1rdn1p"
      },
      "source": [
        "## Introducción al análisis de datos\n",
        "\n",
        "La manipulación de datos consiste en operaciones como la selección de conjuntos (_subset_), agrupación de observaciónes (_group_), la actualización de valores (_update_), el agregado de información (_join_), entre otras. Todas esas operaciones están relacionadas entre sí, por lo que si se utilizan todas estas operaciones nos permiten lograr:\n",
        "\n",
        " - Una sintáxis concisa y consistente, sin importar qué operaciones se realicen para alcanzar un objetivo\n",
        " - Rendimiento fluído en el análisis sin exceso de carga cognitiva por tener que aplicar cada función en un conjunto enorme de datos antes del análisis\n",
        " - Optimización automática y efectiva de operaciones internamente, lo cual asegura un uso eficiente de recursos de cómputo.\n",
        "\n",
        "Este paquete reduce el tiempo de cómputo y de programación de manera considerable."
      ]
    },
    {
      "cell_type": "markdown",
      "metadata": {
        "id": "aIK5BLM3mLB5"
      },
      "source": [
        "### Datos\n",
        "\n",
        "Usaremos un conjunto de datos de los vuelos de la ciudad de Nueva York en el año 2014. Para ello usaremos la función `fread()`:\n",
        "\n",
        "```R\n",
        "input<-\"https://raw.githubusercontent.com/Rdatatable/data.table/master/vignettes/flights14.csv\"\n",
        "flights <- fread(input)\n",
        "```\n",
        "\n",
        "\n"
      ]
    },
    {
      "cell_type": "code",
      "metadata": {
        "id": "YBsfk0gxW6hj"
      },
      "source": [
        "input<-\"https://raw.githubusercontent.com/Rdatatable/data.table/master/vignettes/flights14.csv\"\n",
        "flights <- fread(input)"
      ],
      "execution_count": null,
      "outputs": []
    },
    {
      "cell_type": "markdown",
      "metadata": {
        "id": "UoZehnwXDEpV"
      },
      "source": [
        "`fread()` genera una estructura de datos `data.table`, la cual es una extensión de la estructura `data.frame`, la cual es la estructura estándar para almacenamiento de datos en `R`.\n",
        "\n",
        "Otra forma de generar una estructura `data.table` es mediante la función homónima `data.table`:\n",
        "\n",
        "```R\n",
        "DT = data.table(\n",
        "  ID = c(\"s\",\"o\",\"l\",\"b\",\"i\",\"o\"),\n",
        "  a = 1:6,\n",
        "  b = rep(c(TRUE,FALSE),3),\n",
        "  c = 13:18\n",
        ")\n",
        "```"
      ]
    },
    {
      "cell_type": "code",
      "metadata": {
        "colab": {
          "base_uri": "https://localhost:8080/",
          "height": 276
        },
        "id": "bnljqRlAXOvp",
        "outputId": "bf9453e5-f201-44f7-c532-d2c9cae15108"
      },
      "source": [
        "DT = data.table(\n",
        "  ID = c(\"s\",\"o\",\"l\",\"b\",\"i\",\"o\"),\n",
        "  a = 1:6,\n",
        "  b = rep(c(TRUE,FALSE),3),\n",
        "  c = 13:18\n",
        ")\n",
        "DT"
      ],
      "execution_count": null,
      "outputs": [
        {
          "output_type": "display_data",
          "data": {
            "text/plain": [
              "  ID a b     c \n",
              "1 s  1  TRUE 13\n",
              "2 o  2 FALSE 14\n",
              "3 l  3  TRUE 15\n",
              "4 b  4 FALSE 16\n",
              "5 i  5  TRUE 17\n",
              "6 o  6 FALSE 18"
            ],
            "text/latex": "A data.table: 6 × 4\n\\begin{tabular}{llll}\n ID & a & b & c\\\\\n <chr> & <int> & <lgl> & <int>\\\\\n\\hline\n\t s & 1 &  TRUE & 13\\\\\n\t o & 2 & FALSE & 14\\\\\n\t l & 3 &  TRUE & 15\\\\\n\t b & 4 & FALSE & 16\\\\\n\t i & 5 &  TRUE & 17\\\\\n\t o & 6 & FALSE & 18\\\\\n\\end{tabular}\n",
            "text/markdown": "\nA data.table: 6 × 4\n\n| ID &lt;chr&gt; | a &lt;int&gt; | b &lt;lgl&gt; | c &lt;int&gt; |\n|---|---|---|---|\n| s | 1 |  TRUE | 13 |\n| o | 2 | FALSE | 14 |\n| l | 3 |  TRUE | 15 |\n| b | 4 | FALSE | 16 |\n| i | 5 |  TRUE | 17 |\n| o | 6 | FALSE | 18 |\n\n",
            "text/html": [
              "<table class=\"dataframe\">\n",
              "<caption>A data.table: 6 × 4</caption>\n",
              "<thead>\n",
              "\t<tr><th scope=col>ID</th><th scope=col>a</th><th scope=col>b</th><th scope=col>c</th></tr>\n",
              "\t<tr><th scope=col>&lt;chr&gt;</th><th scope=col>&lt;int&gt;</th><th scope=col>&lt;lgl&gt;</th><th scope=col>&lt;int&gt;</th></tr>\n",
              "</thead>\n",
              "<tbody>\n",
              "\t<tr><td>s</td><td>1</td><td> TRUE</td><td>13</td></tr>\n",
              "\t<tr><td>o</td><td>2</td><td>FALSE</td><td>14</td></tr>\n",
              "\t<tr><td>l</td><td>3</td><td> TRUE</td><td>15</td></tr>\n",
              "\t<tr><td>b</td><td>4</td><td>FALSE</td><td>16</td></tr>\n",
              "\t<tr><td>i</td><td>5</td><td> TRUE</td><td>17</td></tr>\n",
              "\t<tr><td>o</td><td>6</td><td>FALSE</td><td>18</td></tr>\n",
              "</tbody>\n",
              "</table>\n"
            ]
          },
          "metadata": {
            "tags": []
          }
        }
      ]
    },
    {
      "cell_type": "markdown",
      "metadata": {
        "id": "k_s0z_E7E2W4"
      },
      "source": [
        "**Aspectos a notar**\n",
        "\n",
        " - A diferencia de un `data.frame`, en `data.table` las columnas con datos de tipo `character` no son convertidos en `factors`\n",
        " - `data.table` no utiliza nombres de renglones `row.names`"
      ]
    },
    {
      "cell_type": "markdown",
      "metadata": {
        "id": "qk5Ja-UefDrL"
      },
      "source": [
        "### Optimización de `data.table`\n",
        "\n",
        "Este paquete se inspira en operaciones que se pueden realizar en `SQL`, un lenguaje que requiere una estructuración muy fina de los datos.\n",
        "\n",
        "```\n",
        "DT[i, j, by]\n",
        "\n",
        "##   R:                 i                 j        by\n",
        "## SQL:  where | order by   select | update  group by\n",
        "```\n",
        "\n",
        "Esto se interpretaría como\n",
        "\n",
        "> 1. Toma `DT`\n",
        "> 2. selecciona/reordena reglones usando `i`\n",
        "> 3. entonces calcula `j`\n",
        "> 4. agrupando por `by`.\n"
      ]
    },
    {
      "cell_type": "markdown",
      "metadata": {
        "id": "ppAB84ySIVOS"
      },
      "source": [
        "#### Seleccionando renglones con `i`\n",
        "\n",
        "\n",
        "```R\n",
        "ans <- flights[origin == \"JFK\" & month == 6L]\n",
        "head(ans)\n",
        "```"
      ]
    },
    {
      "cell_type": "code",
      "metadata": {
        "colab": {
          "base_uri": "https://localhost:8080/",
          "height": 276
        },
        "id": "oHHnBwGdYWs6",
        "outputId": "5c04e4fa-c960-4ec5-8e83-b84754c16546"
      },
      "source": [
        "head(ans)"
      ],
      "execution_count": null,
      "outputs": [
        {
          "output_type": "display_data",
          "data": {
            "text/plain": [
              "  year month day dep_delay arr_delay carrier origin dest air_time distance hour\n",
              "1 2014 6     1    -9        -5       AA      JFK    LAX  324      2475      8  \n",
              "2 2014 6     1   -10       -13       AA      JFK    LAX  329      2475     12  \n",
              "3 2014 6     1    18        -1       AA      JFK    LAX  326      2475      7  \n",
              "4 2014 6     1    -6       -16       AA      JFK    LAX  320      2475     10  \n",
              "5 2014 6     1    -4       -45       AA      JFK    LAX  326      2475     18  \n",
              "6 2014 6     1    -6       -23       AA      JFK    LAX  329      2475     14  "
            ],
            "text/latex": "A data.table: 6 × 11\n\\begin{tabular}{lllllllllll}\n year & month & day & dep\\_delay & arr\\_delay & carrier & origin & dest & air\\_time & distance & hour\\\\\n <int> & <int> & <int> & <int> & <int> & <chr> & <chr> & <chr> & <int> & <int> & <int>\\\\\n\\hline\n\t 2014 & 6 & 1 &  -9 &  -5 & AA & JFK & LAX & 324 & 2475 &  8\\\\\n\t 2014 & 6 & 1 & -10 & -13 & AA & JFK & LAX & 329 & 2475 & 12\\\\\n\t 2014 & 6 & 1 &  18 &  -1 & AA & JFK & LAX & 326 & 2475 &  7\\\\\n\t 2014 & 6 & 1 &  -6 & -16 & AA & JFK & LAX & 320 & 2475 & 10\\\\\n\t 2014 & 6 & 1 &  -4 & -45 & AA & JFK & LAX & 326 & 2475 & 18\\\\\n\t 2014 & 6 & 1 &  -6 & -23 & AA & JFK & LAX & 329 & 2475 & 14\\\\\n\\end{tabular}\n",
            "text/markdown": "\nA data.table: 6 × 11\n\n| year &lt;int&gt; | month &lt;int&gt; | day &lt;int&gt; | dep_delay &lt;int&gt; | arr_delay &lt;int&gt; | carrier &lt;chr&gt; | origin &lt;chr&gt; | dest &lt;chr&gt; | air_time &lt;int&gt; | distance &lt;int&gt; | hour &lt;int&gt; |\n|---|---|---|---|---|---|---|---|---|---|---|\n| 2014 | 6 | 1 |  -9 |  -5 | AA | JFK | LAX | 324 | 2475 |  8 |\n| 2014 | 6 | 1 | -10 | -13 | AA | JFK | LAX | 329 | 2475 | 12 |\n| 2014 | 6 | 1 |  18 |  -1 | AA | JFK | LAX | 326 | 2475 |  7 |\n| 2014 | 6 | 1 |  -6 | -16 | AA | JFK | LAX | 320 | 2475 | 10 |\n| 2014 | 6 | 1 |  -4 | -45 | AA | JFK | LAX | 326 | 2475 | 18 |\n| 2014 | 6 | 1 |  -6 | -23 | AA | JFK | LAX | 329 | 2475 | 14 |\n\n",
            "text/html": [
              "<table class=\"dataframe\">\n",
              "<caption>A data.table: 6 × 11</caption>\n",
              "<thead>\n",
              "\t<tr><th scope=col>year</th><th scope=col>month</th><th scope=col>day</th><th scope=col>dep_delay</th><th scope=col>arr_delay</th><th scope=col>carrier</th><th scope=col>origin</th><th scope=col>dest</th><th scope=col>air_time</th><th scope=col>distance</th><th scope=col>hour</th></tr>\n",
              "\t<tr><th scope=col>&lt;int&gt;</th><th scope=col>&lt;int&gt;</th><th scope=col>&lt;int&gt;</th><th scope=col>&lt;int&gt;</th><th scope=col>&lt;int&gt;</th><th scope=col>&lt;chr&gt;</th><th scope=col>&lt;chr&gt;</th><th scope=col>&lt;chr&gt;</th><th scope=col>&lt;int&gt;</th><th scope=col>&lt;int&gt;</th><th scope=col>&lt;int&gt;</th></tr>\n",
              "</thead>\n",
              "<tbody>\n",
              "\t<tr><td>2014</td><td>6</td><td>1</td><td> -9</td><td> -5</td><td>AA</td><td>JFK</td><td>LAX</td><td>324</td><td>2475</td><td> 8</td></tr>\n",
              "\t<tr><td>2014</td><td>6</td><td>1</td><td>-10</td><td>-13</td><td>AA</td><td>JFK</td><td>LAX</td><td>329</td><td>2475</td><td>12</td></tr>\n",
              "\t<tr><td>2014</td><td>6</td><td>1</td><td> 18</td><td> -1</td><td>AA</td><td>JFK</td><td>LAX</td><td>326</td><td>2475</td><td> 7</td></tr>\n",
              "\t<tr><td>2014</td><td>6</td><td>1</td><td> -6</td><td>-16</td><td>AA</td><td>JFK</td><td>LAX</td><td>320</td><td>2475</td><td>10</td></tr>\n",
              "\t<tr><td>2014</td><td>6</td><td>1</td><td> -4</td><td>-45</td><td>AA</td><td>JFK</td><td>LAX</td><td>326</td><td>2475</td><td>18</td></tr>\n",
              "\t<tr><td>2014</td><td>6</td><td>1</td><td> -6</td><td>-23</td><td>AA</td><td>JFK</td><td>LAX</td><td>329</td><td>2475</td><td>14</td></tr>\n",
              "</tbody>\n",
              "</table>\n"
            ]
          },
          "metadata": {
            "tags": []
          }
        }
      ]
    },
    {
      "cell_type": "markdown",
      "metadata": {
        "id": "LncEezBfIz8R"
      },
      "source": [
        "```R\n",
        "ans <- flights[1:2]\n",
        "ans\n",
        "```"
      ]
    },
    {
      "cell_type": "code",
      "metadata": {
        "colab": {
          "base_uri": "https://localhost:8080/",
          "height": 155
        },
        "id": "zAW48m1sZS00",
        "outputId": "509dbb3f-8412-487c-fe3e-e67571b72095"
      },
      "source": [
        "ans <- flights[1:2]\n",
        "ans"
      ],
      "execution_count": null,
      "outputs": [
        {
          "output_type": "display_data",
          "data": {
            "text/plain": [
              "  year month day dep_delay arr_delay carrier origin dest air_time distance hour\n",
              "1 2014 1     1   14        13        AA      JFK    LAX  359      2475      9  \n",
              "2 2014 1     1   -3        13        AA      JFK    LAX  363      2475     11  "
            ],
            "text/latex": "A data.table: 2 × 11\n\\begin{tabular}{lllllllllll}\n year & month & day & dep\\_delay & arr\\_delay & carrier & origin & dest & air\\_time & distance & hour\\\\\n <int> & <int> & <int> & <int> & <int> & <chr> & <chr> & <chr> & <int> & <int> & <int>\\\\\n\\hline\n\t 2014 & 1 & 1 & 14 & 13 & AA & JFK & LAX & 359 & 2475 &  9\\\\\n\t 2014 & 1 & 1 & -3 & 13 & AA & JFK & LAX & 363 & 2475 & 11\\\\\n\\end{tabular}\n",
            "text/markdown": "\nA data.table: 2 × 11\n\n| year &lt;int&gt; | month &lt;int&gt; | day &lt;int&gt; | dep_delay &lt;int&gt; | arr_delay &lt;int&gt; | carrier &lt;chr&gt; | origin &lt;chr&gt; | dest &lt;chr&gt; | air_time &lt;int&gt; | distance &lt;int&gt; | hour &lt;int&gt; |\n|---|---|---|---|---|---|---|---|---|---|---|\n| 2014 | 1 | 1 | 14 | 13 | AA | JFK | LAX | 359 | 2475 |  9 |\n| 2014 | 1 | 1 | -3 | 13 | AA | JFK | LAX | 363 | 2475 | 11 |\n\n",
            "text/html": [
              "<table class=\"dataframe\">\n",
              "<caption>A data.table: 2 × 11</caption>\n",
              "<thead>\n",
              "\t<tr><th scope=col>year</th><th scope=col>month</th><th scope=col>day</th><th scope=col>dep_delay</th><th scope=col>arr_delay</th><th scope=col>carrier</th><th scope=col>origin</th><th scope=col>dest</th><th scope=col>air_time</th><th scope=col>distance</th><th scope=col>hour</th></tr>\n",
              "\t<tr><th scope=col>&lt;int&gt;</th><th scope=col>&lt;int&gt;</th><th scope=col>&lt;int&gt;</th><th scope=col>&lt;int&gt;</th><th scope=col>&lt;int&gt;</th><th scope=col>&lt;chr&gt;</th><th scope=col>&lt;chr&gt;</th><th scope=col>&lt;chr&gt;</th><th scope=col>&lt;int&gt;</th><th scope=col>&lt;int&gt;</th><th scope=col>&lt;int&gt;</th></tr>\n",
              "</thead>\n",
              "<tbody>\n",
              "\t<tr><td>2014</td><td>1</td><td>1</td><td>14</td><td>13</td><td>AA</td><td>JFK</td><td>LAX</td><td>359</td><td>2475</td><td> 9</td></tr>\n",
              "\t<tr><td>2014</td><td>1</td><td>1</td><td>-3</td><td>13</td><td>AA</td><td>JFK</td><td>LAX</td><td>363</td><td>2475</td><td>11</td></tr>\n",
              "</tbody>\n",
              "</table>\n"
            ]
          },
          "metadata": {
            "tags": []
          }
        }
      ]
    },
    {
      "cell_type": "markdown",
      "metadata": {
        "id": "wYMDbsB3krzd"
      },
      "source": [
        "```R\n",
        "ans <- flights[order(origin, -dest)]\n",
        "head(ans)\n",
        "```"
      ]
    },
    {
      "cell_type": "code",
      "metadata": {
        "colab": {
          "base_uri": "https://localhost:8080/",
          "height": 276
        },
        "id": "xz5KZpdaZa2t",
        "outputId": "1ce09315-e977-44fd-f33c-c16609a46941"
      },
      "source": [
        "ans <- flights[order(origin, -dest)]\n",
        "head(ans)"
      ],
      "execution_count": null,
      "outputs": [
        {
          "output_type": "display_data",
          "data": {
            "text/plain": [
              "  year month day dep_delay arr_delay carrier origin dest air_time distance hour\n",
              "1 2014 1      5   6         49       EV      EWR    XNA  195      1131     8   \n",
              "2 2014 1      6   7         13       EV      EWR    XNA  190      1131     8   \n",
              "3 2014 1      7  -6        -13       EV      EWR    XNA  179      1131     8   \n",
              "4 2014 1      8  -7        -12       EV      EWR    XNA  184      1131     8   \n",
              "5 2014 1      9  16          7       EV      EWR    XNA  181      1131     8   \n",
              "6 2014 1     13  66         66       EV      EWR    XNA  188      1131     9   "
            ],
            "text/latex": "A data.table: 6 × 11\n\\begin{tabular}{lllllllllll}\n year & month & day & dep\\_delay & arr\\_delay & carrier & origin & dest & air\\_time & distance & hour\\\\\n <int> & <int> & <int> & <int> & <int> & <chr> & <chr> & <chr> & <int> & <int> & <int>\\\\\n\\hline\n\t 2014 & 1 &  5 &  6 &  49 & EV & EWR & XNA & 195 & 1131 & 8\\\\\n\t 2014 & 1 &  6 &  7 &  13 & EV & EWR & XNA & 190 & 1131 & 8\\\\\n\t 2014 & 1 &  7 & -6 & -13 & EV & EWR & XNA & 179 & 1131 & 8\\\\\n\t 2014 & 1 &  8 & -7 & -12 & EV & EWR & XNA & 184 & 1131 & 8\\\\\n\t 2014 & 1 &  9 & 16 &   7 & EV & EWR & XNA & 181 & 1131 & 8\\\\\n\t 2014 & 1 & 13 & 66 &  66 & EV & EWR & XNA & 188 & 1131 & 9\\\\\n\\end{tabular}\n",
            "text/markdown": "\nA data.table: 6 × 11\n\n| year &lt;int&gt; | month &lt;int&gt; | day &lt;int&gt; | dep_delay &lt;int&gt; | arr_delay &lt;int&gt; | carrier &lt;chr&gt; | origin &lt;chr&gt; | dest &lt;chr&gt; | air_time &lt;int&gt; | distance &lt;int&gt; | hour &lt;int&gt; |\n|---|---|---|---|---|---|---|---|---|---|---|\n| 2014 | 1 |  5 |  6 |  49 | EV | EWR | XNA | 195 | 1131 | 8 |\n| 2014 | 1 |  6 |  7 |  13 | EV | EWR | XNA | 190 | 1131 | 8 |\n| 2014 | 1 |  7 | -6 | -13 | EV | EWR | XNA | 179 | 1131 | 8 |\n| 2014 | 1 |  8 | -7 | -12 | EV | EWR | XNA | 184 | 1131 | 8 |\n| 2014 | 1 |  9 | 16 |   7 | EV | EWR | XNA | 181 | 1131 | 8 |\n| 2014 | 1 | 13 | 66 |  66 | EV | EWR | XNA | 188 | 1131 | 9 |\n\n",
            "text/html": [
              "<table class=\"dataframe\">\n",
              "<caption>A data.table: 6 × 11</caption>\n",
              "<thead>\n",
              "\t<tr><th scope=col>year</th><th scope=col>month</th><th scope=col>day</th><th scope=col>dep_delay</th><th scope=col>arr_delay</th><th scope=col>carrier</th><th scope=col>origin</th><th scope=col>dest</th><th scope=col>air_time</th><th scope=col>distance</th><th scope=col>hour</th></tr>\n",
              "\t<tr><th scope=col>&lt;int&gt;</th><th scope=col>&lt;int&gt;</th><th scope=col>&lt;int&gt;</th><th scope=col>&lt;int&gt;</th><th scope=col>&lt;int&gt;</th><th scope=col>&lt;chr&gt;</th><th scope=col>&lt;chr&gt;</th><th scope=col>&lt;chr&gt;</th><th scope=col>&lt;int&gt;</th><th scope=col>&lt;int&gt;</th><th scope=col>&lt;int&gt;</th></tr>\n",
              "</thead>\n",
              "<tbody>\n",
              "\t<tr><td>2014</td><td>1</td><td> 5</td><td> 6</td><td> 49</td><td>EV</td><td>EWR</td><td>XNA</td><td>195</td><td>1131</td><td>8</td></tr>\n",
              "\t<tr><td>2014</td><td>1</td><td> 6</td><td> 7</td><td> 13</td><td>EV</td><td>EWR</td><td>XNA</td><td>190</td><td>1131</td><td>8</td></tr>\n",
              "\t<tr><td>2014</td><td>1</td><td> 7</td><td>-6</td><td>-13</td><td>EV</td><td>EWR</td><td>XNA</td><td>179</td><td>1131</td><td>8</td></tr>\n",
              "\t<tr><td>2014</td><td>1</td><td> 8</td><td>-7</td><td>-12</td><td>EV</td><td>EWR</td><td>XNA</td><td>184</td><td>1131</td><td>8</td></tr>\n",
              "\t<tr><td>2014</td><td>1</td><td> 9</td><td>16</td><td>  7</td><td>EV</td><td>EWR</td><td>XNA</td><td>181</td><td>1131</td><td>8</td></tr>\n",
              "\t<tr><td>2014</td><td>1</td><td>13</td><td>66</td><td> 66</td><td>EV</td><td>EWR</td><td>XNA</td><td>188</td><td>1131</td><td>9</td></tr>\n",
              "</tbody>\n",
              "</table>\n"
            ]
          },
          "metadata": {
            "tags": []
          }
        }
      ]
    },
    {
      "cell_type": "markdown",
      "metadata": {
        "id": "Py2fLT_AJk6k"
      },
      "source": [
        "En este caso la función `order()` está optimizada mediante una función interna de `data.table`: `forder()`. "
      ]
    },
    {
      "cell_type": "markdown",
      "metadata": {
        "id": "pwq2d51LhATA"
      },
      "source": [
        "#### Seleccionando columnas con `j`\n",
        "\n",
        "Primero obtengamos una columna como un `vector`\n",
        "\n",
        "```R\n",
        "ans <- flights[, arr_delay]\n",
        "head(ans)\n",
        "```\n"
      ]
    },
    {
      "cell_type": "code",
      "metadata": {
        "colab": {
          "base_uri": "https://localhost:8080/",
          "height": 34
        },
        "id": "cctBZ3wfZ9YC",
        "outputId": "b58cf3ef-8bd9-4f14-ed16-282bb5fc2d33"
      },
      "source": [
        "ans <- flights[, arr_delay]\n",
        "class(ans)"
      ],
      "execution_count": null,
      "outputs": [
        {
          "output_type": "display_data",
          "data": {
            "text/plain": [
              "[1] \"integer\""
            ],
            "text/latex": "'integer'",
            "text/markdown": "'integer'",
            "text/html": [
              "'integer'"
            ]
          },
          "metadata": {
            "tags": []
          }
        }
      ]
    },
    {
      "cell_type": "markdown",
      "metadata": {
        "id": "ACi4siVMjtUR"
      },
      "source": [
        "Para recuperar una columna como un `data.table`\n",
        "\n",
        "```R\n",
        "ans <- flights[, list(arr_delay)]\n",
        "head(ans)\n",
        "```"
      ]
    },
    {
      "cell_type": "code",
      "metadata": {
        "colab": {
          "base_uri": "https://localhost:8080/",
          "height": 293
        },
        "id": "QLDhZnixaOb1",
        "outputId": "0c958cfe-9103-4597-c6c1-b486da8adea2"
      },
      "source": [
        "ans <- flights[, list(arr_delay)]\n",
        "head(ans)"
      ],
      "execution_count": null,
      "outputs": [
        {
          "output_type": "display_data",
          "data": {
            "text/plain": [
              "  arr_delay\n",
              "1  13      \n",
              "2  13      \n",
              "3   9      \n",
              "4 -26      \n",
              "5   1      \n",
              "6   0      "
            ],
            "text/latex": "A data.table: 6 × 1\n\\begin{tabular}{l}\n arr\\_delay\\\\\n <int>\\\\\n\\hline\n\t  13\\\\\n\t  13\\\\\n\t   9\\\\\n\t -26\\\\\n\t   1\\\\\n\t   0\\\\\n\\end{tabular}\n",
            "text/markdown": "\nA data.table: 6 × 1\n\n| arr_delay &lt;int&gt; |\n|---|\n|  13 |\n|  13 |\n|   9 |\n| -26 |\n|   1 |\n|   0 |\n\n",
            "text/html": [
              "<table class=\"dataframe\">\n",
              "<caption>A data.table: 6 × 1</caption>\n",
              "<thead>\n",
              "\t<tr><th scope=col>arr_delay</th></tr>\n",
              "\t<tr><th scope=col>&lt;int&gt;</th></tr>\n",
              "</thead>\n",
              "<tbody>\n",
              "\t<tr><td> 13</td></tr>\n",
              "\t<tr><td> 13</td></tr>\n",
              "\t<tr><td>  9</td></tr>\n",
              "\t<tr><td>-26</td></tr>\n",
              "\t<tr><td>  1</td></tr>\n",
              "\t<tr><td>  0</td></tr>\n",
              "</tbody>\n",
              "</table>\n"
            ]
          },
          "metadata": {
            "tags": []
          }
        }
      ]
    },
    {
      "cell_type": "markdown",
      "metadata": {
        "id": "WuDG-GZ2L9BB"
      },
      "source": [
        "la función `list()` asegura que una columna sea regresada como un `data.table`, no obstante es viable utilizar la abreviatura `.()` misma que tiene el mismo efecto.\n",
        "\n",
        "Pensemos en esta forma como una _expresión j_, mientras en esa expresión se obtengan listas, el resultado será un `data.table`\n",
        "\n",
        "```R\n",
        "ans <- flights[, .(arr_delay, dep_delay)]\n",
        "head(ans)\n",
        "```"
      ]
    },
    {
      "cell_type": "code",
      "metadata": {
        "colab": {
          "base_uri": "https://localhost:8080/",
          "height": 276
        },
        "id": "Nyxsc4fOabDf",
        "outputId": "75d958fb-d12d-4b1e-8696-aa8a2e3a5113"
      },
      "source": [
        "ans <- flights[, .(arr_delay, dep_delay)]\n",
        "head(ans)"
      ],
      "execution_count": null,
      "outputs": [
        {
          "output_type": "display_data",
          "data": {
            "text/plain": [
              "  arr_delay dep_delay\n",
              "1  13       14       \n",
              "2  13       -3       \n",
              "3   9        2       \n",
              "4 -26       -8       \n",
              "5   1        2       \n",
              "6   0        4       "
            ],
            "text/latex": "A data.table: 6 × 2\n\\begin{tabular}{ll}\n arr\\_delay & dep\\_delay\\\\\n <int> & <int>\\\\\n\\hline\n\t  13 & 14\\\\\n\t  13 & -3\\\\\n\t   9 &  2\\\\\n\t -26 & -8\\\\\n\t   1 &  2\\\\\n\t   0 &  4\\\\\n\\end{tabular}\n",
            "text/markdown": "\nA data.table: 6 × 2\n\n| arr_delay &lt;int&gt; | dep_delay &lt;int&gt; |\n|---|---|\n|  13 | 14 |\n|  13 | -3 |\n|   9 |  2 |\n| -26 | -8 |\n|   1 |  2 |\n|   0 |  4 |\n\n",
            "text/html": [
              "<table class=\"dataframe\">\n",
              "<caption>A data.table: 6 × 2</caption>\n",
              "<thead>\n",
              "\t<tr><th scope=col>arr_delay</th><th scope=col>dep_delay</th></tr>\n",
              "\t<tr><th scope=col>&lt;int&gt;</th><th scope=col>&lt;int&gt;</th></tr>\n",
              "</thead>\n",
              "<tbody>\n",
              "\t<tr><td> 13</td><td>14</td></tr>\n",
              "\t<tr><td> 13</td><td>-3</td></tr>\n",
              "\t<tr><td>  9</td><td> 2</td></tr>\n",
              "\t<tr><td>-26</td><td>-8</td></tr>\n",
              "\t<tr><td>  1</td><td> 2</td></tr>\n",
              "\t<tr><td>  0</td><td> 4</td></tr>\n",
              "</tbody>\n",
              "</table>\n"
            ]
          },
          "metadata": {
            "tags": []
          }
        }
      ]
    },
    {
      "cell_type": "markdown",
      "metadata": {
        "id": "U_m0GkScNP4c"
      },
      "source": [
        "#### Calculando en `j`\n",
        "\n",
        "\n",
        "Realizar operaciones usando _expresiones j_ es muy sencillo:\n",
        "\n",
        "```R\n",
        "ans <- flights[, sum( (arr_delay + dep_delay) < 0 )]\n",
        "ans\n",
        "```\n"
      ]
    },
    {
      "cell_type": "code",
      "metadata": {
        "colab": {
          "base_uri": "https://localhost:8080/",
          "height": 34
        },
        "id": "ibnNGOV-aqWG",
        "outputId": "b3be54d5-1694-4701-d3c7-b447d5daec3d"
      },
      "source": [
        "ans <- flights[, sum( (arr_delay + dep_delay) < 0 )]\n",
        "ans"
      ],
      "execution_count": null,
      "outputs": [
        {
          "output_type": "display_data",
          "data": {
            "text/plain": [
              "[1] 141814"
            ],
            "text/latex": "141814",
            "text/markdown": "141814",
            "text/html": [
              "141814"
            ]
          },
          "metadata": {
            "tags": []
          }
        }
      ]
    },
    {
      "cell_type": "markdown",
      "metadata": {
        "id": "V6-ntOdBNy8i"
      },
      "source": [
        "Esto se interpreta como calcula cuántos viajes tienen un retraso total menor a 0"
      ]
    },
    {
      "cell_type": "markdown",
      "metadata": {
        "id": "1YmVrkmbOP8C"
      },
      "source": [
        "#### Seleccionando en `i` y calculando en `j`\n",
        "\n",
        "Revisemos cuál es el retraso promedio de los arribos y salidas de todos los vuelos del aeropuerto \"JFK\" en el mes de junio:\n",
        "\n",
        "```R\n",
        "ans <- flights[origin == \"JFK\" & month == 6L,\n",
        "               .(m_arr = mean(arr_delay), m_dep = mean(dep_delay))]\n",
        "ans\n",
        "```"
      ]
    },
    {
      "cell_type": "code",
      "metadata": {
        "colab": {
          "base_uri": "https://localhost:8080/",
          "height": 125
        },
        "id": "RH4u51OmbQWy",
        "outputId": "3de3f47c-5f53-4ddc-d599-df27282e618c"
      },
      "source": [
        "ans <- flights[origin == \"JFK\" & month == 6L,\n",
        "               .(m_arr = mean(arr_delay), m_dep = mean(dep_delay))]\n",
        "ans"
      ],
      "execution_count": null,
      "outputs": [
        {
          "output_type": "display_data",
          "data": {
            "text/plain": [
              "  m_arr    m_dep   \n",
              "1 5.839349 9.807884"
            ],
            "text/latex": "A data.table: 1 × 2\n\\begin{tabular}{ll}\n m\\_arr & m\\_dep\\\\\n <dbl> & <dbl>\\\\\n\\hline\n\t 5.839349 & 9.807884\\\\\n\\end{tabular}\n",
            "text/markdown": "\nA data.table: 1 × 2\n\n| m_arr &lt;dbl&gt; | m_dep &lt;dbl&gt; |\n|---|---|\n| 5.839349 | 9.807884 |\n\n",
            "text/html": [
              "<table class=\"dataframe\">\n",
              "<caption>A data.table: 1 × 2</caption>\n",
              "<thead>\n",
              "\t<tr><th scope=col>m_arr</th><th scope=col>m_dep</th></tr>\n",
              "\t<tr><th scope=col>&lt;dbl&gt;</th><th scope=col>&lt;dbl&gt;</th></tr>\n",
              "</thead>\n",
              "<tbody>\n",
              "\t<tr><td>5.839349</td><td>9.807884</td></tr>\n",
              "</tbody>\n",
              "</table>\n"
            ]
          },
          "metadata": {
            "tags": []
          }
        }
      ]
    },
    {
      "cell_type": "markdown",
      "metadata": {
        "id": "m5kNBsKfPV5D"
      },
      "source": [
        "Calculemos cuántos viajes se hicieron en 2014 que partieron del aeropuerto \"JFK\" en junio.\n",
        "\n",
        "```R\n",
        "ans <- flights[origin == \"JFK\" & month == 6L, .N]\n",
        "ans\n",
        "```\n",
        "\n",
        "Nótese que hay un símbolo especial `.N` el cual es una variable especial de `data.table` que contiene el numero de observaciones "
      ]
    },
    {
      "cell_type": "code",
      "metadata": {
        "colab": {
          "base_uri": "https://localhost:8080/",
          "height": 34
        },
        "id": "F5kfBp3obk_o",
        "outputId": "e680b338-b142-4db7-afb4-9c28965c842a"
      },
      "source": [
        "ans <- flights[origin == \"JFK\" & month == 6L, .N]\n",
        "ans"
      ],
      "execution_count": null,
      "outputs": [
        {
          "output_type": "display_data",
          "data": {
            "text/plain": [
              "[1] 8422"
            ],
            "text/latex": "8422",
            "text/markdown": "8422",
            "text/html": [
              "8422"
            ]
          },
          "metadata": {
            "tags": []
          }
        }
      ]
    },
    {
      "cell_type": "markdown",
      "metadata": {
        "id": "PB6_Ne0OQwVS"
      },
      "source": [
        "#### Agrupando usando `by`\n",
        "\n",
        "Veamos como obtener el conteo de vuelos de diferentes aeropuertos:\n",
        "\n",
        "```R\n",
        "ans <- flights[, .(.N), by = .(origin)]\n",
        "ans\n",
        "```"
      ]
    },
    {
      "cell_type": "code",
      "metadata": {
        "colab": {
          "base_uri": "https://localhost:8080/",
          "height": 185
        },
        "id": "WCetnaShbxuw",
        "outputId": "2789eda8-cc18-4c81-db16-9df07bb0a183"
      },
      "source": [
        "ans <- flights[, .(.N), by = .(origin)]\n",
        "ans"
      ],
      "execution_count": null,
      "outputs": [
        {
          "output_type": "display_data",
          "data": {
            "text/plain": [
              "  origin N    \n",
              "1 JFK    81483\n",
              "2 LGA    84433\n",
              "3 EWR    87400"
            ],
            "text/latex": "A data.table: 3 × 2\n\\begin{tabular}{ll}\n origin & N\\\\\n <chr> & <int>\\\\\n\\hline\n\t JFK & 81483\\\\\n\t LGA & 84433\\\\\n\t EWR & 87400\\\\\n\\end{tabular}\n",
            "text/markdown": "\nA data.table: 3 × 2\n\n| origin &lt;chr&gt; | N &lt;int&gt; |\n|---|---|\n| JFK | 81483 |\n| LGA | 84433 |\n| EWR | 87400 |\n\n",
            "text/html": [
              "<table class=\"dataframe\">\n",
              "<caption>A data.table: 3 × 2</caption>\n",
              "<thead>\n",
              "\t<tr><th scope=col>origin</th><th scope=col>N</th></tr>\n",
              "\t<tr><th scope=col>&lt;chr&gt;</th><th scope=col>&lt;int&gt;</th></tr>\n",
              "</thead>\n",
              "<tbody>\n",
              "\t<tr><td>JFK</td><td>81483</td></tr>\n",
              "\t<tr><td>LGA</td><td>84433</td></tr>\n",
              "\t<tr><td>EWR</td><td>87400</td></tr>\n",
              "</tbody>\n",
              "</table>\n"
            ]
          },
          "metadata": {
            "tags": []
          }
        }
      ]
    },
    {
      "cell_type": "markdown",
      "metadata": {
        "id": "cKkSMxnxRVe6"
      },
      "source": [
        "Revisemos el total de vuelos que tiene una aerolínea por ruta:\n",
        "\n",
        "```R\n",
        "ans <- flights[carrier == \"AA\", .N, by = .(origin, dest)]\n",
        "head(ans)\n",
        "```"
      ]
    },
    {
      "cell_type": "code",
      "metadata": {
        "colab": {
          "base_uri": "https://localhost:8080/",
          "height": 276
        },
        "id": "A_vRz5uPcDmy",
        "outputId": "35abffb3-821b-449f-db20-09c6dd08bd5d"
      },
      "source": [
        "ans <- flights[carrier == \"AA\", .N, by = .(origin, dest)]\n",
        "head(ans)"
      ],
      "execution_count": null,
      "outputs": [
        {
          "output_type": "display_data",
          "data": {
            "text/plain": [
              "  origin dest N   \n",
              "1 JFK    LAX  3387\n",
              "2 LGA    PBI   245\n",
              "3 EWR    LAX    62\n",
              "4 JFK    MIA  1876\n",
              "5 JFK    SEA   298\n",
              "6 EWR    MIA   848"
            ],
            "text/latex": "A data.table: 6 × 3\n\\begin{tabular}{lll}\n origin & dest & N\\\\\n <chr> & <chr> & <int>\\\\\n\\hline\n\t JFK & LAX & 3387\\\\\n\t LGA & PBI &  245\\\\\n\t EWR & LAX &   62\\\\\n\t JFK & MIA & 1876\\\\\n\t JFK & SEA &  298\\\\\n\t EWR & MIA &  848\\\\\n\\end{tabular}\n",
            "text/markdown": "\nA data.table: 6 × 3\n\n| origin &lt;chr&gt; | dest &lt;chr&gt; | N &lt;int&gt; |\n|---|---|---|\n| JFK | LAX | 3387 |\n| LGA | PBI |  245 |\n| EWR | LAX |   62 |\n| JFK | MIA | 1876 |\n| JFK | SEA |  298 |\n| EWR | MIA |  848 |\n\n",
            "text/html": [
              "<table class=\"dataframe\">\n",
              "<caption>A data.table: 6 × 3</caption>\n",
              "<thead>\n",
              "\t<tr><th scope=col>origin</th><th scope=col>dest</th><th scope=col>N</th></tr>\n",
              "\t<tr><th scope=col>&lt;chr&gt;</th><th scope=col>&lt;chr&gt;</th><th scope=col>&lt;int&gt;</th></tr>\n",
              "</thead>\n",
              "<tbody>\n",
              "\t<tr><td>JFK</td><td>LAX</td><td>3387</td></tr>\n",
              "\t<tr><td>LGA</td><td>PBI</td><td> 245</td></tr>\n",
              "\t<tr><td>EWR</td><td>LAX</td><td>  62</td></tr>\n",
              "\t<tr><td>JFK</td><td>MIA</td><td>1876</td></tr>\n",
              "\t<tr><td>JFK</td><td>SEA</td><td> 298</td></tr>\n",
              "\t<tr><td>EWR</td><td>MIA</td><td> 848</td></tr>\n",
              "</tbody>\n",
              "</table>\n"
            ]
          },
          "metadata": {
            "tags": []
          }
        }
      ]
    },
    {
      "cell_type": "markdown",
      "metadata": {
        "id": "NQfAnFHYRoJJ"
      },
      "source": [
        "Ahora calculemos el promedio que tienen los retrasos de una aerolínea en particular y agrupemos por las rutas de vuelo y los meses\n",
        "\n",
        "```R\n",
        "ans <- flights[carrier == \"AA\",\n",
        "        .(mean(arr_delay), mean(dep_delay)),\n",
        "        by = .(origin, dest, month)]\n",
        "ans\n",
        "```"
      ]
    },
    {
      "cell_type": "code",
      "metadata": {
        "colab": {
          "base_uri": "https://localhost:8080/",
          "height": 1000
        },
        "id": "ofgkANl3cMyC",
        "outputId": "84daaabd-7c73-46db-b2dc-1d37347383f0"
      },
      "source": [
        "ans <- flights[carrier == \"AA\",\n",
        "        .(mean(arr_delay), mean(dep_delay)),\n",
        "        by = .(origin, dest, month)]\n",
        "ans"
      ],
      "execution_count": null,
      "outputs": [
        {
          "output_type": "display_data",
          "data": {
            "text/plain": [
              "    origin dest month V1          V2        \n",
              "1   JFK    LAX  1       6.5903614 14.2289157\n",
              "2   LGA    PBI  1      -7.7586207  0.3103448\n",
              "3   EWR    LAX  1       1.3666667  7.5000000\n",
              "4   JFK    MIA  1      15.7206704 18.7430168\n",
              "5   JFK    SEA  1      14.3571429 30.7500000\n",
              "6   EWR    MIA  1      11.0112360 12.1235955\n",
              "7   JFK    SFO  1      19.2522523 28.6396396\n",
              "8   JFK    BOS  1      12.9196429 15.2142857\n",
              "9   JFK    ORD  1      31.5862069 40.1724138\n",
              "10  JFK    IAH  1      28.8571429 14.2857143\n",
              "11  JFK    AUS  1      25.2000000 27.6000000\n",
              "12  EWR    DFW  1       6.4276730 10.0125786\n",
              "13  LGA    ORD  1       8.4402332 10.1195335\n",
              "14  JFK    STT  1      18.9310345 21.3793103\n",
              "15  JFK    SJU  1      18.9204545 20.2272727\n",
              "16  LGA    MIA  1       6.1300000  5.4175000\n",
              "17  LGA    DFW  1       0.5295699  7.7580645\n",
              "18  JFK    LAS  1      17.6949153 19.1525424\n",
              "19  JFK    MCO  1      10.5762712 13.8813559\n",
              "20  JFK    EGE  1      23.1111111 32.5185185\n",
              "21  JFK    DFW  1     -11.9000000  8.8000000\n",
              "22  JFK    SAN  1      11.5555556 12.4814815\n",
              "23  JFK    LAX  2      22.7520000 15.0800000\n",
              "24  LGA    PBI  2      -7.8653846  2.4038462\n",
              "25  JFK    LAS  2      22.2884615 11.8653846\n",
              "26  JFK    MIA  2      10.4329268 20.1768293\n",
              "27  JFK    SFO  2      35.4059406 28.7920792\n",
              "28  JFK    DFW  2      -2.8888889 12.0740741\n",
              "29  JFK    SAN  2      31.0000000 18.3928571\n",
              "30  JFK    BOS  2      11.1800000 11.7600000\n",
              "⋮   ⋮      ⋮    ⋮     ⋮           ⋮         \n",
              "171 JFK    SJU   9      1.6875000 11.3750000\n",
              "172 LGA    ORD   9      4.3311547  3.7843137\n",
              "173 EWR    DFW   9      5.8650307 13.0552147\n",
              "174 EWR    MIA   9     -0.9062500  0.3593750\n",
              "175 JFK    DCA   9      5.1034483 -2.2413793\n",
              "176 LGA    DFW   9     -8.7877238 -0.2557545\n",
              "177 JFK    MIA   9     -2.5550239  6.2775120\n",
              "178 LGA    MIA   9     -8.5799257 -4.0408922\n",
              "179 JFK    MCO   9    -10.0666667 -3.5333333\n",
              "180 JFK    AUS   9     16.2666667 14.3666667\n",
              "181 EWR    PHX   9     -4.2333333 -1.6666667\n",
              "182 JFK    LAX  10     -0.9594937  6.2151899\n",
              "183 JFK    SFO  10      8.1633987  7.6274510\n",
              "184 JFK    BOS  10     11.5000000 10.2704918\n",
              "185 JFK    SAN  10     16.2258065 12.4838710\n",
              "186 JFK    ORD  10     23.0645161 17.6451613\n",
              "187 JFK    LAS  10     18.2258065 14.5483871\n",
              "188 JFK    DFW  10      2.2622951  3.0491803\n",
              "189 JFK    SJU  10      1.7419355 17.1290323\n",
              "190 JFK    SEA  10      1.0322581  4.9032258\n",
              "191 LGA    ORD  10     15.4661191 12.9117043\n",
              "192 EWR    DFW  10     18.8136646 18.8944099\n",
              "193 JFK    AUS  10      3.2903226  6.2903226\n",
              "194 EWR    MIA  10     -4.4754098 -3.7868852\n",
              "195 LGA    DFW  10      3.5000000  4.5527638\n",
              "196 LGA    MIA  10     -6.2517986 -1.4208633\n",
              "197 JFK    MIA  10     -1.8801843  6.6774194\n",
              "198 EWR    PHX  10     -3.0322581 -4.2903226\n",
              "199 JFK    MCO  10    -10.0483871 -1.6129032\n",
              "200 JFK    DCA  10     16.4838710 15.5161290"
            ],
            "text/latex": "A data.table: 200 × 5\n\\begin{tabular}{lllll}\n origin & dest & month & V1 & V2\\\\\n <chr> & <chr> & <int> & <dbl> & <dbl>\\\\\n\\hline\n\t JFK & LAX & 1 &   6.5903614 & 14.2289157\\\\\n\t LGA & PBI & 1 &  -7.7586207 &  0.3103448\\\\\n\t EWR & LAX & 1 &   1.3666667 &  7.5000000\\\\\n\t JFK & MIA & 1 &  15.7206704 & 18.7430168\\\\\n\t JFK & SEA & 1 &  14.3571429 & 30.7500000\\\\\n\t EWR & MIA & 1 &  11.0112360 & 12.1235955\\\\\n\t JFK & SFO & 1 &  19.2522523 & 28.6396396\\\\\n\t JFK & BOS & 1 &  12.9196429 & 15.2142857\\\\\n\t JFK & ORD & 1 &  31.5862069 & 40.1724138\\\\\n\t JFK & IAH & 1 &  28.8571429 & 14.2857143\\\\\n\t JFK & AUS & 1 &  25.2000000 & 27.6000000\\\\\n\t EWR & DFW & 1 &   6.4276730 & 10.0125786\\\\\n\t LGA & ORD & 1 &   8.4402332 & 10.1195335\\\\\n\t JFK & STT & 1 &  18.9310345 & 21.3793103\\\\\n\t JFK & SJU & 1 &  18.9204545 & 20.2272727\\\\\n\t LGA & MIA & 1 &   6.1300000 &  5.4175000\\\\\n\t LGA & DFW & 1 &   0.5295699 &  7.7580645\\\\\n\t JFK & LAS & 1 &  17.6949153 & 19.1525424\\\\\n\t JFK & MCO & 1 &  10.5762712 & 13.8813559\\\\\n\t JFK & EGE & 1 &  23.1111111 & 32.5185185\\\\\n\t JFK & DFW & 1 & -11.9000000 &  8.8000000\\\\\n\t JFK & SAN & 1 &  11.5555556 & 12.4814815\\\\\n\t JFK & LAX & 2 &  22.7520000 & 15.0800000\\\\\n\t LGA & PBI & 2 &  -7.8653846 &  2.4038462\\\\\n\t JFK & LAS & 2 &  22.2884615 & 11.8653846\\\\\n\t JFK & MIA & 2 &  10.4329268 & 20.1768293\\\\\n\t JFK & SFO & 2 &  35.4059406 & 28.7920792\\\\\n\t JFK & DFW & 2 &  -2.8888889 & 12.0740741\\\\\n\t JFK & SAN & 2 &  31.0000000 & 18.3928571\\\\\n\t JFK & BOS & 2 &  11.1800000 & 11.7600000\\\\\n\t ⋮ & ⋮ & ⋮ & ⋮ & ⋮\\\\\n\t JFK & SJU &  9 &   1.6875000 & 11.3750000\\\\\n\t LGA & ORD &  9 &   4.3311547 &  3.7843137\\\\\n\t EWR & DFW &  9 &   5.8650307 & 13.0552147\\\\\n\t EWR & MIA &  9 &  -0.9062500 &  0.3593750\\\\\n\t JFK & DCA &  9 &   5.1034483 & -2.2413793\\\\\n\t LGA & DFW &  9 &  -8.7877238 & -0.2557545\\\\\n\t JFK & MIA &  9 &  -2.5550239 &  6.2775120\\\\\n\t LGA & MIA &  9 &  -8.5799257 & -4.0408922\\\\\n\t JFK & MCO &  9 & -10.0666667 & -3.5333333\\\\\n\t JFK & AUS &  9 &  16.2666667 & 14.3666667\\\\\n\t EWR & PHX &  9 &  -4.2333333 & -1.6666667\\\\\n\t JFK & LAX & 10 &  -0.9594937 &  6.2151899\\\\\n\t JFK & SFO & 10 &   8.1633987 &  7.6274510\\\\\n\t JFK & BOS & 10 &  11.5000000 & 10.2704918\\\\\n\t JFK & SAN & 10 &  16.2258065 & 12.4838710\\\\\n\t JFK & ORD & 10 &  23.0645161 & 17.6451613\\\\\n\t JFK & LAS & 10 &  18.2258065 & 14.5483871\\\\\n\t JFK & DFW & 10 &   2.2622951 &  3.0491803\\\\\n\t JFK & SJU & 10 &   1.7419355 & 17.1290323\\\\\n\t JFK & SEA & 10 &   1.0322581 &  4.9032258\\\\\n\t LGA & ORD & 10 &  15.4661191 & 12.9117043\\\\\n\t EWR & DFW & 10 &  18.8136646 & 18.8944099\\\\\n\t JFK & AUS & 10 &   3.2903226 &  6.2903226\\\\\n\t EWR & MIA & 10 &  -4.4754098 & -3.7868852\\\\\n\t LGA & DFW & 10 &   3.5000000 &  4.5527638\\\\\n\t LGA & MIA & 10 &  -6.2517986 & -1.4208633\\\\\n\t JFK & MIA & 10 &  -1.8801843 &  6.6774194\\\\\n\t EWR & PHX & 10 &  -3.0322581 & -4.2903226\\\\\n\t JFK & MCO & 10 & -10.0483871 & -1.6129032\\\\\n\t JFK & DCA & 10 &  16.4838710 & 15.5161290\\\\\n\\end{tabular}\n",
            "text/markdown": "\nA data.table: 200 × 5\n\n| origin &lt;chr&gt; | dest &lt;chr&gt; | month &lt;int&gt; | V1 &lt;dbl&gt; | V2 &lt;dbl&gt; |\n|---|---|---|---|---|\n| JFK | LAX | 1 |   6.5903614 | 14.2289157 |\n| LGA | PBI | 1 |  -7.7586207 |  0.3103448 |\n| EWR | LAX | 1 |   1.3666667 |  7.5000000 |\n| JFK | MIA | 1 |  15.7206704 | 18.7430168 |\n| JFK | SEA | 1 |  14.3571429 | 30.7500000 |\n| EWR | MIA | 1 |  11.0112360 | 12.1235955 |\n| JFK | SFO | 1 |  19.2522523 | 28.6396396 |\n| JFK | BOS | 1 |  12.9196429 | 15.2142857 |\n| JFK | ORD | 1 |  31.5862069 | 40.1724138 |\n| JFK | IAH | 1 |  28.8571429 | 14.2857143 |\n| JFK | AUS | 1 |  25.2000000 | 27.6000000 |\n| EWR | DFW | 1 |   6.4276730 | 10.0125786 |\n| LGA | ORD | 1 |   8.4402332 | 10.1195335 |\n| JFK | STT | 1 |  18.9310345 | 21.3793103 |\n| JFK | SJU | 1 |  18.9204545 | 20.2272727 |\n| LGA | MIA | 1 |   6.1300000 |  5.4175000 |\n| LGA | DFW | 1 |   0.5295699 |  7.7580645 |\n| JFK | LAS | 1 |  17.6949153 | 19.1525424 |\n| JFK | MCO | 1 |  10.5762712 | 13.8813559 |\n| JFK | EGE | 1 |  23.1111111 | 32.5185185 |\n| JFK | DFW | 1 | -11.9000000 |  8.8000000 |\n| JFK | SAN | 1 |  11.5555556 | 12.4814815 |\n| JFK | LAX | 2 |  22.7520000 | 15.0800000 |\n| LGA | PBI | 2 |  -7.8653846 |  2.4038462 |\n| JFK | LAS | 2 |  22.2884615 | 11.8653846 |\n| JFK | MIA | 2 |  10.4329268 | 20.1768293 |\n| JFK | SFO | 2 |  35.4059406 | 28.7920792 |\n| JFK | DFW | 2 |  -2.8888889 | 12.0740741 |\n| JFK | SAN | 2 |  31.0000000 | 18.3928571 |\n| JFK | BOS | 2 |  11.1800000 | 11.7600000 |\n| ⋮ | ⋮ | ⋮ | ⋮ | ⋮ |\n| JFK | SJU |  9 |   1.6875000 | 11.3750000 |\n| LGA | ORD |  9 |   4.3311547 |  3.7843137 |\n| EWR | DFW |  9 |   5.8650307 | 13.0552147 |\n| EWR | MIA |  9 |  -0.9062500 |  0.3593750 |\n| JFK | DCA |  9 |   5.1034483 | -2.2413793 |\n| LGA | DFW |  9 |  -8.7877238 | -0.2557545 |\n| JFK | MIA |  9 |  -2.5550239 |  6.2775120 |\n| LGA | MIA |  9 |  -8.5799257 | -4.0408922 |\n| JFK | MCO |  9 | -10.0666667 | -3.5333333 |\n| JFK | AUS |  9 |  16.2666667 | 14.3666667 |\n| EWR | PHX |  9 |  -4.2333333 | -1.6666667 |\n| JFK | LAX | 10 |  -0.9594937 |  6.2151899 |\n| JFK | SFO | 10 |   8.1633987 |  7.6274510 |\n| JFK | BOS | 10 |  11.5000000 | 10.2704918 |\n| JFK | SAN | 10 |  16.2258065 | 12.4838710 |\n| JFK | ORD | 10 |  23.0645161 | 17.6451613 |\n| JFK | LAS | 10 |  18.2258065 | 14.5483871 |\n| JFK | DFW | 10 |   2.2622951 |  3.0491803 |\n| JFK | SJU | 10 |   1.7419355 | 17.1290323 |\n| JFK | SEA | 10 |   1.0322581 |  4.9032258 |\n| LGA | ORD | 10 |  15.4661191 | 12.9117043 |\n| EWR | DFW | 10 |  18.8136646 | 18.8944099 |\n| JFK | AUS | 10 |   3.2903226 |  6.2903226 |\n| EWR | MIA | 10 |  -4.4754098 | -3.7868852 |\n| LGA | DFW | 10 |   3.5000000 |  4.5527638 |\n| LGA | MIA | 10 |  -6.2517986 | -1.4208633 |\n| JFK | MIA | 10 |  -1.8801843 |  6.6774194 |\n| EWR | PHX | 10 |  -3.0322581 | -4.2903226 |\n| JFK | MCO | 10 | -10.0483871 | -1.6129032 |\n| JFK | DCA | 10 |  16.4838710 | 15.5161290 |\n\n",
            "text/html": [
              "<table class=\"dataframe\">\n",
              "<caption>A data.table: 200 × 5</caption>\n",
              "<thead>\n",
              "\t<tr><th scope=col>origin</th><th scope=col>dest</th><th scope=col>month</th><th scope=col>V1</th><th scope=col>V2</th></tr>\n",
              "\t<tr><th scope=col>&lt;chr&gt;</th><th scope=col>&lt;chr&gt;</th><th scope=col>&lt;int&gt;</th><th scope=col>&lt;dbl&gt;</th><th scope=col>&lt;dbl&gt;</th></tr>\n",
              "</thead>\n",
              "<tbody>\n",
              "\t<tr><td>JFK</td><td>LAX</td><td>1</td><td>  6.5903614</td><td>14.2289157</td></tr>\n",
              "\t<tr><td>LGA</td><td>PBI</td><td>1</td><td> -7.7586207</td><td> 0.3103448</td></tr>\n",
              "\t<tr><td>EWR</td><td>LAX</td><td>1</td><td>  1.3666667</td><td> 7.5000000</td></tr>\n",
              "\t<tr><td>JFK</td><td>MIA</td><td>1</td><td> 15.7206704</td><td>18.7430168</td></tr>\n",
              "\t<tr><td>JFK</td><td>SEA</td><td>1</td><td> 14.3571429</td><td>30.7500000</td></tr>\n",
              "\t<tr><td>EWR</td><td>MIA</td><td>1</td><td> 11.0112360</td><td>12.1235955</td></tr>\n",
              "\t<tr><td>JFK</td><td>SFO</td><td>1</td><td> 19.2522523</td><td>28.6396396</td></tr>\n",
              "\t<tr><td>JFK</td><td>BOS</td><td>1</td><td> 12.9196429</td><td>15.2142857</td></tr>\n",
              "\t<tr><td>JFK</td><td>ORD</td><td>1</td><td> 31.5862069</td><td>40.1724138</td></tr>\n",
              "\t<tr><td>JFK</td><td>IAH</td><td>1</td><td> 28.8571429</td><td>14.2857143</td></tr>\n",
              "\t<tr><td>JFK</td><td>AUS</td><td>1</td><td> 25.2000000</td><td>27.6000000</td></tr>\n",
              "\t<tr><td>EWR</td><td>DFW</td><td>1</td><td>  6.4276730</td><td>10.0125786</td></tr>\n",
              "\t<tr><td>LGA</td><td>ORD</td><td>1</td><td>  8.4402332</td><td>10.1195335</td></tr>\n",
              "\t<tr><td>JFK</td><td>STT</td><td>1</td><td> 18.9310345</td><td>21.3793103</td></tr>\n",
              "\t<tr><td>JFK</td><td>SJU</td><td>1</td><td> 18.9204545</td><td>20.2272727</td></tr>\n",
              "\t<tr><td>LGA</td><td>MIA</td><td>1</td><td>  6.1300000</td><td> 5.4175000</td></tr>\n",
              "\t<tr><td>LGA</td><td>DFW</td><td>1</td><td>  0.5295699</td><td> 7.7580645</td></tr>\n",
              "\t<tr><td>JFK</td><td>LAS</td><td>1</td><td> 17.6949153</td><td>19.1525424</td></tr>\n",
              "\t<tr><td>JFK</td><td>MCO</td><td>1</td><td> 10.5762712</td><td>13.8813559</td></tr>\n",
              "\t<tr><td>JFK</td><td>EGE</td><td>1</td><td> 23.1111111</td><td>32.5185185</td></tr>\n",
              "\t<tr><td>JFK</td><td>DFW</td><td>1</td><td>-11.9000000</td><td> 8.8000000</td></tr>\n",
              "\t<tr><td>JFK</td><td>SAN</td><td>1</td><td> 11.5555556</td><td>12.4814815</td></tr>\n",
              "\t<tr><td>JFK</td><td>LAX</td><td>2</td><td> 22.7520000</td><td>15.0800000</td></tr>\n",
              "\t<tr><td>LGA</td><td>PBI</td><td>2</td><td> -7.8653846</td><td> 2.4038462</td></tr>\n",
              "\t<tr><td>JFK</td><td>LAS</td><td>2</td><td> 22.2884615</td><td>11.8653846</td></tr>\n",
              "\t<tr><td>JFK</td><td>MIA</td><td>2</td><td> 10.4329268</td><td>20.1768293</td></tr>\n",
              "\t<tr><td>JFK</td><td>SFO</td><td>2</td><td> 35.4059406</td><td>28.7920792</td></tr>\n",
              "\t<tr><td>JFK</td><td>DFW</td><td>2</td><td> -2.8888889</td><td>12.0740741</td></tr>\n",
              "\t<tr><td>JFK</td><td>SAN</td><td>2</td><td> 31.0000000</td><td>18.3928571</td></tr>\n",
              "\t<tr><td>JFK</td><td>BOS</td><td>2</td><td> 11.1800000</td><td>11.7600000</td></tr>\n",
              "\t<tr><td>⋮</td><td>⋮</td><td>⋮</td><td>⋮</td><td>⋮</td></tr>\n",
              "\t<tr><td>JFK</td><td>SJU</td><td> 9</td><td>  1.6875000</td><td>11.3750000</td></tr>\n",
              "\t<tr><td>LGA</td><td>ORD</td><td> 9</td><td>  4.3311547</td><td> 3.7843137</td></tr>\n",
              "\t<tr><td>EWR</td><td>DFW</td><td> 9</td><td>  5.8650307</td><td>13.0552147</td></tr>\n",
              "\t<tr><td>EWR</td><td>MIA</td><td> 9</td><td> -0.9062500</td><td> 0.3593750</td></tr>\n",
              "\t<tr><td>JFK</td><td>DCA</td><td> 9</td><td>  5.1034483</td><td>-2.2413793</td></tr>\n",
              "\t<tr><td>LGA</td><td>DFW</td><td> 9</td><td> -8.7877238</td><td>-0.2557545</td></tr>\n",
              "\t<tr><td>JFK</td><td>MIA</td><td> 9</td><td> -2.5550239</td><td> 6.2775120</td></tr>\n",
              "\t<tr><td>LGA</td><td>MIA</td><td> 9</td><td> -8.5799257</td><td>-4.0408922</td></tr>\n",
              "\t<tr><td>JFK</td><td>MCO</td><td> 9</td><td>-10.0666667</td><td>-3.5333333</td></tr>\n",
              "\t<tr><td>JFK</td><td>AUS</td><td> 9</td><td> 16.2666667</td><td>14.3666667</td></tr>\n",
              "\t<tr><td>EWR</td><td>PHX</td><td> 9</td><td> -4.2333333</td><td>-1.6666667</td></tr>\n",
              "\t<tr><td>JFK</td><td>LAX</td><td>10</td><td> -0.9594937</td><td> 6.2151899</td></tr>\n",
              "\t<tr><td>JFK</td><td>SFO</td><td>10</td><td>  8.1633987</td><td> 7.6274510</td></tr>\n",
              "\t<tr><td>JFK</td><td>BOS</td><td>10</td><td> 11.5000000</td><td>10.2704918</td></tr>\n",
              "\t<tr><td>JFK</td><td>SAN</td><td>10</td><td> 16.2258065</td><td>12.4838710</td></tr>\n",
              "\t<tr><td>JFK</td><td>ORD</td><td>10</td><td> 23.0645161</td><td>17.6451613</td></tr>\n",
              "\t<tr><td>JFK</td><td>LAS</td><td>10</td><td> 18.2258065</td><td>14.5483871</td></tr>\n",
              "\t<tr><td>JFK</td><td>DFW</td><td>10</td><td>  2.2622951</td><td> 3.0491803</td></tr>\n",
              "\t<tr><td>JFK</td><td>SJU</td><td>10</td><td>  1.7419355</td><td>17.1290323</td></tr>\n",
              "\t<tr><td>JFK</td><td>SEA</td><td>10</td><td>  1.0322581</td><td> 4.9032258</td></tr>\n",
              "\t<tr><td>LGA</td><td>ORD</td><td>10</td><td> 15.4661191</td><td>12.9117043</td></tr>\n",
              "\t<tr><td>EWR</td><td>DFW</td><td>10</td><td> 18.8136646</td><td>18.8944099</td></tr>\n",
              "\t<tr><td>JFK</td><td>AUS</td><td>10</td><td>  3.2903226</td><td> 6.2903226</td></tr>\n",
              "\t<tr><td>EWR</td><td>MIA</td><td>10</td><td> -4.4754098</td><td>-3.7868852</td></tr>\n",
              "\t<tr><td>LGA</td><td>DFW</td><td>10</td><td>  3.5000000</td><td> 4.5527638</td></tr>\n",
              "\t<tr><td>LGA</td><td>MIA</td><td>10</td><td> -6.2517986</td><td>-1.4208633</td></tr>\n",
              "\t<tr><td>JFK</td><td>MIA</td><td>10</td><td> -1.8801843</td><td> 6.6774194</td></tr>\n",
              "\t<tr><td>EWR</td><td>PHX</td><td>10</td><td> -3.0322581</td><td>-4.2903226</td></tr>\n",
              "\t<tr><td>JFK</td><td>MCO</td><td>10</td><td>-10.0483871</td><td>-1.6129032</td></tr>\n",
              "\t<tr><td>JFK</td><td>DCA</td><td>10</td><td> 16.4838710</td><td>15.5161290</td></tr>\n",
              "</tbody>\n",
              "</table>\n"
            ]
          },
          "metadata": {
            "tags": []
          }
        }
      ]
    }
  ]
}
